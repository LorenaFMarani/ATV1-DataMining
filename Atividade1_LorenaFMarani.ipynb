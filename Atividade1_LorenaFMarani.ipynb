{
  "cells": [
    {
      "cell_type": "markdown",
      "metadata": {
        "id": "view-in-github",
        "colab_type": "text"
      },
      "source": [
        "<a href=\"https://colab.research.google.com/github/LorenaFMarani/ATV1-DataMining/blob/main/Atividade1_LorenaFMarani.ipynb\" target=\"_parent\"><img src=\"https://colab.research.google.com/assets/colab-badge.svg\" alt=\"Open In Colab\"/></a>"
      ]
    },
    {
      "cell_type": "code",
      "execution_count": 6,
      "metadata": {
        "colab": {
          "base_uri": "https://localhost:8080/"
        },
        "id": "tEvk7VqA4Qvr",
        "outputId": "2a541852-f9fc-4220-bde3-998043074e32"
      },
      "outputs": [
        {
          "output_type": "stream",
          "name": "stderr",
          "text": [
            "Installing package into ‘/usr/local/lib/R/site-library’\n",
            "(as ‘lib’ is unspecified)\n",
            "\n",
            "also installing the dependencies ‘future.apply’, ‘lava’, ‘prodlim’, ‘future’, ‘ipred’, ‘furrr’, ‘recipes’, ‘rsample’, ‘tune’, ‘workflowsets’, ‘yardstick’\n",
            "\n",
            "\n",
            "Installing package into ‘/usr/local/lib/R/site-library’\n",
            "(as ‘lib’ is unspecified)\n",
            "\n"
          ]
        }
      ],
      "source": [
        "install.packages(\"tidymodels\")\n",
        "install.packages(\"skimr\")"
      ]
    },
    {
      "cell_type": "code",
      "execution_count": 7,
      "metadata": {
        "colab": {
          "base_uri": "https://localhost:8080/"
        },
        "id": "y8nJ6WQu1UyF",
        "outputId": "0839441a-ded5-4428-afff-2793b1e3bd7f"
      },
      "outputs": [
        {
          "output_type": "stream",
          "name": "stderr",
          "text": [
            "── \u001b[1mAttaching packages\u001b[22m ────────────────────────────────────── tidymodels 1.0.0 ──\n",
            "\n",
            "\u001b[32m✔\u001b[39m \u001b[34mbroom       \u001b[39m 1.0.1     \u001b[32m✔\u001b[39m \u001b[34mrsample     \u001b[39m 1.1.0\n",
            "\u001b[32m✔\u001b[39m \u001b[34mdials       \u001b[39m 1.0.0     \u001b[32m✔\u001b[39m \u001b[34mtune        \u001b[39m 1.0.1\n",
            "\u001b[32m✔\u001b[39m \u001b[34minfer       \u001b[39m 1.0.3     \u001b[32m✔\u001b[39m \u001b[34mworkflows   \u001b[39m 1.1.0\n",
            "\u001b[32m✔\u001b[39m \u001b[34mmodeldata   \u001b[39m 1.0.1     \u001b[32m✔\u001b[39m \u001b[34mworkflowsets\u001b[39m 1.0.0\n",
            "\u001b[32m✔\u001b[39m \u001b[34mparsnip     \u001b[39m 1.0.2     \u001b[32m✔\u001b[39m \u001b[34myardstick   \u001b[39m 1.1.0\n",
            "\u001b[32m✔\u001b[39m \u001b[34mrecipes     \u001b[39m 1.0.2     \n",
            "\n",
            "── \u001b[1mConflicts\u001b[22m ───────────────────────────────────────── tidymodels_conflicts() ──\n",
            "\u001b[31m✖\u001b[39m \u001b[34mscales\u001b[39m::\u001b[32mdiscard()\u001b[39m masks \u001b[34mpurrr\u001b[39m::discard()\n",
            "\u001b[31m✖\u001b[39m \u001b[34mdplyr\u001b[39m::\u001b[32mfilter()\u001b[39m   masks \u001b[34mstats\u001b[39m::filter()\n",
            "\u001b[31m✖\u001b[39m \u001b[34mrecipes\u001b[39m::\u001b[32mfixed()\u001b[39m  masks \u001b[34mstringr\u001b[39m::fixed()\n",
            "\u001b[31m✖\u001b[39m \u001b[34mdplyr\u001b[39m::\u001b[32mlag()\u001b[39m      masks \u001b[34mstats\u001b[39m::lag()\n",
            "\u001b[31m✖\u001b[39m \u001b[34myardstick\u001b[39m::\u001b[32mspec()\u001b[39m masks \u001b[34mreadr\u001b[39m::spec()\n",
            "\u001b[31m✖\u001b[39m \u001b[34mrecipes\u001b[39m::\u001b[32mstep()\u001b[39m   masks \u001b[34mstats\u001b[39m::step()\n",
            "\u001b[34m•\u001b[39m Dig deeper into tidy modeling with R at \u001b[32mhttps://www.tmwr.org\u001b[39m\n",
            "\n",
            "\n",
            "Attaching package: ‘rpart’\n",
            "\n",
            "\n",
            "The following object is masked from ‘package:dials’:\n",
            "\n",
            "    prune\n",
            "\n",
            "\n"
          ]
        }
      ],
      "source": [
        "library(\"tidyverse\")\n",
        "library(\"tidymodels\")\n",
        "library(\"dplyr\")\n",
        "library(\"rpart\")\n",
        "library(\"skimr\")"
      ]
    },
    {
      "cell_type": "code",
      "execution_count": 8,
      "metadata": {
        "id": "FVBogY_82koe",
        "colab": {
          "base_uri": "https://localhost:8080/",
          "height": 1000
        },
        "outputId": "66714c4c-fa9f-46d6-c7d8-b425b23792ee"
      },
      "outputs": [
        {
          "output_type": "stream",
          "name": "stderr",
          "text": [
            "\u001b[36mℹ\u001b[39m Using \u001b[34m\u001b[34m\"','\"\u001b[34m\u001b[39m as decimal and \u001b[34m\u001b[34m\"'.'\"\u001b[34m\u001b[39m as grouping mark. Use `read_delim()` for more control.\n",
            "\n",
            "\u001b[1mRows: \u001b[22m\u001b[34m6191\u001b[39m \u001b[1mColumns: \u001b[22m\u001b[34m23\u001b[39m\n",
            "\u001b[36m──\u001b[39m \u001b[1mColumn specification\u001b[22m \u001b[36m────────────────────────────────────────────────────────\u001b[39m\n",
            "\u001b[1mDelimiter:\u001b[22m \";\"\n",
            "\u001b[31mchr\u001b[39m (19): aeronave_tipo_veiculo, aeronave_pais_fabricante, aeronave_fabrican...\n",
            "\u001b[32mdbl\u001b[39m  (4): aeronave_fatalidades_total, ocorrencia, aeronave_pmd, aeronave_pmd...\n",
            "\n",
            "\u001b[36mℹ\u001b[39m Use `spec()` to retrieve the full column specification for this data.\n",
            "\u001b[36mℹ\u001b[39m Specify the column types or set `show_col_types = FALSE` to quiet this message.\n"
          ]
        },
        {
          "output_type": "display_data",
          "data": {
            "text/html": [
              "<table class=\"dataframe\">\n",
              "<caption>A tibble: 6177 × 23</caption>\n",
              "<thead>\n",
              "\t<tr><th scope=col>aeronave_tipo_veiculo</th><th scope=col>aeronave_pais_fabricante</th><th scope=col>aeronave_fabricante</th><th scope=col>aeronave_modelo</th><th scope=col>aeronave_ano_fabricacao</th><th scope=col>aeronave_assentos</th><th scope=col>aeronave_motor_tipo</th><th scope=col>aeronave_motor_quantidade</th><th scope=col>aeronave_fase_operacao</th><th scope=col>aeronave_nivel_dano</th><th scope=col>⋯</th><th scope=col>aeronave_operador_categoria</th><th scope=col>aeronave_tipo_icao</th><th scope=col>aeronave_pmd</th><th scope=col>aeronave_pmd_categoria</th><th scope=col>aeronave_pais_registro</th><th scope=col>aeronave_registro_categoria</th><th scope=col>aeronave_registro_segmento</th><th scope=col>aeronave_voo_origem</th><th scope=col>aeronave_voo_destino</th><th scope=col>aeronave_tipo_operacao</th></tr>\n",
              "\t<tr><th scope=col>&lt;chr&gt;</th><th scope=col>&lt;chr&gt;</th><th scope=col>&lt;chr&gt;</th><th scope=col>&lt;chr&gt;</th><th scope=col>&lt;chr&gt;</th><th scope=col>&lt;chr&gt;</th><th scope=col>&lt;chr&gt;</th><th scope=col>&lt;chr&gt;</th><th scope=col>&lt;chr&gt;</th><th scope=col>&lt;chr&gt;</th><th scope=col>⋯</th><th scope=col>&lt;chr&gt;</th><th scope=col>&lt;chr&gt;</th><th scope=col>&lt;dbl&gt;</th><th scope=col>&lt;dbl&gt;</th><th scope=col>&lt;chr&gt;</th><th scope=col>&lt;chr&gt;</th><th scope=col>&lt;chr&gt;</th><th scope=col>&lt;chr&gt;</th><th scope=col>&lt;chr&gt;</th><th scope=col>&lt;chr&gt;</th></tr>\n",
              "</thead>\n",
              "<tbody>\n",
              "\t<tr><td>AVIÃO      </td><td>BRASIL        </td><td>EMBRAER                    </td><td>EMB-820C NAVAJO</td><td>1976</td><td>10 </td><td>PISTÃO    </td><td>BIMOTOR  </td><td>POUSO              </td><td>SUBSTANCIAL</td><td>⋯</td><td>***          </td><td>PA31</td><td>  3175</td><td>  3175</td><td>BRASIL        </td><td>AVIÃO      </td><td>TÁXI AÉREO   </td><td>DEPUTADO LUÍS EDUARDO MAGALHÃES</td><td>FAZENDA PONTAL              </td><td>TÁXI AÉREO   </td></tr>\n",
              "\t<tr><td>HELICÓPTERO</td><td>BRASIL        </td><td>ROBINSON HELICOPTER        </td><td>R22 BETA       </td><td>1991</td><td>2  </td><td>PISTÃO    </td><td>MONOMOTOR</td><td>MANOBRA            </td><td>SUBSTANCIAL</td><td>⋯</td><td>***          </td><td>R22 </td><td>   621</td><td>   621</td><td>BRASIL        </td><td>HELICÓPTERO</td><td>INSTRUÇÃO    </td><td>FORA DE AERODROMO              </td><td>FORA DE AERODROMO           </td><td>INSTRUÇÃO    </td></tr>\n",
              "\t<tr><td>AVIÃO      </td><td>BRASIL        </td><td>AIR TRACTOR                </td><td>AT-401B        </td><td>1994</td><td>1  </td><td>PISTÃO    </td><td>MONOMOTOR</td><td>ESPECIALIZADA      </td><td>LEVE       </td><td>⋯</td><td>ESPECIALIZADA</td><td>AT3P</td><td>  2722</td><td>  2722</td><td>BRASIL        </td><td>AVIÃO      </td><td>ESPECIALIZADA</td><td>FORA DE AERODROMO              </td><td>FORA DE AERODROMO           </td><td>ESPECIALIZADA</td></tr>\n",
              "\t<tr><td>AVIÃO      </td><td>BRASIL        </td><td>BOEING COMPANY             </td><td>737-8EH        </td><td>2009</td><td>197</td><td>JATO      </td><td>BIMOTOR  </td><td>DESCIDA            </td><td>NENHUM     </td><td>⋯</td><td>REGULAR      </td><td>B738</td><td> 70533</td><td> 70533</td><td>BRASIL        </td><td>AVIÃO      </td><td>REGULAR      </td><td>FORA DE AERODROMO              </td><td>FORA DE AERODROMO           </td><td>REGULAR      </td></tr>\n",
              "\t<tr><td>AVIÃO      </td><td>BRASIL        </td><td>EMBRAER                    </td><td>EMB-145LR      </td><td>2001</td><td>54 </td><td>JATO      </td><td>BIMOTOR  </td><td>CORRIDA APÓS POUSO </td><td>NENHUM     </td><td>⋯</td><td>***          </td><td>E145</td><td> 21990</td><td> 21990</td><td>BRASIL        </td><td>AVIÃO      </td><td>REGULAR      </td><td>FORA DE AERODROMO              </td><td>FORA DE AERODROMO           </td><td>REGULAR      </td></tr>\n",
              "\t<tr><td>AVIÃO      </td><td>BRASIL        </td><td>AEROSPATIALE AND ALENIA    </td><td>ATR-42-320     </td><td>1993</td><td>50 </td><td>TURBOÉLICE</td><td>BIMOTOR  </td><td>DECOLAGEM          </td><td>LEVE       </td><td>⋯</td><td>REGULAR      </td><td>AT43</td><td> 16700</td><td> 16700</td><td>BRASIL        </td><td>AVIÃO      </td><td>REGULAR      </td><td>FORA DE AERODROMO              </td><td>FORA DE AERODROMO           </td><td>REGULAR      </td></tr>\n",
              "\t<tr><td>AVIÃO      </td><td>ESTADOS UNIDOS</td><td>MCDONNELL DOUGLAS          </td><td>DC-10-30F      </td><td>1980</td><td>0  </td><td>PISTÃO    </td><td>TRIMOTOR </td><td>CORRIDA APÓS POUSO </td><td>LEVE       </td><td>⋯</td><td>***          </td><td>DC10</td><td>256280</td><td>256280</td><td>ESTADOS UNIDOS</td><td>AVIÃO      </td><td>***          </td><td>FORA DE AERODROMO              </td><td>FORA DE AERODROMO           </td><td>***          </td></tr>\n",
              "\t<tr><td>AVIÃO      </td><td>BRASIL        </td><td>BEECH AIRCRAFT             </td><td>B300           </td><td>0   </td><td>11 </td><td>TURBOÉLICE</td><td>BIMOTOR  </td><td>TÁXI               </td><td>NENHUM     </td><td>⋯</td><td>PARTICULAR   </td><td>B350</td><td>  6804</td><td>  6804</td><td>BRASIL        </td><td>AVIÃO      </td><td>PARTICULAR   </td><td>FORA DE AERODROMO              </td><td>FORA DE AERODROMO           </td><td>PRIVADA      </td></tr>\n",
              "\t<tr><td>AVIÃO      </td><td>BRASIL        </td><td>AERO BOERO                 </td><td>AB-115         </td><td>1993</td><td>3  </td><td>PISTÃO    </td><td>MONOMOTOR</td><td>CORRIDA APÓS POUSO </td><td>LEVE       </td><td>⋯</td><td>INSTRUÇÃO    </td><td>AB11</td><td>   770</td><td>   770</td><td>BRASIL        </td><td>AVIÃO      </td><td>INSTRUÇÃO    </td><td>FORA DE AERODROMO              </td><td>FORA DE AERODROMO           </td><td>INSTRUÇÃO    </td></tr>\n",
              "\t<tr><td>AVIÃO      </td><td>BRASIL        </td><td>XAVANTE                    </td><td>A-122-B        </td><td>1978</td><td>2  </td><td>PISTÃO    </td><td>MONOMOTOR</td><td>CORRIDA APÓS POUSO </td><td>NENHUM     </td><td>⋯</td><td>INSTRUÇÃO    </td><td>A122</td><td>   840</td><td>   840</td><td>BRASIL        </td><td>AVIÃO      </td><td>INSTRUÇÃO    </td><td>FORA DE AERODROMO              </td><td>FORA DE AERODROMO           </td><td>INSTRUÇÃO    </td></tr>\n",
              "\t<tr><td>AVIÃO      </td><td>BRASIL        </td><td>EMBRAER                    </td><td>EMB-810C       </td><td>1981</td><td>6  </td><td>PISTÃO    </td><td>BIMOTOR  </td><td>CRUZEIRO           </td><td>LEVE       </td><td>⋯</td><td>TÁXI AÉREO   </td><td>PA34</td><td>  2073</td><td>  2073</td><td>BRASIL        </td><td>AVIÃO      </td><td>TÁXI AÉREO   </td><td>FORA DE AERODROMO              </td><td>FORA DE AERODROMO           </td><td>TÁXI AÉREO   </td></tr>\n",
              "\t<tr><td>AVIÃO      </td><td>BRASIL        </td><td>AIRBUS INDUSTRIE           </td><td>A320-214       </td><td>2008</td><td>184</td><td>JATO      </td><td>BIMOTOR  </td><td>DESCIDA            </td><td>NENHUM     </td><td>⋯</td><td>REGULAR      </td><td>A320</td><td> 77000</td><td> 77000</td><td>BRASIL        </td><td>AVIÃO      </td><td>REGULAR      </td><td>PRESIDENTE JUSCELINO KUBITSCHEK</td><td>GUARARAPES - GILBERTO FREYRE</td><td>REGULAR      </td></tr>\n",
              "\t<tr><td>AVIÃO      </td><td>BRASIL        </td><td>NEIVA INDUSTRIA AERONAUTICA</td><td>EMB-712        </td><td>1980</td><td>4  </td><td>PISTÃO    </td><td>MONOMOTOR</td><td>CIRCUITO DE TRÁFEGO</td><td>NENHUM     </td><td>⋯</td><td>INSTRUÇÃO    </td><td>P28A</td><td>   930</td><td>   930</td><td>BRASIL        </td><td>AVIÃO      </td><td>INSTRUÇÃO    </td><td>FORA DE AERODROMO              </td><td>FORA DE AERODROMO           </td><td>INSTRUÇÃO    </td></tr>\n",
              "\t<tr><td>HELICÓPTERO</td><td>BRASIL        </td><td>SIKORSKY AIRCRAFT          </td><td>S-76A          </td><td>1980</td><td>14 </td><td>TURBOEIXO </td><td>BIMOTOR  </td><td>CRUZEIRO           </td><td>NENHUM     </td><td>⋯</td><td>TÁXI AÉREO   </td><td>S76 </td><td>  4763</td><td>  4763</td><td>BRASIL        </td><td>HELICÓPTERO</td><td>TÁXI AÉREO   </td><td>FORA DE AERODROMO              </td><td>FORA DE AERODROMO           </td><td>TÁXI AÉREO   </td></tr>\n",
              "\t<tr><td>HELICÓPTERO</td><td>BRASIL        </td><td>AGUSTA                     </td><td>AW139          </td><td>2009</td><td>17 </td><td>TURBOEIXO </td><td>BIMOTOR  </td><td>POUSO              </td><td>NENHUM     </td><td>⋯</td><td>TÁXI AÉREO   </td><td>A139</td><td>  6800</td><td>  6800</td><td>BRASIL        </td><td>HELICÓPTERO</td><td>TÁXI AÉREO   </td><td>FORA DE AERODROMO              </td><td>FORA DE AERODROMO           </td><td>TÁXI AÉREO   </td></tr>\n",
              "\t<tr><td>HELICÓPTERO</td><td>BRASIL        </td><td>HUGHES HELICOPTER          </td><td>269A-1         </td><td>1964</td><td>2  </td><td>PISTÃO    </td><td>MONOMOTOR</td><td>DECOLAGEM          </td><td>DESTRUÍDA  </td><td>⋯</td><td>***          </td><td>H269</td><td>   759</td><td>   759</td><td>BRASIL        </td><td>HELICÓPTERO</td><td>PARTICULAR   </td><td>PRESIDENTE JUSCELINO KUBITSCHEK</td><td>SANTA GENOVEVA/GOIÂNIA      </td><td>PRIVADA      </td></tr>\n",
              "\t<tr><td>AVIÃO      </td><td>BRASIL        </td><td>CESSNA AIRCRAFT            </td><td>A188B          </td><td>1975</td><td>1  </td><td>PISTÃO    </td><td>MONOMOTOR</td><td>DECOLAGEM          </td><td>SUBSTANCIAL</td><td>⋯</td><td>***          </td><td>C188</td><td>  1905</td><td>  1905</td><td>BRASIL        </td><td>AVIÃO      </td><td>AGRÍCOLA     </td><td>FORA DE AERODROMO              </td><td>FORA DE AERODROMO           </td><td>AGRÍCOLA     </td></tr>\n",
              "\t<tr><td>AVIÃO      </td><td>BRASIL        </td><td>PIPER AIRCRAFT             </td><td>PA-25-260      </td><td>1970</td><td>1  </td><td>PISTÃO    </td><td>MONOMOTOR</td><td>OUTRA FASE         </td><td>SUBSTANCIAL</td><td>⋯</td><td>***          </td><td>PA25</td><td>  1315</td><td>  1315</td><td>BRASIL        </td><td>AVIÃO      </td><td>AGRÍCOLA     </td><td>FORA DE AERODROMO              </td><td>FORA DE AERODROMO           </td><td>AGRÍCOLA     </td></tr>\n",
              "\t<tr><td>AVIÃO      </td><td>BRASIL        </td><td>CESSNA AIRCRAFT            </td><td>208B           </td><td>2009</td><td>11 </td><td>TURBOÉLICE</td><td>MONOMOTOR</td><td>APROXIMAÇÃO FINAL  </td><td>SUBSTANCIAL</td><td>⋯</td><td>***          </td><td>C208</td><td>  3969</td><td>  3969</td><td>BRASIL        </td><td>AVIÃO      </td><td>TÁXI AÉREO   </td><td>PLÁCIDO DE CASTRO              </td><td>TARAUACÁ                    </td><td>TÁXI AÉREO   </td></tr>\n",
              "\t<tr><td>AVIÃO      </td><td>BRASIL        </td><td>NEIVA INDUSTRIA AERONAUTICA</td><td>EMB-202        </td><td>2004</td><td>1  </td><td>PISTÃO    </td><td>MONOMOTOR</td><td>POUSO              </td><td>SUBSTANCIAL</td><td>⋯</td><td>***          </td><td>IPAN</td><td>  1800</td><td>  1800</td><td>BRASIL        </td><td>AVIÃO      </td><td>PARTICULAR   </td><td>PARQUE ANA COSTA               </td><td>FORA DE AERODROMO           </td><td>PRIVADA      </td></tr>\n",
              "\t<tr><td>AVIÃO      </td><td>BRASIL        </td><td>NEIVA INDUSTRIA AERONAUTICA</td><td>EMB-201        </td><td>1975</td><td>1  </td><td>PISTÃO    </td><td>MONOMOTOR</td><td>OUTRA FASE         </td><td>DESTRUÍDA  </td><td>⋯</td><td>***          </td><td>IPAN</td><td>  1800</td><td>  1800</td><td>BRASIL        </td><td>AVIÃO      </td><td>AGRÍCOLA     </td><td>FORA DE AERODROMO              </td><td>FORA DE AERODROMO           </td><td>AGRÍCOLA     </td></tr>\n",
              "\t<tr><td>AVIÃO      </td><td>BRASIL        </td><td>BEECH AIRCRAFT             </td><td>200            </td><td>1981</td><td>12 </td><td>TURBOÉLICE</td><td>BIMOTOR  </td><td>APROXIMAÇÃO FINAL  </td><td>DESTRUÍDA  </td><td>⋯</td><td>***          </td><td>BE20</td><td>  5670</td><td>  5670</td><td>BRASIL        </td><td>AVIÃO      </td><td>PARTICULAR   </td><td>PRESIDENTE JUSCELINO KUBITSCHEK</td><td>SANTA GENOVEVA/GOIÂNIA      </td><td>PRIVADA      </td></tr>\n",
              "\t<tr><td>AVIÃO      </td><td>BRASIL        </td><td>NEIVA INDUSTRIA AERONAUTICA</td><td>EMB-721D       </td><td>1980</td><td>7  </td><td>PISTÃO    </td><td>MONOMOTOR</td><td>CRUZEIRO           </td><td>SUBSTANCIAL</td><td>⋯</td><td>***          </td><td>P32R</td><td>  1633</td><td>  1633</td><td>BRASIL        </td><td>AVIÃO      </td><td>PARTICULAR   </td><td>MANUEL URBANO                  </td><td>EIRUNEPÉ                    </td><td>PRIVADA      </td></tr>\n",
              "\t<tr><td>AVIÃO      </td><td>BRASIL        </td><td>AEROSPATIALE AND ALENIA    </td><td>ATR-72-202     </td><td>1998</td><td>71 </td><td>TURBOÉLICE</td><td>BIMOTOR  </td><td>SUBIDA             </td><td>NENHUM     </td><td>⋯</td><td>REGULAR      </td><td>AT72</td><td> 22000</td><td> 22000</td><td>BRASIL        </td><td>AVIÃO      </td><td>REGULAR      </td><td>FORA DE AERODROMO              </td><td>FORA DE AERODROMO           </td><td>REGULAR      </td></tr>\n",
              "\t<tr><td>AVIÃO      </td><td>BRASIL        </td><td>BEECH AIRCRAFT             </td><td>58             </td><td>1992</td><td>6  </td><td>PISTÃO    </td><td>BIMOTOR  </td><td>CORRIDA APÓS POUSO </td><td>NENHUM     </td><td>⋯</td><td>TÁXI AÉREO   </td><td>BE58</td><td>  2449</td><td>  2449</td><td>BRASIL        </td><td>AVIÃO      </td><td>TÁXI AÉREO   </td><td>FORA DE AERODROMO              </td><td>FORA DE AERODROMO           </td><td>TÁXI AÉREO   </td></tr>\n",
              "\t<tr><td>AVIÃO      </td><td>BRASIL        </td><td>CESSNA AIRCRAFT            </td><td>182P           </td><td>1972</td><td>4  </td><td>PISTÃO    </td><td>MONOMOTOR</td><td>DECOLAGEM          </td><td>NENHUM     </td><td>⋯</td><td>ESPECIALIZADA</td><td>C182</td><td>  1338</td><td>  1338</td><td>BRASIL        </td><td>AVIÃO      </td><td>ESPECIALIZADA</td><td>FORA DE AERODROMO              </td><td>FORA DE AERODROMO           </td><td>ESPECIALIZADA</td></tr>\n",
              "\t<tr><td>HELICÓPTERO</td><td>BRASIL        </td><td>ROBINSON HELICOPTER        </td><td>R22 BETA       </td><td>1998</td><td>2  </td><td>PISTÃO    </td><td>MONOMOTOR</td><td>SUBIDA             </td><td>SUBSTANCIAL</td><td>⋯</td><td>***          </td><td>R22 </td><td>   621</td><td>   621</td><td>BRASIL        </td><td>HELICÓPTERO</td><td>INSTRUÇÃO    </td><td>FORA DE AERODROMO              </td><td>FORA DE AERODROMO           </td><td>INSTRUÇÃO    </td></tr>\n",
              "\t<tr><td>AVIÃO      </td><td>BRASIL        </td><td>EMBRAER                    </td><td>EMB-810C       </td><td>1978</td><td>6  </td><td>PISTÃO    </td><td>BIMOTOR  </td><td>CORRIDA APÓS POUSO </td><td>LEVE       </td><td>⋯</td><td>***          </td><td>PA34</td><td>  2073</td><td>  2073</td><td>BRASIL        </td><td>AVIÃO      </td><td>PARTICULAR   </td><td>PLÁCIDO DE CASTRO              </td><td>PAUINI                      </td><td>PRIVADA      </td></tr>\n",
              "\t<tr><td>AVIÃO      </td><td>BRASIL        </td><td>AEROSPATIALE AND ALENIA    </td><td>ATR-42-300     </td><td>1987</td><td>49 </td><td>TURBOÉLICE</td><td>BIMOTOR  </td><td>TÁXI               </td><td>LEVE       </td><td>⋯</td><td>REGULAR      </td><td>AT43</td><td> 16700</td><td> 16700</td><td>BRASIL        </td><td>AVIÃO      </td><td>REGULAR      </td><td>FORA DE AERODROMO              </td><td>FORA DE AERODROMO           </td><td>REGULAR      </td></tr>\n",
              "\t<tr><td>AVIÃO      </td><td>BRASIL        </td><td>BEECH AIRCRAFT             </td><td>58             </td><td>1992</td><td>6  </td><td>PISTÃO    </td><td>BIMOTOR  </td><td>DECOLAGEM          </td><td>NENHUM     </td><td>⋯</td><td>PARTICULAR   </td><td>BE58</td><td>  2495</td><td>  2495</td><td>BRASIL        </td><td>AVIÃO      </td><td>PARTICULAR   </td><td>FORA DE AERODROMO              </td><td>FORA DE AERODROMO           </td><td>PRIVADA      </td></tr>\n",
              "\t<tr><td>⋮</td><td>⋮</td><td>⋮</td><td>⋮</td><td>⋮</td><td>⋮</td><td>⋮</td><td>⋮</td><td>⋮</td><td>⋮</td><td>⋱</td><td>⋮</td><td>⋮</td><td>⋮</td><td>⋮</td><td>⋮</td><td>⋮</td><td>⋮</td><td>⋮</td><td>⋮</td><td>⋮</td></tr>\n",
              "\t<tr><td>AVIÃO      </td><td>BRASIL</td><td>BOEING COMPANY             </td><td>737-8EH        </td><td>2008</td><td>197 </td><td>JATO      </td><td>BIMOTOR   </td><td>APROXIMAÇÃO FINAL              </td><td>NENHUM     </td><td>⋯</td><td>***</td><td>B738</td><td>70533</td><td>70533</td><td>BRASIL</td><td>AVIÃO      </td><td>REGULAR             </td><td>SALGADO FILHO                    </td><td>CONGONHAS                          </td><td>REGULAR    </td></tr>\n",
              "\t<tr><td>AVIÃO      </td><td>BRASIL</td><td>AIRBUS INDUSTRIE           </td><td>A319-132       </td><td>2008</td><td>154 </td><td>JATO      </td><td>BIMOTOR   </td><td>DECOLAGEM                      </td><td>NENHUM     </td><td>⋯</td><td>***</td><td>A319</td><td>75500</td><td>75500</td><td>BRASIL</td><td>AVIÃO      </td><td>REGULAR             </td><td>CONGONHAS                        </td><td>PROFESSOR ERIBERTO MANOEL REINO    </td><td>REGULAR    </td></tr>\n",
              "\t<tr><td>AVIÃO      </td><td>BRASIL</td><td>CESSNA AIRCRAFT            </td><td>750            </td><td>1998</td><td>10  </td><td>JATO      </td><td>BIMOTOR   </td><td>PROCEDIMENTO DE APROXIMAÇÃO IFR</td><td>NENHUM     </td><td>⋯</td><td>***</td><td>C750</td><td>16194</td><td>16194</td><td>BRASIL</td><td>AVIÃO      </td><td>PARTICULAR          </td><td>FAZENDA PORTOBELLO               </td><td>PRESIDENTE JUSCELINO KUBITSCHEK    </td><td>PRIVADA    </td></tr>\n",
              "\t<tr><td>AVIÃO      </td><td>BRASIL</td><td>BEECH AIRCRAFT             </td><td>C90            </td><td>1981</td><td>7   </td><td>TURBOÉLICE</td><td>BIMOTOR   </td><td>CORRIDA APÓS POUSO             </td><td>LEVE       </td><td>⋯</td><td>***</td><td>BE9L</td><td> 4377</td><td> 4377</td><td>BRASIL</td><td>AVIÃO      </td><td>TÁXI AÉREO          </td><td>VAL DE CANS / JÚLIO CEZAR RIBEIRO</td><td>VAL DE CANS / JÚLIO CEZAR RIBEIRO  </td><td>TÁXI AÉREO </td></tr>\n",
              "\t<tr><td>AVIÃO      </td><td>BRASIL</td><td>AEROSPATIALE AND ALENIA    </td><td>ATR-72-212A    </td><td>2012</td><td>75  </td><td>TURBOÉLICE</td><td>BIMOTOR   </td><td>DECOLAGEM                      </td><td>NENHUM     </td><td>⋯</td><td>***</td><td>AT72</td><td>23000</td><td>23000</td><td>BRASIL</td><td>AVIÃO      </td><td>REGULAR             </td><td>TANCREDO NEVES                   </td><td>GUANAMBI                           </td><td>REGULAR    </td></tr>\n",
              "\t<tr><td>AVIÃO      </td><td>BRASIL</td><td>PIPER AIRCRAFT             </td><td>PA-30          </td><td>1968</td><td>4   </td><td>PISTÃO    </td><td>BIMOTOR   </td><td>ARREMETIDA NO SOLO             </td><td>LEVE       </td><td>⋯</td><td>***</td><td>PA30</td><td> 1633</td><td> 1633</td><td>BRASIL</td><td>AVIÃO      </td><td>INSTRUÇÃO           </td><td>Maricá                           </td><td>Clube Céu                          </td><td>INSTRUÇÃO  </td></tr>\n",
              "\t<tr><td>AVIÃO      </td><td>BRASIL</td><td>CESSNA AIRCRAFT            </td><td>182N           </td><td>1970</td><td>4   </td><td>PISTÃO    </td><td>MONOMOTOR </td><td>POUSO                          </td><td>NENHUM     </td><td>⋯</td><td>***</td><td>C182</td><td> 1338</td><td> 1338</td><td>BRASIL</td><td>AVIÃO      </td><td>ADMINISTRAÇÃO DIRETA</td><td>ESTÂNCIA SANTA MARIA             </td><td>ESTÂNCIA SANTA MARIA               </td><td>POLICIAL   </td></tr>\n",
              "\t<tr><td>AVIÃO      </td><td>BRASIL</td><td>BEECH AIRCRAFT             </td><td>G33            </td><td>1972</td><td>5   </td><td>PISTÃO    </td><td>MONOMOTOR </td><td>DECOLAGEM                      </td><td>NENHUM     </td><td>⋯</td><td>***</td><td>BE33</td><td> 1497</td><td> 1497</td><td>BRASIL</td><td>AVIÃO      </td><td>PARTICULAR          </td><td>ESTÂNCIA SANTA MARIA             </td><td>AGROPECUÁRIA CÉU ABERTO LTDA       </td><td>PRIVADA    </td></tr>\n",
              "\t<tr><td>HELICÓPTERO</td><td>BRASIL</td><td>ROBINSON HELICOPTER        </td><td>R44 II         </td><td>2007</td><td>4   </td><td>PISTÃO    </td><td>MONOMOTOR </td><td>INDETERMINADA                  </td><td>DESTRUÍDA  </td><td>⋯</td><td>***</td><td>R44 </td><td> 1134</td><td> 1134</td><td>BRASIL</td><td>HELICÓPTERO</td><td>MÚLTIPLA            </td><td>***                              </td><td>***                                </td><td>***        </td></tr>\n",
              "\t<tr><td>AVIÃO      </td><td>BRASIL</td><td>BOEING COMPANY             </td><td>727-2M7        </td><td>1976</td><td>3   </td><td>JATO      </td><td>TRIMOTOR  </td><td>DECOLAGEM                      </td><td>NENHUM     </td><td>⋯</td><td>***</td><td>B722</td><td>92124</td><td>92124</td><td>BRASIL</td><td>AVIÃO      </td><td>REGULAR             </td><td>ANTONIO CARLOS JOBIM / GALEÃO    </td><td>EURICO DE AGUIAR SALLES            </td><td>REGULAR    </td></tr>\n",
              "\t<tr><td>AVIÃO      </td><td>BRASIL</td><td>PIPER AIRCRAFT             </td><td>PA-31T1        </td><td>1981</td><td>7   </td><td>TURBOÉLICE</td><td>BIMOTOR   </td><td>CORRIDA APÓS POUSO             </td><td>NENHUM     </td><td>⋯</td><td>***</td><td>PAY1</td><td> 3946</td><td> 3946</td><td>BRASIL</td><td>AVIÃO      </td><td>PARTICULAR          </td><td>PILOTO OSVALDO MARQUES DIAS      </td><td>EDUARDO GOMES                      </td><td>PRIVADA    </td></tr>\n",
              "\t<tr><td>AVIÃO      </td><td>BRASIL</td><td>SOCATA                     </td><td>TBM700N        </td><td>2008</td><td>0   </td><td>TURBOÉLICE</td><td>MONOMOTOR </td><td>CRUZEIRO                       </td><td>LEVE       </td><td>⋯</td><td>***</td><td>TBM7</td><td> 3354</td><td> 3354</td><td>BRASIL</td><td>AVIÃO      </td><td>PARTICULAR          </td><td>CAMPO DE MARTE                   </td><td>PEDRO MORGANTI                     </td><td>PRIVADA    </td></tr>\n",
              "\t<tr><td>AVIÃO      </td><td>BRASIL</td><td>DASSAULT AVIATION          </td><td>FALCON 2000EX  </td><td>2012</td><td>13  </td><td>JATO      </td><td>BIMOTOR   </td><td>POUSO                          </td><td>LEVE       </td><td>⋯</td><td>***</td><td>F2TH</td><td>19414</td><td>19414</td><td>BRASIL</td><td>AVIÃO      </td><td>PARTICULAR          </td><td>NOVA ANDRADINA                   </td><td>BACACHERI                          </td><td>PRIVADA    </td></tr>\n",
              "\t<tr><td>AVIÃO      </td><td>BRASIL</td><td>CESSNA AIRCRAFT            </td><td>525            </td><td>1998</td><td>6   </td><td>JATO      </td><td>BIMOTOR   </td><td>DECOLAGEM                      </td><td>LEVE       </td><td>⋯</td><td>***</td><td>C525</td><td> 4717</td><td> 4717</td><td>BRASIL</td><td>AVIÃO      </td><td>PARTICULAR          </td><td>REDENÇÃO                         </td><td>SANTA GENOVEVA/GOIÂNIA             </td><td>PRIVADA    </td></tr>\n",
              "\t<tr><td>AVIÃO      </td><td>BRASIL</td><td>AIRBUS S.A.S.              </td><td>A320-251N      </td><td>2016</td><td>NULL</td><td>JATO      </td><td>BIMOTOR   </td><td>CORRIDA APÓS POUSO             </td><td>NENHUM     </td><td>⋯</td><td>***</td><td>A20N</td><td>79000</td><td>79000</td><td>BRASIL</td><td>AVIÃO      </td><td>REGULAR             </td><td>PINTO MARTINS                    </td><td>GUARARAPES - GILBERTO FREYRE       </td><td>REGULAR    </td></tr>\n",
              "\t<tr><td>AVIÃO      </td><td>BRASIL</td><td>AEROSPATIALE AND ALENIA    </td><td>ATR-72-212A    </td><td>2012</td><td>75  </td><td>TURBOÉLICE</td><td>BIMOTOR   </td><td>CORRIDA APÓS POUSO             </td><td>NENHUM     </td><td>⋯</td><td>***</td><td>AT72</td><td>23000</td><td>23000</td><td>BRASIL</td><td>AVIÃO      </td><td>REGULAR             </td><td>VIRACOPOS                        </td><td>LAURO CARNEIRO DE LOYOLA           </td><td>REGULAR    </td></tr>\n",
              "\t<tr><td>AVIÃO      </td><td>BRASIL</td><td>NEIVA INDUSTRIA AERONAUTICA</td><td>EMB-201        </td><td>1975</td><td>2   </td><td>PISTÃO    </td><td>MONOMOTOR </td><td>SUBIDA                         </td><td>SUBSTANCIAL</td><td>⋯</td><td>***</td><td>IPAN</td><td> 1800</td><td> 1800</td><td>BRASIL</td><td>AVIÃO      </td><td>AGRÍCOLA            </td><td>FORA DE AERODROMO                </td><td>FORA DE AERODROMO                  </td><td>AGRÍCOLA   </td></tr>\n",
              "\t<tr><td>AVIÃO      </td><td>BRASIL</td><td>CESSNA AIRCRAFT            </td><td>152            </td><td>1978</td><td>2   </td><td>PISTÃO    </td><td>MONOMOTOR </td><td>CRUZEIRO                       </td><td>NENHUM     </td><td>⋯</td><td>***</td><td>C152</td><td>  758</td><td>  758</td><td>BRASIL</td><td>AVIÃO      </td><td>INSTRUÇÃO           </td><td>SÍLVIO NAME JÚNIOR               </td><td>SÍLVIO NAME JÚNIOR                 </td><td>INSTRUÇÃO  </td></tr>\n",
              "\t<tr><td>AVIÃO      </td><td>BRASIL</td><td>AERO BOERO                 </td><td>AB-180         </td><td>1991</td><td>2   </td><td>PISTÃO    </td><td>MONOMOTOR </td><td>DECOLAGEM                      </td><td>NENHUM     </td><td>⋯</td><td>***</td><td>AB18</td><td>  844</td><td>  844</td><td>BRASIL</td><td>AVIÃO      </td><td>INSTRUÇÃO           </td><td>BAURU                            </td><td>BAURU                              </td><td>PRIVADA    </td></tr>\n",
              "\t<tr><td>AVIÃO      </td><td>BRASIL</td><td>AIRBUS S.A.S.              </td><td>A320-251N      </td><td>2017</td><td>NULL</td><td>JATO      </td><td>BIMOTOR   </td><td>APROXIMAÇÃO FINAL              </td><td>NENHUM     </td><td>⋯</td><td>***</td><td>A20N</td><td>79000</td><td>79000</td><td>BRASIL</td><td>AVIÃO      </td><td>REGULAR             </td><td>MAESTRO WILSON FONSECA           </td><td>VAL DE CANS / JÚLIO CEZAR RIBEIRO  </td><td>REGULAR    </td></tr>\n",
              "\t<tr><td>AVIÃO      </td><td>BRASIL</td><td>EMBRAER                    </td><td>EMB-110P1      </td><td>1989</td><td>12  </td><td>TURBOÉLICE</td><td>BIMOTOR   </td><td>CIRCUITO DE TRÁFEGO            </td><td>LEVE       </td><td>⋯</td><td>***</td><td>E110</td><td> 5670</td><td> 5670</td><td>BRASIL</td><td>AVIÃO      </td><td>ADMINISTRAÇÃO DIRETA</td><td>OIAPOQUE                         </td><td>ALBERTO ALCOLUMBRE                 </td><td>PRIVADA    </td></tr>\n",
              "\t<tr><td>AVIÃO      </td><td>BRASIL</td><td>NEIVA INDUSTRIA AERONAUTICA</td><td>EMB-810D       </td><td>1985</td><td>6   </td><td>PISTÃO    </td><td>BIMOTOR   </td><td>CORRIDA APÓS POUSO             </td><td>SUBSTANCIAL</td><td>⋯</td><td>***</td><td>PA34</td><td> 2155</td><td> 2155</td><td>BRASIL</td><td>AVIÃO      </td><td>ADMINISTRAÇÃO DIRETA</td><td>DEPUTADO LUÍS EDUARDO MAGALHÃES  </td><td>SEBASTIÃO JOSÉ PEREIRA             </td><td>NÃO REGULAR</td></tr>\n",
              "\t<tr><td>AVIÃO      </td><td>BRASIL</td><td>CESSNA AIRCRAFT            </td><td>550            </td><td>1981</td><td>9   </td><td>JATO      </td><td>BIMOTOR   </td><td>DECOLAGEM                      </td><td>LEVE       </td><td>⋯</td><td>***</td><td>C550</td><td> 6033</td><td> 6033</td><td>BRASIL</td><td>AVIÃO      </td><td>TÁXI AÉREO          </td><td>LÁBREA                           </td><td>EDUARDO GOMES                      </td><td>TÁXI AÉREO </td></tr>\n",
              "\t<tr><td>AVIÃO      </td><td>CHILE </td><td>AIRBUS INDUSTRIE           </td><td>A320-223       </td><td>0   </td><td>0   </td><td>***       </td><td>SEM TRAÇÃO</td><td>TÁXI                           </td><td>NENHUM     </td><td>⋯</td><td>***</td><td>A320</td><td>77000</td><td>77000</td><td>CHILE </td><td>AVIÃO      </td><td>REGULAR             </td><td>ANTONIO CARLOS JOBIM / GALEÃO    </td><td>AEROPORTO INTERNACIONAL DE SANTIAGO</td><td>REGULAR    </td></tr>\n",
              "\t<tr><td>AVIÃO      </td><td>BRASIL</td><td>NEIVA INDUSTRIA AERONAUTICA</td><td>EMB-720D       </td><td>1985</td><td>7   </td><td>PISTÃO    </td><td>MONOMOTOR </td><td>POUSO                          </td><td>LEVE       </td><td>⋯</td><td>***</td><td>PA32</td><td> 1633</td><td> 1633</td><td>BRASIL</td><td>AVIÃO      </td><td>PARTICULAR          </td><td>CMTE Juliano Rambo               </td><td>MARECHAL RONDON                    </td><td>PRIVADA    </td></tr>\n",
              "\t<tr><td>AVIÃO      </td><td>BRASIL</td><td>AIRBUS INDUSTRIE           </td><td>A320-214       </td><td>2011</td><td>184 </td><td>JATO      </td><td>BIMOTOR   </td><td>ESTACIONAMENTO                 </td><td>LEVE       </td><td>⋯</td><td>***</td><td>A320</td><td>77000</td><td>77000</td><td>BRASIL</td><td>AVIÃO      </td><td>REGULAR             </td><td>EURICO DE AGUIAR SALLES          </td><td>CONGONHAS                          </td><td>REGULAR    </td></tr>\n",
              "\t<tr><td>AVIÃO      </td><td>BRASIL</td><td>NEIVA INDUSTRIA AERONAUTICA</td><td>EMB-711B       </td><td>1979</td><td>4   </td><td>PISTÃO    </td><td>MONOMOTOR </td><td>DECOLAGEM                      </td><td>LEVE       </td><td>⋯</td><td>***</td><td>P28R</td><td> 1248</td><td> 1248</td><td>BRASIL</td><td>AVIÃO      </td><td>PARTICULAR          </td><td>FAZENDA SANTA RITA DO ARAGUAIA   </td><td>TERUEL IPANEMA ESTÂNCIA            </td><td>PRIVADA    </td></tr>\n",
              "\t<tr><td>AVIÃO      </td><td>BRASIL</td><td>EMBRAER                    </td><td>EMB-810C       </td><td>1981</td><td>6   </td><td>PISTÃO    </td><td>BIMOTOR   </td><td>CORRIDA APÓS POUSO             </td><td>LEVE       </td><td>⋯</td><td>***</td><td>PA34</td><td> 2073</td><td> 2073</td><td>BRASIL</td><td>AVIÃO      </td><td>PARTICULAR          </td><td>ABA                              </td><td>MÁRIO RIBEIRO                      </td><td>PRIVADA    </td></tr>\n",
              "\t<tr><td>AVIÃO      </td><td>BRASIL</td><td>EMBRAER                    </td><td>ERJ 190-200 IGW</td><td>2010</td><td>125 </td><td>JATO      </td><td>BIMOTOR   </td><td>PROCEDIMENTO DE APROXIMAÇÃO IFR</td><td>NENHUM     </td><td>⋯</td><td>***</td><td>E190</td><td>52290</td><td>52290</td><td>BRASIL</td><td>AVIÃO      </td><td>REGULAR             </td><td>SANTOS DUMONT                    </td><td>CONGONHAS                          </td><td>REGULAR    </td></tr>\n",
              "\t<tr><td>AVIÃO      </td><td>BRASIL</td><td>EMBRAER                    </td><td>EMB-810D       </td><td>1991</td><td>6   </td><td>PISTÃO    </td><td>BIMOTOR   </td><td>POUSO                          </td><td>LEVE       </td><td>⋯</td><td>***</td><td>PA34</td><td> 2155</td><td> 2155</td><td>BRASIL</td><td>AVIÃO      </td><td>PARTICULAR          </td><td>SANTOS DUMONT                    </td><td>GOVERNADOR JOSÉ RICHA              </td><td>PRIVADA    </td></tr>\n",
              "</tbody>\n",
              "</table>\n"
            ],
            "text/markdown": "\nA tibble: 6177 × 23\n\n| aeronave_tipo_veiculo &lt;chr&gt; | aeronave_pais_fabricante &lt;chr&gt; | aeronave_fabricante &lt;chr&gt; | aeronave_modelo &lt;chr&gt; | aeronave_ano_fabricacao &lt;chr&gt; | aeronave_assentos &lt;chr&gt; | aeronave_motor_tipo &lt;chr&gt; | aeronave_motor_quantidade &lt;chr&gt; | aeronave_fase_operacao &lt;chr&gt; | aeronave_nivel_dano &lt;chr&gt; | ⋯ ⋯ | aeronave_operador_categoria &lt;chr&gt; | aeronave_tipo_icao &lt;chr&gt; | aeronave_pmd &lt;dbl&gt; | aeronave_pmd_categoria &lt;dbl&gt; | aeronave_pais_registro &lt;chr&gt; | aeronave_registro_categoria &lt;chr&gt; | aeronave_registro_segmento &lt;chr&gt; | aeronave_voo_origem &lt;chr&gt; | aeronave_voo_destino &lt;chr&gt; | aeronave_tipo_operacao &lt;chr&gt; |\n|---|---|---|---|---|---|---|---|---|---|---|---|---|---|---|---|---|---|---|---|---|\n| AVIÃO       | BRASIL         | EMBRAER                     | EMB-820C NAVAJO | 1976 | 10  | PISTÃO     | BIMOTOR   | POUSO               | SUBSTANCIAL | ⋯ | ***           | PA31 |   3175 |   3175 | BRASIL         | AVIÃO       | TÁXI AÉREO    | DEPUTADO LUÍS EDUARDO MAGALHÃES | FAZENDA PONTAL               | TÁXI AÉREO    |\n| HELICÓPTERO | BRASIL         | ROBINSON HELICOPTER         | R22 BETA        | 1991 | 2   | PISTÃO     | MONOMOTOR | MANOBRA             | SUBSTANCIAL | ⋯ | ***           | R22  |    621 |    621 | BRASIL         | HELICÓPTERO | INSTRUÇÃO     | FORA DE AERODROMO               | FORA DE AERODROMO            | INSTRUÇÃO     |\n| AVIÃO       | BRASIL         | AIR TRACTOR                 | AT-401B         | 1994 | 1   | PISTÃO     | MONOMOTOR | ESPECIALIZADA       | LEVE        | ⋯ | ESPECIALIZADA | AT3P |   2722 |   2722 | BRASIL         | AVIÃO       | ESPECIALIZADA | FORA DE AERODROMO               | FORA DE AERODROMO            | ESPECIALIZADA |\n| AVIÃO       | BRASIL         | BOEING COMPANY              | 737-8EH         | 2009 | 197 | JATO       | BIMOTOR   | DESCIDA             | NENHUM      | ⋯ | REGULAR       | B738 |  70533 |  70533 | BRASIL         | AVIÃO       | REGULAR       | FORA DE AERODROMO               | FORA DE AERODROMO            | REGULAR       |\n| AVIÃO       | BRASIL         | EMBRAER                     | EMB-145LR       | 2001 | 54  | JATO       | BIMOTOR   | CORRIDA APÓS POUSO  | NENHUM      | ⋯ | ***           | E145 |  21990 |  21990 | BRASIL         | AVIÃO       | REGULAR       | FORA DE AERODROMO               | FORA DE AERODROMO            | REGULAR       |\n| AVIÃO       | BRASIL         | AEROSPATIALE AND ALENIA     | ATR-42-320      | 1993 | 50  | TURBOÉLICE | BIMOTOR   | DECOLAGEM           | LEVE        | ⋯ | REGULAR       | AT43 |  16700 |  16700 | BRASIL         | AVIÃO       | REGULAR       | FORA DE AERODROMO               | FORA DE AERODROMO            | REGULAR       |\n| AVIÃO       | ESTADOS UNIDOS | MCDONNELL DOUGLAS           | DC-10-30F       | 1980 | 0   | PISTÃO     | TRIMOTOR  | CORRIDA APÓS POUSO  | LEVE        | ⋯ | ***           | DC10 | 256280 | 256280 | ESTADOS UNIDOS | AVIÃO       | ***           | FORA DE AERODROMO               | FORA DE AERODROMO            | ***           |\n| AVIÃO       | BRASIL         | BEECH AIRCRAFT              | B300            | 0    | 11  | TURBOÉLICE | BIMOTOR   | TÁXI                | NENHUM      | ⋯ | PARTICULAR    | B350 |   6804 |   6804 | BRASIL         | AVIÃO       | PARTICULAR    | FORA DE AERODROMO               | FORA DE AERODROMO            | PRIVADA       |\n| AVIÃO       | BRASIL         | AERO BOERO                  | AB-115          | 1993 | 3   | PISTÃO     | MONOMOTOR | CORRIDA APÓS POUSO  | LEVE        | ⋯ | INSTRUÇÃO     | AB11 |    770 |    770 | BRASIL         | AVIÃO       | INSTRUÇÃO     | FORA DE AERODROMO               | FORA DE AERODROMO            | INSTRUÇÃO     |\n| AVIÃO       | BRASIL         | XAVANTE                     | A-122-B         | 1978 | 2   | PISTÃO     | MONOMOTOR | CORRIDA APÓS POUSO  | NENHUM      | ⋯ | INSTRUÇÃO     | A122 |    840 |    840 | BRASIL         | AVIÃO       | INSTRUÇÃO     | FORA DE AERODROMO               | FORA DE AERODROMO            | INSTRUÇÃO     |\n| AVIÃO       | BRASIL         | EMBRAER                     | EMB-810C        | 1981 | 6   | PISTÃO     | BIMOTOR   | CRUZEIRO            | LEVE        | ⋯ | TÁXI AÉREO    | PA34 |   2073 |   2073 | BRASIL         | AVIÃO       | TÁXI AÉREO    | FORA DE AERODROMO               | FORA DE AERODROMO            | TÁXI AÉREO    |\n| AVIÃO       | BRASIL         | AIRBUS INDUSTRIE            | A320-214        | 2008 | 184 | JATO       | BIMOTOR   | DESCIDA             | NENHUM      | ⋯ | REGULAR       | A320 |  77000 |  77000 | BRASIL         | AVIÃO       | REGULAR       | PRESIDENTE JUSCELINO KUBITSCHEK | GUARARAPES - GILBERTO FREYRE | REGULAR       |\n| AVIÃO       | BRASIL         | NEIVA INDUSTRIA AERONAUTICA | EMB-712         | 1980 | 4   | PISTÃO     | MONOMOTOR | CIRCUITO DE TRÁFEGO | NENHUM      | ⋯ | INSTRUÇÃO     | P28A |    930 |    930 | BRASIL         | AVIÃO       | INSTRUÇÃO     | FORA DE AERODROMO               | FORA DE AERODROMO            | INSTRUÇÃO     |\n| HELICÓPTERO | BRASIL         | SIKORSKY AIRCRAFT           | S-76A           | 1980 | 14  | TURBOEIXO  | BIMOTOR   | CRUZEIRO            | NENHUM      | ⋯ | TÁXI AÉREO    | S76  |   4763 |   4763 | BRASIL         | HELICÓPTERO | TÁXI AÉREO    | FORA DE AERODROMO               | FORA DE AERODROMO            | TÁXI AÉREO    |\n| HELICÓPTERO | BRASIL         | AGUSTA                      | AW139           | 2009 | 17  | TURBOEIXO  | BIMOTOR   | POUSO               | NENHUM      | ⋯ | TÁXI AÉREO    | A139 |   6800 |   6800 | BRASIL         | HELICÓPTERO | TÁXI AÉREO    | FORA DE AERODROMO               | FORA DE AERODROMO            | TÁXI AÉREO    |\n| HELICÓPTERO | BRASIL         | HUGHES HELICOPTER           | 269A-1          | 1964 | 2   | PISTÃO     | MONOMOTOR | DECOLAGEM           | DESTRUÍDA   | ⋯ | ***           | H269 |    759 |    759 | BRASIL         | HELICÓPTERO | PARTICULAR    | PRESIDENTE JUSCELINO KUBITSCHEK | SANTA GENOVEVA/GOIÂNIA       | PRIVADA       |\n| AVIÃO       | BRASIL         | CESSNA AIRCRAFT             | A188B           | 1975 | 1   | PISTÃO     | MONOMOTOR | DECOLAGEM           | SUBSTANCIAL | ⋯ | ***           | C188 |   1905 |   1905 | BRASIL         | AVIÃO       | AGRÍCOLA      | FORA DE AERODROMO               | FORA DE AERODROMO            | AGRÍCOLA      |\n| AVIÃO       | BRASIL         | PIPER AIRCRAFT              | PA-25-260       | 1970 | 1   | PISTÃO     | MONOMOTOR | OUTRA FASE          | SUBSTANCIAL | ⋯ | ***           | PA25 |   1315 |   1315 | BRASIL         | AVIÃO       | AGRÍCOLA      | FORA DE AERODROMO               | FORA DE AERODROMO            | AGRÍCOLA      |\n| AVIÃO       | BRASIL         | CESSNA AIRCRAFT             | 208B            | 2009 | 11  | TURBOÉLICE | MONOMOTOR | APROXIMAÇÃO FINAL   | SUBSTANCIAL | ⋯ | ***           | C208 |   3969 |   3969 | BRASIL         | AVIÃO       | TÁXI AÉREO    | PLÁCIDO DE CASTRO               | TARAUACÁ                     | TÁXI AÉREO    |\n| AVIÃO       | BRASIL         | NEIVA INDUSTRIA AERONAUTICA | EMB-202         | 2004 | 1   | PISTÃO     | MONOMOTOR | POUSO               | SUBSTANCIAL | ⋯ | ***           | IPAN |   1800 |   1800 | BRASIL         | AVIÃO       | PARTICULAR    | PARQUE ANA COSTA                | FORA DE AERODROMO            | PRIVADA       |\n| AVIÃO       | BRASIL         | NEIVA INDUSTRIA AERONAUTICA | EMB-201         | 1975 | 1   | PISTÃO     | MONOMOTOR | OUTRA FASE          | DESTRUÍDA   | ⋯ | ***           | IPAN |   1800 |   1800 | BRASIL         | AVIÃO       | AGRÍCOLA      | FORA DE AERODROMO               | FORA DE AERODROMO            | AGRÍCOLA      |\n| AVIÃO       | BRASIL         | BEECH AIRCRAFT              | 200             | 1981 | 12  | TURBOÉLICE | BIMOTOR   | APROXIMAÇÃO FINAL   | DESTRUÍDA   | ⋯ | ***           | BE20 |   5670 |   5670 | BRASIL         | AVIÃO       | PARTICULAR    | PRESIDENTE JUSCELINO KUBITSCHEK | SANTA GENOVEVA/GOIÂNIA       | PRIVADA       |\n| AVIÃO       | BRASIL         | NEIVA INDUSTRIA AERONAUTICA | EMB-721D        | 1980 | 7   | PISTÃO     | MONOMOTOR | CRUZEIRO            | SUBSTANCIAL | ⋯ | ***           | P32R |   1633 |   1633 | BRASIL         | AVIÃO       | PARTICULAR    | MANUEL URBANO                   | EIRUNEPÉ                     | PRIVADA       |\n| AVIÃO       | BRASIL         | AEROSPATIALE AND ALENIA     | ATR-72-202      | 1998 | 71  | TURBOÉLICE | BIMOTOR   | SUBIDA              | NENHUM      | ⋯ | REGULAR       | AT72 |  22000 |  22000 | BRASIL         | AVIÃO       | REGULAR       | FORA DE AERODROMO               | FORA DE AERODROMO            | REGULAR       |\n| AVIÃO       | BRASIL         | BEECH AIRCRAFT              | 58              | 1992 | 6   | PISTÃO     | BIMOTOR   | CORRIDA APÓS POUSO  | NENHUM      | ⋯ | TÁXI AÉREO    | BE58 |   2449 |   2449 | BRASIL         | AVIÃO       | TÁXI AÉREO    | FORA DE AERODROMO               | FORA DE AERODROMO            | TÁXI AÉREO    |\n| AVIÃO       | BRASIL         | CESSNA AIRCRAFT             | 182P            | 1972 | 4   | PISTÃO     | MONOMOTOR | DECOLAGEM           | NENHUM      | ⋯ | ESPECIALIZADA | C182 |   1338 |   1338 | BRASIL         | AVIÃO       | ESPECIALIZADA | FORA DE AERODROMO               | FORA DE AERODROMO            | ESPECIALIZADA |\n| HELICÓPTERO | BRASIL         | ROBINSON HELICOPTER         | R22 BETA        | 1998 | 2   | PISTÃO     | MONOMOTOR | SUBIDA              | SUBSTANCIAL | ⋯ | ***           | R22  |    621 |    621 | BRASIL         | HELICÓPTERO | INSTRUÇÃO     | FORA DE AERODROMO               | FORA DE AERODROMO            | INSTRUÇÃO     |\n| AVIÃO       | BRASIL         | EMBRAER                     | EMB-810C        | 1978 | 6   | PISTÃO     | BIMOTOR   | CORRIDA APÓS POUSO  | LEVE        | ⋯ | ***           | PA34 |   2073 |   2073 | BRASIL         | AVIÃO       | PARTICULAR    | PLÁCIDO DE CASTRO               | PAUINI                       | PRIVADA       |\n| AVIÃO       | BRASIL         | AEROSPATIALE AND ALENIA     | ATR-42-300      | 1987 | 49  | TURBOÉLICE | BIMOTOR   | TÁXI                | LEVE        | ⋯ | REGULAR       | AT43 |  16700 |  16700 | BRASIL         | AVIÃO       | REGULAR       | FORA DE AERODROMO               | FORA DE AERODROMO            | REGULAR       |\n| AVIÃO       | BRASIL         | BEECH AIRCRAFT              | 58              | 1992 | 6   | PISTÃO     | BIMOTOR   | DECOLAGEM           | NENHUM      | ⋯ | PARTICULAR    | BE58 |   2495 |   2495 | BRASIL         | AVIÃO       | PARTICULAR    | FORA DE AERODROMO               | FORA DE AERODROMO            | PRIVADA       |\n| ⋮ | ⋮ | ⋮ | ⋮ | ⋮ | ⋮ | ⋮ | ⋮ | ⋮ | ⋮ | ⋱ | ⋮ | ⋮ | ⋮ | ⋮ | ⋮ | ⋮ | ⋮ | ⋮ | ⋮ | ⋮ |\n| AVIÃO       | BRASIL | BOEING COMPANY              | 737-8EH         | 2008 | 197  | JATO       | BIMOTOR    | APROXIMAÇÃO FINAL               | NENHUM      | ⋯ | *** | B738 | 70533 | 70533 | BRASIL | AVIÃO       | REGULAR              | SALGADO FILHO                     | CONGONHAS                           | REGULAR     |\n| AVIÃO       | BRASIL | AIRBUS INDUSTRIE            | A319-132        | 2008 | 154  | JATO       | BIMOTOR    | DECOLAGEM                       | NENHUM      | ⋯ | *** | A319 | 75500 | 75500 | BRASIL | AVIÃO       | REGULAR              | CONGONHAS                         | PROFESSOR ERIBERTO MANOEL REINO     | REGULAR     |\n| AVIÃO       | BRASIL | CESSNA AIRCRAFT             | 750             | 1998 | 10   | JATO       | BIMOTOR    | PROCEDIMENTO DE APROXIMAÇÃO IFR | NENHUM      | ⋯ | *** | C750 | 16194 | 16194 | BRASIL | AVIÃO       | PARTICULAR           | FAZENDA PORTOBELLO                | PRESIDENTE JUSCELINO KUBITSCHEK     | PRIVADA     |\n| AVIÃO       | BRASIL | BEECH AIRCRAFT              | C90             | 1981 | 7    | TURBOÉLICE | BIMOTOR    | CORRIDA APÓS POUSO              | LEVE        | ⋯ | *** | BE9L |  4377 |  4377 | BRASIL | AVIÃO       | TÁXI AÉREO           | VAL DE CANS / JÚLIO CEZAR RIBEIRO | VAL DE CANS / JÚLIO CEZAR RIBEIRO   | TÁXI AÉREO  |\n| AVIÃO       | BRASIL | AEROSPATIALE AND ALENIA     | ATR-72-212A     | 2012 | 75   | TURBOÉLICE | BIMOTOR    | DECOLAGEM                       | NENHUM      | ⋯ | *** | AT72 | 23000 | 23000 | BRASIL | AVIÃO       | REGULAR              | TANCREDO NEVES                    | GUANAMBI                            | REGULAR     |\n| AVIÃO       | BRASIL | PIPER AIRCRAFT              | PA-30           | 1968 | 4    | PISTÃO     | BIMOTOR    | ARREMETIDA NO SOLO              | LEVE        | ⋯ | *** | PA30 |  1633 |  1633 | BRASIL | AVIÃO       | INSTRUÇÃO            | Maricá                            | Clube Céu                           | INSTRUÇÃO   |\n| AVIÃO       | BRASIL | CESSNA AIRCRAFT             | 182N            | 1970 | 4    | PISTÃO     | MONOMOTOR  | POUSO                           | NENHUM      | ⋯ | *** | C182 |  1338 |  1338 | BRASIL | AVIÃO       | ADMINISTRAÇÃO DIRETA | ESTÂNCIA SANTA MARIA              | ESTÂNCIA SANTA MARIA                | POLICIAL    |\n| AVIÃO       | BRASIL | BEECH AIRCRAFT              | G33             | 1972 | 5    | PISTÃO     | MONOMOTOR  | DECOLAGEM                       | NENHUM      | ⋯ | *** | BE33 |  1497 |  1497 | BRASIL | AVIÃO       | PARTICULAR           | ESTÂNCIA SANTA MARIA              | AGROPECUÁRIA CÉU ABERTO LTDA        | PRIVADA     |\n| HELICÓPTERO | BRASIL | ROBINSON HELICOPTER         | R44 II          | 2007 | 4    | PISTÃO     | MONOMOTOR  | INDETERMINADA                   | DESTRUÍDA   | ⋯ | *** | R44  |  1134 |  1134 | BRASIL | HELICÓPTERO | MÚLTIPLA             | ***                               | ***                                 | ***         |\n| AVIÃO       | BRASIL | BOEING COMPANY              | 727-2M7         | 1976 | 3    | JATO       | TRIMOTOR   | DECOLAGEM                       | NENHUM      | ⋯ | *** | B722 | 92124 | 92124 | BRASIL | AVIÃO       | REGULAR              | ANTONIO CARLOS JOBIM / GALEÃO     | EURICO DE AGUIAR SALLES             | REGULAR     |\n| AVIÃO       | BRASIL | PIPER AIRCRAFT              | PA-31T1         | 1981 | 7    | TURBOÉLICE | BIMOTOR    | CORRIDA APÓS POUSO              | NENHUM      | ⋯ | *** | PAY1 |  3946 |  3946 | BRASIL | AVIÃO       | PARTICULAR           | PILOTO OSVALDO MARQUES DIAS       | EDUARDO GOMES                       | PRIVADA     |\n| AVIÃO       | BRASIL | SOCATA                      | TBM700N         | 2008 | 0    | TURBOÉLICE | MONOMOTOR  | CRUZEIRO                        | LEVE        | ⋯ | *** | TBM7 |  3354 |  3354 | BRASIL | AVIÃO       | PARTICULAR           | CAMPO DE MARTE                    | PEDRO MORGANTI                      | PRIVADA     |\n| AVIÃO       | BRASIL | DASSAULT AVIATION           | FALCON 2000EX   | 2012 | 13   | JATO       | BIMOTOR    | POUSO                           | LEVE        | ⋯ | *** | F2TH | 19414 | 19414 | BRASIL | AVIÃO       | PARTICULAR           | NOVA ANDRADINA                    | BACACHERI                           | PRIVADA     |\n| AVIÃO       | BRASIL | CESSNA AIRCRAFT             | 525             | 1998 | 6    | JATO       | BIMOTOR    | DECOLAGEM                       | LEVE        | ⋯ | *** | C525 |  4717 |  4717 | BRASIL | AVIÃO       | PARTICULAR           | REDENÇÃO                          | SANTA GENOVEVA/GOIÂNIA              | PRIVADA     |\n| AVIÃO       | BRASIL | AIRBUS S.A.S.               | A320-251N       | 2016 | NULL | JATO       | BIMOTOR    | CORRIDA APÓS POUSO              | NENHUM      | ⋯ | *** | A20N | 79000 | 79000 | BRASIL | AVIÃO       | REGULAR              | PINTO MARTINS                     | GUARARAPES - GILBERTO FREYRE        | REGULAR     |\n| AVIÃO       | BRASIL | AEROSPATIALE AND ALENIA     | ATR-72-212A     | 2012 | 75   | TURBOÉLICE | BIMOTOR    | CORRIDA APÓS POUSO              | NENHUM      | ⋯ | *** | AT72 | 23000 | 23000 | BRASIL | AVIÃO       | REGULAR              | VIRACOPOS                         | LAURO CARNEIRO DE LOYOLA            | REGULAR     |\n| AVIÃO       | BRASIL | NEIVA INDUSTRIA AERONAUTICA | EMB-201         | 1975 | 2    | PISTÃO     | MONOMOTOR  | SUBIDA                          | SUBSTANCIAL | ⋯ | *** | IPAN |  1800 |  1800 | BRASIL | AVIÃO       | AGRÍCOLA             | FORA DE AERODROMO                 | FORA DE AERODROMO                   | AGRÍCOLA    |\n| AVIÃO       | BRASIL | CESSNA AIRCRAFT             | 152             | 1978 | 2    | PISTÃO     | MONOMOTOR  | CRUZEIRO                        | NENHUM      | ⋯ | *** | C152 |   758 |   758 | BRASIL | AVIÃO       | INSTRUÇÃO            | SÍLVIO NAME JÚNIOR                | SÍLVIO NAME JÚNIOR                  | INSTRUÇÃO   |\n| AVIÃO       | BRASIL | AERO BOERO                  | AB-180          | 1991 | 2    | PISTÃO     | MONOMOTOR  | DECOLAGEM                       | NENHUM      | ⋯ | *** | AB18 |   844 |   844 | BRASIL | AVIÃO       | INSTRUÇÃO            | BAURU                             | BAURU                               | PRIVADA     |\n| AVIÃO       | BRASIL | AIRBUS S.A.S.               | A320-251N       | 2017 | NULL | JATO       | BIMOTOR    | APROXIMAÇÃO FINAL               | NENHUM      | ⋯ | *** | A20N | 79000 | 79000 | BRASIL | AVIÃO       | REGULAR              | MAESTRO WILSON FONSECA            | VAL DE CANS / JÚLIO CEZAR RIBEIRO   | REGULAR     |\n| AVIÃO       | BRASIL | EMBRAER                     | EMB-110P1       | 1989 | 12   | TURBOÉLICE | BIMOTOR    | CIRCUITO DE TRÁFEGO             | LEVE        | ⋯ | *** | E110 |  5670 |  5670 | BRASIL | AVIÃO       | ADMINISTRAÇÃO DIRETA | OIAPOQUE                          | ALBERTO ALCOLUMBRE                  | PRIVADA     |\n| AVIÃO       | BRASIL | NEIVA INDUSTRIA AERONAUTICA | EMB-810D        | 1985 | 6    | PISTÃO     | BIMOTOR    | CORRIDA APÓS POUSO              | SUBSTANCIAL | ⋯ | *** | PA34 |  2155 |  2155 | BRASIL | AVIÃO       | ADMINISTRAÇÃO DIRETA | DEPUTADO LUÍS EDUARDO MAGALHÃES   | SEBASTIÃO JOSÉ PEREIRA              | NÃO REGULAR |\n| AVIÃO       | BRASIL | CESSNA AIRCRAFT             | 550             | 1981 | 9    | JATO       | BIMOTOR    | DECOLAGEM                       | LEVE        | ⋯ | *** | C550 |  6033 |  6033 | BRASIL | AVIÃO       | TÁXI AÉREO           | LÁBREA                            | EDUARDO GOMES                       | TÁXI AÉREO  |\n| AVIÃO       | CHILE  | AIRBUS INDUSTRIE            | A320-223        | 0    | 0    | ***        | SEM TRAÇÃO | TÁXI                            | NENHUM      | ⋯ | *** | A320 | 77000 | 77000 | CHILE  | AVIÃO       | REGULAR              | ANTONIO CARLOS JOBIM / GALEÃO     | AEROPORTO INTERNACIONAL DE SANTIAGO | REGULAR     |\n| AVIÃO       | BRASIL | NEIVA INDUSTRIA AERONAUTICA | EMB-720D        | 1985 | 7    | PISTÃO     | MONOMOTOR  | POUSO                           | LEVE        | ⋯ | *** | PA32 |  1633 |  1633 | BRASIL | AVIÃO       | PARTICULAR           | CMTE Juliano Rambo                | MARECHAL RONDON                     | PRIVADA     |\n| AVIÃO       | BRASIL | AIRBUS INDUSTRIE            | A320-214        | 2011 | 184  | JATO       | BIMOTOR    | ESTACIONAMENTO                  | LEVE        | ⋯ | *** | A320 | 77000 | 77000 | BRASIL | AVIÃO       | REGULAR              | EURICO DE AGUIAR SALLES           | CONGONHAS                           | REGULAR     |\n| AVIÃO       | BRASIL | NEIVA INDUSTRIA AERONAUTICA | EMB-711B        | 1979 | 4    | PISTÃO     | MONOMOTOR  | DECOLAGEM                       | LEVE        | ⋯ | *** | P28R |  1248 |  1248 | BRASIL | AVIÃO       | PARTICULAR           | FAZENDA SANTA RITA DO ARAGUAIA    | TERUEL IPANEMA ESTÂNCIA             | PRIVADA     |\n| AVIÃO       | BRASIL | EMBRAER                     | EMB-810C        | 1981 | 6    | PISTÃO     | BIMOTOR    | CORRIDA APÓS POUSO              | LEVE        | ⋯ | *** | PA34 |  2073 |  2073 | BRASIL | AVIÃO       | PARTICULAR           | ABA                               | MÁRIO RIBEIRO                       | PRIVADA     |\n| AVIÃO       | BRASIL | EMBRAER                     | ERJ 190-200 IGW | 2010 | 125  | JATO       | BIMOTOR    | PROCEDIMENTO DE APROXIMAÇÃO IFR | NENHUM      | ⋯ | *** | E190 | 52290 | 52290 | BRASIL | AVIÃO       | REGULAR              | SANTOS DUMONT                     | CONGONHAS                           | REGULAR     |\n| AVIÃO       | BRASIL | EMBRAER                     | EMB-810D        | 1991 | 6    | PISTÃO     | BIMOTOR    | POUSO                           | LEVE        | ⋯ | *** | PA34 |  2155 |  2155 | BRASIL | AVIÃO       | PARTICULAR           | SANTOS DUMONT                     | GOVERNADOR JOSÉ RICHA               | PRIVADA     |\n\n",
            "text/latex": "A tibble: 6177 × 23\n\\begin{tabular}{lllllllllllllllllllll}\n aeronave\\_tipo\\_veiculo & aeronave\\_pais\\_fabricante & aeronave\\_fabricante & aeronave\\_modelo & aeronave\\_ano\\_fabricacao & aeronave\\_assentos & aeronave\\_motor\\_tipo & aeronave\\_motor\\_quantidade & aeronave\\_fase\\_operacao & aeronave\\_nivel\\_dano & ⋯ & aeronave\\_operador\\_categoria & aeronave\\_tipo\\_icao & aeronave\\_pmd & aeronave\\_pmd\\_categoria & aeronave\\_pais\\_registro & aeronave\\_registro\\_categoria & aeronave\\_registro\\_segmento & aeronave\\_voo\\_origem & aeronave\\_voo\\_destino & aeronave\\_tipo\\_operacao\\\\\n <chr> & <chr> & <chr> & <chr> & <chr> & <chr> & <chr> & <chr> & <chr> & <chr> & ⋯ & <chr> & <chr> & <dbl> & <dbl> & <chr> & <chr> & <chr> & <chr> & <chr> & <chr>\\\\\n\\hline\n\t AVIÃO       & BRASIL         & EMBRAER                     & EMB-820C NAVAJO & 1976 & 10  & PISTÃO     & BIMOTOR   & POUSO               & SUBSTANCIAL & ⋯ & ***           & PA31 &   3175 &   3175 & BRASIL         & AVIÃO       & TÁXI AÉREO    & DEPUTADO LUÍS EDUARDO MAGALHÃES & FAZENDA PONTAL               & TÁXI AÉREO   \\\\\n\t HELICÓPTERO & BRASIL         & ROBINSON HELICOPTER         & R22 BETA        & 1991 & 2   & PISTÃO     & MONOMOTOR & MANOBRA             & SUBSTANCIAL & ⋯ & ***           & R22  &    621 &    621 & BRASIL         & HELICÓPTERO & INSTRUÇÃO     & FORA DE AERODROMO               & FORA DE AERODROMO            & INSTRUÇÃO    \\\\\n\t AVIÃO       & BRASIL         & AIR TRACTOR                 & AT-401B         & 1994 & 1   & PISTÃO     & MONOMOTOR & ESPECIALIZADA       & LEVE        & ⋯ & ESPECIALIZADA & AT3P &   2722 &   2722 & BRASIL         & AVIÃO       & ESPECIALIZADA & FORA DE AERODROMO               & FORA DE AERODROMO            & ESPECIALIZADA\\\\\n\t AVIÃO       & BRASIL         & BOEING COMPANY              & 737-8EH         & 2009 & 197 & JATO       & BIMOTOR   & DESCIDA             & NENHUM      & ⋯ & REGULAR       & B738 &  70533 &  70533 & BRASIL         & AVIÃO       & REGULAR       & FORA DE AERODROMO               & FORA DE AERODROMO            & REGULAR      \\\\\n\t AVIÃO       & BRASIL         & EMBRAER                     & EMB-145LR       & 2001 & 54  & JATO       & BIMOTOR   & CORRIDA APÓS POUSO  & NENHUM      & ⋯ & ***           & E145 &  21990 &  21990 & BRASIL         & AVIÃO       & REGULAR       & FORA DE AERODROMO               & FORA DE AERODROMO            & REGULAR      \\\\\n\t AVIÃO       & BRASIL         & AEROSPATIALE AND ALENIA     & ATR-42-320      & 1993 & 50  & TURBOÉLICE & BIMOTOR   & DECOLAGEM           & LEVE        & ⋯ & REGULAR       & AT43 &  16700 &  16700 & BRASIL         & AVIÃO       & REGULAR       & FORA DE AERODROMO               & FORA DE AERODROMO            & REGULAR      \\\\\n\t AVIÃO       & ESTADOS UNIDOS & MCDONNELL DOUGLAS           & DC-10-30F       & 1980 & 0   & PISTÃO     & TRIMOTOR  & CORRIDA APÓS POUSO  & LEVE        & ⋯ & ***           & DC10 & 256280 & 256280 & ESTADOS UNIDOS & AVIÃO       & ***           & FORA DE AERODROMO               & FORA DE AERODROMO            & ***          \\\\\n\t AVIÃO       & BRASIL         & BEECH AIRCRAFT              & B300            & 0    & 11  & TURBOÉLICE & BIMOTOR   & TÁXI                & NENHUM      & ⋯ & PARTICULAR    & B350 &   6804 &   6804 & BRASIL         & AVIÃO       & PARTICULAR    & FORA DE AERODROMO               & FORA DE AERODROMO            & PRIVADA      \\\\\n\t AVIÃO       & BRASIL         & AERO BOERO                  & AB-115          & 1993 & 3   & PISTÃO     & MONOMOTOR & CORRIDA APÓS POUSO  & LEVE        & ⋯ & INSTRUÇÃO     & AB11 &    770 &    770 & BRASIL         & AVIÃO       & INSTRUÇÃO     & FORA DE AERODROMO               & FORA DE AERODROMO            & INSTRUÇÃO    \\\\\n\t AVIÃO       & BRASIL         & XAVANTE                     & A-122-B         & 1978 & 2   & PISTÃO     & MONOMOTOR & CORRIDA APÓS POUSO  & NENHUM      & ⋯ & INSTRUÇÃO     & A122 &    840 &    840 & BRASIL         & AVIÃO       & INSTRUÇÃO     & FORA DE AERODROMO               & FORA DE AERODROMO            & INSTRUÇÃO    \\\\\n\t AVIÃO       & BRASIL         & EMBRAER                     & EMB-810C        & 1981 & 6   & PISTÃO     & BIMOTOR   & CRUZEIRO            & LEVE        & ⋯ & TÁXI AÉREO    & PA34 &   2073 &   2073 & BRASIL         & AVIÃO       & TÁXI AÉREO    & FORA DE AERODROMO               & FORA DE AERODROMO            & TÁXI AÉREO   \\\\\n\t AVIÃO       & BRASIL         & AIRBUS INDUSTRIE            & A320-214        & 2008 & 184 & JATO       & BIMOTOR   & DESCIDA             & NENHUM      & ⋯ & REGULAR       & A320 &  77000 &  77000 & BRASIL         & AVIÃO       & REGULAR       & PRESIDENTE JUSCELINO KUBITSCHEK & GUARARAPES - GILBERTO FREYRE & REGULAR      \\\\\n\t AVIÃO       & BRASIL         & NEIVA INDUSTRIA AERONAUTICA & EMB-712         & 1980 & 4   & PISTÃO     & MONOMOTOR & CIRCUITO DE TRÁFEGO & NENHUM      & ⋯ & INSTRUÇÃO     & P28A &    930 &    930 & BRASIL         & AVIÃO       & INSTRUÇÃO     & FORA DE AERODROMO               & FORA DE AERODROMO            & INSTRUÇÃO    \\\\\n\t HELICÓPTERO & BRASIL         & SIKORSKY AIRCRAFT           & S-76A           & 1980 & 14  & TURBOEIXO  & BIMOTOR   & CRUZEIRO            & NENHUM      & ⋯ & TÁXI AÉREO    & S76  &   4763 &   4763 & BRASIL         & HELICÓPTERO & TÁXI AÉREO    & FORA DE AERODROMO               & FORA DE AERODROMO            & TÁXI AÉREO   \\\\\n\t HELICÓPTERO & BRASIL         & AGUSTA                      & AW139           & 2009 & 17  & TURBOEIXO  & BIMOTOR   & POUSO               & NENHUM      & ⋯ & TÁXI AÉREO    & A139 &   6800 &   6800 & BRASIL         & HELICÓPTERO & TÁXI AÉREO    & FORA DE AERODROMO               & FORA DE AERODROMO            & TÁXI AÉREO   \\\\\n\t HELICÓPTERO & BRASIL         & HUGHES HELICOPTER           & 269A-1          & 1964 & 2   & PISTÃO     & MONOMOTOR & DECOLAGEM           & DESTRUÍDA   & ⋯ & ***           & H269 &    759 &    759 & BRASIL         & HELICÓPTERO & PARTICULAR    & PRESIDENTE JUSCELINO KUBITSCHEK & SANTA GENOVEVA/GOIÂNIA       & PRIVADA      \\\\\n\t AVIÃO       & BRASIL         & CESSNA AIRCRAFT             & A188B           & 1975 & 1   & PISTÃO     & MONOMOTOR & DECOLAGEM           & SUBSTANCIAL & ⋯ & ***           & C188 &   1905 &   1905 & BRASIL         & AVIÃO       & AGRÍCOLA      & FORA DE AERODROMO               & FORA DE AERODROMO            & AGRÍCOLA     \\\\\n\t AVIÃO       & BRASIL         & PIPER AIRCRAFT              & PA-25-260       & 1970 & 1   & PISTÃO     & MONOMOTOR & OUTRA FASE          & SUBSTANCIAL & ⋯ & ***           & PA25 &   1315 &   1315 & BRASIL         & AVIÃO       & AGRÍCOLA      & FORA DE AERODROMO               & FORA DE AERODROMO            & AGRÍCOLA     \\\\\n\t AVIÃO       & BRASIL         & CESSNA AIRCRAFT             & 208B            & 2009 & 11  & TURBOÉLICE & MONOMOTOR & APROXIMAÇÃO FINAL   & SUBSTANCIAL & ⋯ & ***           & C208 &   3969 &   3969 & BRASIL         & AVIÃO       & TÁXI AÉREO    & PLÁCIDO DE CASTRO               & TARAUACÁ                     & TÁXI AÉREO   \\\\\n\t AVIÃO       & BRASIL         & NEIVA INDUSTRIA AERONAUTICA & EMB-202         & 2004 & 1   & PISTÃO     & MONOMOTOR & POUSO               & SUBSTANCIAL & ⋯ & ***           & IPAN &   1800 &   1800 & BRASIL         & AVIÃO       & PARTICULAR    & PARQUE ANA COSTA                & FORA DE AERODROMO            & PRIVADA      \\\\\n\t AVIÃO       & BRASIL         & NEIVA INDUSTRIA AERONAUTICA & EMB-201         & 1975 & 1   & PISTÃO     & MONOMOTOR & OUTRA FASE          & DESTRUÍDA   & ⋯ & ***           & IPAN &   1800 &   1800 & BRASIL         & AVIÃO       & AGRÍCOLA      & FORA DE AERODROMO               & FORA DE AERODROMO            & AGRÍCOLA     \\\\\n\t AVIÃO       & BRASIL         & BEECH AIRCRAFT              & 200             & 1981 & 12  & TURBOÉLICE & BIMOTOR   & APROXIMAÇÃO FINAL   & DESTRUÍDA   & ⋯ & ***           & BE20 &   5670 &   5670 & BRASIL         & AVIÃO       & PARTICULAR    & PRESIDENTE JUSCELINO KUBITSCHEK & SANTA GENOVEVA/GOIÂNIA       & PRIVADA      \\\\\n\t AVIÃO       & BRASIL         & NEIVA INDUSTRIA AERONAUTICA & EMB-721D        & 1980 & 7   & PISTÃO     & MONOMOTOR & CRUZEIRO            & SUBSTANCIAL & ⋯ & ***           & P32R &   1633 &   1633 & BRASIL         & AVIÃO       & PARTICULAR    & MANUEL URBANO                   & EIRUNEPÉ                     & PRIVADA      \\\\\n\t AVIÃO       & BRASIL         & AEROSPATIALE AND ALENIA     & ATR-72-202      & 1998 & 71  & TURBOÉLICE & BIMOTOR   & SUBIDA              & NENHUM      & ⋯ & REGULAR       & AT72 &  22000 &  22000 & BRASIL         & AVIÃO       & REGULAR       & FORA DE AERODROMO               & FORA DE AERODROMO            & REGULAR      \\\\\n\t AVIÃO       & BRASIL         & BEECH AIRCRAFT              & 58              & 1992 & 6   & PISTÃO     & BIMOTOR   & CORRIDA APÓS POUSO  & NENHUM      & ⋯ & TÁXI AÉREO    & BE58 &   2449 &   2449 & BRASIL         & AVIÃO       & TÁXI AÉREO    & FORA DE AERODROMO               & FORA DE AERODROMO            & TÁXI AÉREO   \\\\\n\t AVIÃO       & BRASIL         & CESSNA AIRCRAFT             & 182P            & 1972 & 4   & PISTÃO     & MONOMOTOR & DECOLAGEM           & NENHUM      & ⋯ & ESPECIALIZADA & C182 &   1338 &   1338 & BRASIL         & AVIÃO       & ESPECIALIZADA & FORA DE AERODROMO               & FORA DE AERODROMO            & ESPECIALIZADA\\\\\n\t HELICÓPTERO & BRASIL         & ROBINSON HELICOPTER         & R22 BETA        & 1998 & 2   & PISTÃO     & MONOMOTOR & SUBIDA              & SUBSTANCIAL & ⋯ & ***           & R22  &    621 &    621 & BRASIL         & HELICÓPTERO & INSTRUÇÃO     & FORA DE AERODROMO               & FORA DE AERODROMO            & INSTRUÇÃO    \\\\\n\t AVIÃO       & BRASIL         & EMBRAER                     & EMB-810C        & 1978 & 6   & PISTÃO     & BIMOTOR   & CORRIDA APÓS POUSO  & LEVE        & ⋯ & ***           & PA34 &   2073 &   2073 & BRASIL         & AVIÃO       & PARTICULAR    & PLÁCIDO DE CASTRO               & PAUINI                       & PRIVADA      \\\\\n\t AVIÃO       & BRASIL         & AEROSPATIALE AND ALENIA     & ATR-42-300      & 1987 & 49  & TURBOÉLICE & BIMOTOR   & TÁXI                & LEVE        & ⋯ & REGULAR       & AT43 &  16700 &  16700 & BRASIL         & AVIÃO       & REGULAR       & FORA DE AERODROMO               & FORA DE AERODROMO            & REGULAR      \\\\\n\t AVIÃO       & BRASIL         & BEECH AIRCRAFT              & 58              & 1992 & 6   & PISTÃO     & BIMOTOR   & DECOLAGEM           & NENHUM      & ⋯ & PARTICULAR    & BE58 &   2495 &   2495 & BRASIL         & AVIÃO       & PARTICULAR    & FORA DE AERODROMO               & FORA DE AERODROMO            & PRIVADA      \\\\\n\t ⋮ & ⋮ & ⋮ & ⋮ & ⋮ & ⋮ & ⋮ & ⋮ & ⋮ & ⋮ & ⋱ & ⋮ & ⋮ & ⋮ & ⋮ & ⋮ & ⋮ & ⋮ & ⋮ & ⋮ & ⋮\\\\\n\t AVIÃO       & BRASIL & BOEING COMPANY              & 737-8EH         & 2008 & 197  & JATO       & BIMOTOR    & APROXIMAÇÃO FINAL               & NENHUM      & ⋯ & *** & B738 & 70533 & 70533 & BRASIL & AVIÃO       & REGULAR              & SALGADO FILHO                     & CONGONHAS                           & REGULAR    \\\\\n\t AVIÃO       & BRASIL & AIRBUS INDUSTRIE            & A319-132        & 2008 & 154  & JATO       & BIMOTOR    & DECOLAGEM                       & NENHUM      & ⋯ & *** & A319 & 75500 & 75500 & BRASIL & AVIÃO       & REGULAR              & CONGONHAS                         & PROFESSOR ERIBERTO MANOEL REINO     & REGULAR    \\\\\n\t AVIÃO       & BRASIL & CESSNA AIRCRAFT             & 750             & 1998 & 10   & JATO       & BIMOTOR    & PROCEDIMENTO DE APROXIMAÇÃO IFR & NENHUM      & ⋯ & *** & C750 & 16194 & 16194 & BRASIL & AVIÃO       & PARTICULAR           & FAZENDA PORTOBELLO                & PRESIDENTE JUSCELINO KUBITSCHEK     & PRIVADA    \\\\\n\t AVIÃO       & BRASIL & BEECH AIRCRAFT              & C90             & 1981 & 7    & TURBOÉLICE & BIMOTOR    & CORRIDA APÓS POUSO              & LEVE        & ⋯ & *** & BE9L &  4377 &  4377 & BRASIL & AVIÃO       & TÁXI AÉREO           & VAL DE CANS / JÚLIO CEZAR RIBEIRO & VAL DE CANS / JÚLIO CEZAR RIBEIRO   & TÁXI AÉREO \\\\\n\t AVIÃO       & BRASIL & AEROSPATIALE AND ALENIA     & ATR-72-212A     & 2012 & 75   & TURBOÉLICE & BIMOTOR    & DECOLAGEM                       & NENHUM      & ⋯ & *** & AT72 & 23000 & 23000 & BRASIL & AVIÃO       & REGULAR              & TANCREDO NEVES                    & GUANAMBI                            & REGULAR    \\\\\n\t AVIÃO       & BRASIL & PIPER AIRCRAFT              & PA-30           & 1968 & 4    & PISTÃO     & BIMOTOR    & ARREMETIDA NO SOLO              & LEVE        & ⋯ & *** & PA30 &  1633 &  1633 & BRASIL & AVIÃO       & INSTRUÇÃO            & Maricá                            & Clube Céu                           & INSTRUÇÃO  \\\\\n\t AVIÃO       & BRASIL & CESSNA AIRCRAFT             & 182N            & 1970 & 4    & PISTÃO     & MONOMOTOR  & POUSO                           & NENHUM      & ⋯ & *** & C182 &  1338 &  1338 & BRASIL & AVIÃO       & ADMINISTRAÇÃO DIRETA & ESTÂNCIA SANTA MARIA              & ESTÂNCIA SANTA MARIA                & POLICIAL   \\\\\n\t AVIÃO       & BRASIL & BEECH AIRCRAFT              & G33             & 1972 & 5    & PISTÃO     & MONOMOTOR  & DECOLAGEM                       & NENHUM      & ⋯ & *** & BE33 &  1497 &  1497 & BRASIL & AVIÃO       & PARTICULAR           & ESTÂNCIA SANTA MARIA              & AGROPECUÁRIA CÉU ABERTO LTDA        & PRIVADA    \\\\\n\t HELICÓPTERO & BRASIL & ROBINSON HELICOPTER         & R44 II          & 2007 & 4    & PISTÃO     & MONOMOTOR  & INDETERMINADA                   & DESTRUÍDA   & ⋯ & *** & R44  &  1134 &  1134 & BRASIL & HELICÓPTERO & MÚLTIPLA             & ***                               & ***                                 & ***        \\\\\n\t AVIÃO       & BRASIL & BOEING COMPANY              & 727-2M7         & 1976 & 3    & JATO       & TRIMOTOR   & DECOLAGEM                       & NENHUM      & ⋯ & *** & B722 & 92124 & 92124 & BRASIL & AVIÃO       & REGULAR              & ANTONIO CARLOS JOBIM / GALEÃO     & EURICO DE AGUIAR SALLES             & REGULAR    \\\\\n\t AVIÃO       & BRASIL & PIPER AIRCRAFT              & PA-31T1         & 1981 & 7    & TURBOÉLICE & BIMOTOR    & CORRIDA APÓS POUSO              & NENHUM      & ⋯ & *** & PAY1 &  3946 &  3946 & BRASIL & AVIÃO       & PARTICULAR           & PILOTO OSVALDO MARQUES DIAS       & EDUARDO GOMES                       & PRIVADA    \\\\\n\t AVIÃO       & BRASIL & SOCATA                      & TBM700N         & 2008 & 0    & TURBOÉLICE & MONOMOTOR  & CRUZEIRO                        & LEVE        & ⋯ & *** & TBM7 &  3354 &  3354 & BRASIL & AVIÃO       & PARTICULAR           & CAMPO DE MARTE                    & PEDRO MORGANTI                      & PRIVADA    \\\\\n\t AVIÃO       & BRASIL & DASSAULT AVIATION           & FALCON 2000EX   & 2012 & 13   & JATO       & BIMOTOR    & POUSO                           & LEVE        & ⋯ & *** & F2TH & 19414 & 19414 & BRASIL & AVIÃO       & PARTICULAR           & NOVA ANDRADINA                    & BACACHERI                           & PRIVADA    \\\\\n\t AVIÃO       & BRASIL & CESSNA AIRCRAFT             & 525             & 1998 & 6    & JATO       & BIMOTOR    & DECOLAGEM                       & LEVE        & ⋯ & *** & C525 &  4717 &  4717 & BRASIL & AVIÃO       & PARTICULAR           & REDENÇÃO                          & SANTA GENOVEVA/GOIÂNIA              & PRIVADA    \\\\\n\t AVIÃO       & BRASIL & AIRBUS S.A.S.               & A320-251N       & 2016 & NULL & JATO       & BIMOTOR    & CORRIDA APÓS POUSO              & NENHUM      & ⋯ & *** & A20N & 79000 & 79000 & BRASIL & AVIÃO       & REGULAR              & PINTO MARTINS                     & GUARARAPES - GILBERTO FREYRE        & REGULAR    \\\\\n\t AVIÃO       & BRASIL & AEROSPATIALE AND ALENIA     & ATR-72-212A     & 2012 & 75   & TURBOÉLICE & BIMOTOR    & CORRIDA APÓS POUSO              & NENHUM      & ⋯ & *** & AT72 & 23000 & 23000 & BRASIL & AVIÃO       & REGULAR              & VIRACOPOS                         & LAURO CARNEIRO DE LOYOLA            & REGULAR    \\\\\n\t AVIÃO       & BRASIL & NEIVA INDUSTRIA AERONAUTICA & EMB-201         & 1975 & 2    & PISTÃO     & MONOMOTOR  & SUBIDA                          & SUBSTANCIAL & ⋯ & *** & IPAN &  1800 &  1800 & BRASIL & AVIÃO       & AGRÍCOLA             & FORA DE AERODROMO                 & FORA DE AERODROMO                   & AGRÍCOLA   \\\\\n\t AVIÃO       & BRASIL & CESSNA AIRCRAFT             & 152             & 1978 & 2    & PISTÃO     & MONOMOTOR  & CRUZEIRO                        & NENHUM      & ⋯ & *** & C152 &   758 &   758 & BRASIL & AVIÃO       & INSTRUÇÃO            & SÍLVIO NAME JÚNIOR                & SÍLVIO NAME JÚNIOR                  & INSTRUÇÃO  \\\\\n\t AVIÃO       & BRASIL & AERO BOERO                  & AB-180          & 1991 & 2    & PISTÃO     & MONOMOTOR  & DECOLAGEM                       & NENHUM      & ⋯ & *** & AB18 &   844 &   844 & BRASIL & AVIÃO       & INSTRUÇÃO            & BAURU                             & BAURU                               & PRIVADA    \\\\\n\t AVIÃO       & BRASIL & AIRBUS S.A.S.               & A320-251N       & 2017 & NULL & JATO       & BIMOTOR    & APROXIMAÇÃO FINAL               & NENHUM      & ⋯ & *** & A20N & 79000 & 79000 & BRASIL & AVIÃO       & REGULAR              & MAESTRO WILSON FONSECA            & VAL DE CANS / JÚLIO CEZAR RIBEIRO   & REGULAR    \\\\\n\t AVIÃO       & BRASIL & EMBRAER                     & EMB-110P1       & 1989 & 12   & TURBOÉLICE & BIMOTOR    & CIRCUITO DE TRÁFEGO             & LEVE        & ⋯ & *** & E110 &  5670 &  5670 & BRASIL & AVIÃO       & ADMINISTRAÇÃO DIRETA & OIAPOQUE                          & ALBERTO ALCOLUMBRE                  & PRIVADA    \\\\\n\t AVIÃO       & BRASIL & NEIVA INDUSTRIA AERONAUTICA & EMB-810D        & 1985 & 6    & PISTÃO     & BIMOTOR    & CORRIDA APÓS POUSO              & SUBSTANCIAL & ⋯ & *** & PA34 &  2155 &  2155 & BRASIL & AVIÃO       & ADMINISTRAÇÃO DIRETA & DEPUTADO LUÍS EDUARDO MAGALHÃES   & SEBASTIÃO JOSÉ PEREIRA              & NÃO REGULAR\\\\\n\t AVIÃO       & BRASIL & CESSNA AIRCRAFT             & 550             & 1981 & 9    & JATO       & BIMOTOR    & DECOLAGEM                       & LEVE        & ⋯ & *** & C550 &  6033 &  6033 & BRASIL & AVIÃO       & TÁXI AÉREO           & LÁBREA                            & EDUARDO GOMES                       & TÁXI AÉREO \\\\\n\t AVIÃO       & CHILE  & AIRBUS INDUSTRIE            & A320-223        & 0    & 0    & ***        & SEM TRAÇÃO & TÁXI                            & NENHUM      & ⋯ & *** & A320 & 77000 & 77000 & CHILE  & AVIÃO       & REGULAR              & ANTONIO CARLOS JOBIM / GALEÃO     & AEROPORTO INTERNACIONAL DE SANTIAGO & REGULAR    \\\\\n\t AVIÃO       & BRASIL & NEIVA INDUSTRIA AERONAUTICA & EMB-720D        & 1985 & 7    & PISTÃO     & MONOMOTOR  & POUSO                           & LEVE        & ⋯ & *** & PA32 &  1633 &  1633 & BRASIL & AVIÃO       & PARTICULAR           & CMTE Juliano Rambo                & MARECHAL RONDON                     & PRIVADA    \\\\\n\t AVIÃO       & BRASIL & AIRBUS INDUSTRIE            & A320-214        & 2011 & 184  & JATO       & BIMOTOR    & ESTACIONAMENTO                  & LEVE        & ⋯ & *** & A320 & 77000 & 77000 & BRASIL & AVIÃO       & REGULAR              & EURICO DE AGUIAR SALLES           & CONGONHAS                           & REGULAR    \\\\\n\t AVIÃO       & BRASIL & NEIVA INDUSTRIA AERONAUTICA & EMB-711B        & 1979 & 4    & PISTÃO     & MONOMOTOR  & DECOLAGEM                       & LEVE        & ⋯ & *** & P28R &  1248 &  1248 & BRASIL & AVIÃO       & PARTICULAR           & FAZENDA SANTA RITA DO ARAGUAIA    & TERUEL IPANEMA ESTÂNCIA             & PRIVADA    \\\\\n\t AVIÃO       & BRASIL & EMBRAER                     & EMB-810C        & 1981 & 6    & PISTÃO     & BIMOTOR    & CORRIDA APÓS POUSO              & LEVE        & ⋯ & *** & PA34 &  2073 &  2073 & BRASIL & AVIÃO       & PARTICULAR           & ABA                               & MÁRIO RIBEIRO                       & PRIVADA    \\\\\n\t AVIÃO       & BRASIL & EMBRAER                     & ERJ 190-200 IGW & 2010 & 125  & JATO       & BIMOTOR    & PROCEDIMENTO DE APROXIMAÇÃO IFR & NENHUM      & ⋯ & *** & E190 & 52290 & 52290 & BRASIL & AVIÃO       & REGULAR              & SANTOS DUMONT                     & CONGONHAS                           & REGULAR    \\\\\n\t AVIÃO       & BRASIL & EMBRAER                     & EMB-810D        & 1991 & 6    & PISTÃO     & BIMOTOR    & POUSO                           & LEVE        & ⋯ & *** & PA34 &  2155 &  2155 & BRASIL & AVIÃO       & PARTICULAR           & SANTOS DUMONT                     & GOVERNADOR JOSÉ RICHA               & PRIVADA    \\\\\n\\end{tabular}\n",
            "text/plain": [
              "     aeronave_tipo_veiculo aeronave_pais_fabricante aeronave_fabricante        \n",
              "1    AVIÃO                 BRASIL                   EMBRAER                    \n",
              "2    HELICÓPTERO           BRASIL                   ROBINSON HELICOPTER        \n",
              "3    AVIÃO                 BRASIL                   AIR TRACTOR                \n",
              "4    AVIÃO                 BRASIL                   BOEING COMPANY             \n",
              "5    AVIÃO                 BRASIL                   EMBRAER                    \n",
              "6    AVIÃO                 BRASIL                   AEROSPATIALE AND ALENIA    \n",
              "7    AVIÃO                 ESTADOS UNIDOS           MCDONNELL DOUGLAS          \n",
              "8    AVIÃO                 BRASIL                   BEECH AIRCRAFT             \n",
              "9    AVIÃO                 BRASIL                   AERO BOERO                 \n",
              "10   AVIÃO                 BRASIL                   XAVANTE                    \n",
              "11   AVIÃO                 BRASIL                   EMBRAER                    \n",
              "12   AVIÃO                 BRASIL                   AIRBUS INDUSTRIE           \n",
              "13   AVIÃO                 BRASIL                   NEIVA INDUSTRIA AERONAUTICA\n",
              "14   HELICÓPTERO           BRASIL                   SIKORSKY AIRCRAFT          \n",
              "15   HELICÓPTERO           BRASIL                   AGUSTA                     \n",
              "16   HELICÓPTERO           BRASIL                   HUGHES HELICOPTER          \n",
              "17   AVIÃO                 BRASIL                   CESSNA AIRCRAFT            \n",
              "18   AVIÃO                 BRASIL                   PIPER AIRCRAFT             \n",
              "19   AVIÃO                 BRASIL                   CESSNA AIRCRAFT            \n",
              "20   AVIÃO                 BRASIL                   NEIVA INDUSTRIA AERONAUTICA\n",
              "21   AVIÃO                 BRASIL                   NEIVA INDUSTRIA AERONAUTICA\n",
              "22   AVIÃO                 BRASIL                   BEECH AIRCRAFT             \n",
              "23   AVIÃO                 BRASIL                   NEIVA INDUSTRIA AERONAUTICA\n",
              "24   AVIÃO                 BRASIL                   AEROSPATIALE AND ALENIA    \n",
              "25   AVIÃO                 BRASIL                   BEECH AIRCRAFT             \n",
              "26   AVIÃO                 BRASIL                   CESSNA AIRCRAFT            \n",
              "27   HELICÓPTERO           BRASIL                   ROBINSON HELICOPTER        \n",
              "28   AVIÃO                 BRASIL                   EMBRAER                    \n",
              "29   AVIÃO                 BRASIL                   AEROSPATIALE AND ALENIA    \n",
              "30   AVIÃO                 BRASIL                   BEECH AIRCRAFT             \n",
              "⋮    ⋮                     ⋮                        ⋮                          \n",
              "6148 AVIÃO                 BRASIL                   BOEING COMPANY             \n",
              "6149 AVIÃO                 BRASIL                   AIRBUS INDUSTRIE           \n",
              "6150 AVIÃO                 BRASIL                   CESSNA AIRCRAFT            \n",
              "6151 AVIÃO                 BRASIL                   BEECH AIRCRAFT             \n",
              "6152 AVIÃO                 BRASIL                   AEROSPATIALE AND ALENIA    \n",
              "6153 AVIÃO                 BRASIL                   PIPER AIRCRAFT             \n",
              "6154 AVIÃO                 BRASIL                   CESSNA AIRCRAFT            \n",
              "6155 AVIÃO                 BRASIL                   BEECH AIRCRAFT             \n",
              "6156 HELICÓPTERO           BRASIL                   ROBINSON HELICOPTER        \n",
              "6157 AVIÃO                 BRASIL                   BOEING COMPANY             \n",
              "6158 AVIÃO                 BRASIL                   PIPER AIRCRAFT             \n",
              "6159 AVIÃO                 BRASIL                   SOCATA                     \n",
              "6160 AVIÃO                 BRASIL                   DASSAULT AVIATION          \n",
              "6161 AVIÃO                 BRASIL                   CESSNA AIRCRAFT            \n",
              "6162 AVIÃO                 BRASIL                   AIRBUS S.A.S.              \n",
              "6163 AVIÃO                 BRASIL                   AEROSPATIALE AND ALENIA    \n",
              "6164 AVIÃO                 BRASIL                   NEIVA INDUSTRIA AERONAUTICA\n",
              "6165 AVIÃO                 BRASIL                   CESSNA AIRCRAFT            \n",
              "6166 AVIÃO                 BRASIL                   AERO BOERO                 \n",
              "6167 AVIÃO                 BRASIL                   AIRBUS S.A.S.              \n",
              "6168 AVIÃO                 BRASIL                   EMBRAER                    \n",
              "6169 AVIÃO                 BRASIL                   NEIVA INDUSTRIA AERONAUTICA\n",
              "6170 AVIÃO                 BRASIL                   CESSNA AIRCRAFT            \n",
              "6171 AVIÃO                 CHILE                    AIRBUS INDUSTRIE           \n",
              "6172 AVIÃO                 BRASIL                   NEIVA INDUSTRIA AERONAUTICA\n",
              "6173 AVIÃO                 BRASIL                   AIRBUS INDUSTRIE           \n",
              "6174 AVIÃO                 BRASIL                   NEIVA INDUSTRIA AERONAUTICA\n",
              "6175 AVIÃO                 BRASIL                   EMBRAER                    \n",
              "6176 AVIÃO                 BRASIL                   EMBRAER                    \n",
              "6177 AVIÃO                 BRASIL                   EMBRAER                    \n",
              "     aeronave_modelo aeronave_ano_fabricacao aeronave_assentos\n",
              "1    EMB-820C NAVAJO 1976                    10               \n",
              "2    R22 BETA        1991                    2                \n",
              "3    AT-401B         1994                    1                \n",
              "4    737-8EH         2009                    197              \n",
              "5    EMB-145LR       2001                    54               \n",
              "6    ATR-42-320      1993                    50               \n",
              "7    DC-10-30F       1980                    0                \n",
              "8    B300            0                       11               \n",
              "9    AB-115          1993                    3                \n",
              "10   A-122-B         1978                    2                \n",
              "11   EMB-810C        1981                    6                \n",
              "12   A320-214        2008                    184              \n",
              "13   EMB-712         1980                    4                \n",
              "14   S-76A           1980                    14               \n",
              "15   AW139           2009                    17               \n",
              "16   269A-1          1964                    2                \n",
              "17   A188B           1975                    1                \n",
              "18   PA-25-260       1970                    1                \n",
              "19   208B            2009                    11               \n",
              "20   EMB-202         2004                    1                \n",
              "21   EMB-201         1975                    1                \n",
              "22   200             1981                    12               \n",
              "23   EMB-721D        1980                    7                \n",
              "24   ATR-72-202      1998                    71               \n",
              "25   58              1992                    6                \n",
              "26   182P            1972                    4                \n",
              "27   R22 BETA        1998                    2                \n",
              "28   EMB-810C        1978                    6                \n",
              "29   ATR-42-300      1987                    49               \n",
              "30   58              1992                    6                \n",
              "⋮    ⋮               ⋮                       ⋮                \n",
              "6148 737-8EH         2008                    197              \n",
              "6149 A319-132        2008                    154              \n",
              "6150 750             1998                    10               \n",
              "6151 C90             1981                    7                \n",
              "6152 ATR-72-212A     2012                    75               \n",
              "6153 PA-30           1968                    4                \n",
              "6154 182N            1970                    4                \n",
              "6155 G33             1972                    5                \n",
              "6156 R44 II          2007                    4                \n",
              "6157 727-2M7         1976                    3                \n",
              "6158 PA-31T1         1981                    7                \n",
              "6159 TBM700N         2008                    0                \n",
              "6160 FALCON 2000EX   2012                    13               \n",
              "6161 525             1998                    6                \n",
              "6162 A320-251N       2016                    NULL             \n",
              "6163 ATR-72-212A     2012                    75               \n",
              "6164 EMB-201         1975                    2                \n",
              "6165 152             1978                    2                \n",
              "6166 AB-180          1991                    2                \n",
              "6167 A320-251N       2017                    NULL             \n",
              "6168 EMB-110P1       1989                    12               \n",
              "6169 EMB-810D        1985                    6                \n",
              "6170 550             1981                    9                \n",
              "6171 A320-223        0                       0                \n",
              "6172 EMB-720D        1985                    7                \n",
              "6173 A320-214        2011                    184              \n",
              "6174 EMB-711B        1979                    4                \n",
              "6175 EMB-810C        1981                    6                \n",
              "6176 ERJ 190-200 IGW 2010                    125              \n",
              "6177 EMB-810D        1991                    6                \n",
              "     aeronave_motor_tipo aeronave_motor_quantidade\n",
              "1    PISTÃO              BIMOTOR                  \n",
              "2    PISTÃO              MONOMOTOR                \n",
              "3    PISTÃO              MONOMOTOR                \n",
              "4    JATO                BIMOTOR                  \n",
              "5    JATO                BIMOTOR                  \n",
              "6    TURBOÉLICE          BIMOTOR                  \n",
              "7    PISTÃO              TRIMOTOR                 \n",
              "8    TURBOÉLICE          BIMOTOR                  \n",
              "9    PISTÃO              MONOMOTOR                \n",
              "10   PISTÃO              MONOMOTOR                \n",
              "11   PISTÃO              BIMOTOR                  \n",
              "12   JATO                BIMOTOR                  \n",
              "13   PISTÃO              MONOMOTOR                \n",
              "14   TURBOEIXO           BIMOTOR                  \n",
              "15   TURBOEIXO           BIMOTOR                  \n",
              "16   PISTÃO              MONOMOTOR                \n",
              "17   PISTÃO              MONOMOTOR                \n",
              "18   PISTÃO              MONOMOTOR                \n",
              "19   TURBOÉLICE          MONOMOTOR                \n",
              "20   PISTÃO              MONOMOTOR                \n",
              "21   PISTÃO              MONOMOTOR                \n",
              "22   TURBOÉLICE          BIMOTOR                  \n",
              "23   PISTÃO              MONOMOTOR                \n",
              "24   TURBOÉLICE          BIMOTOR                  \n",
              "25   PISTÃO              BIMOTOR                  \n",
              "26   PISTÃO              MONOMOTOR                \n",
              "27   PISTÃO              MONOMOTOR                \n",
              "28   PISTÃO              BIMOTOR                  \n",
              "29   TURBOÉLICE          BIMOTOR                  \n",
              "30   PISTÃO              BIMOTOR                  \n",
              "⋮    ⋮                   ⋮                        \n",
              "6148 JATO                BIMOTOR                  \n",
              "6149 JATO                BIMOTOR                  \n",
              "6150 JATO                BIMOTOR                  \n",
              "6151 TURBOÉLICE          BIMOTOR                  \n",
              "6152 TURBOÉLICE          BIMOTOR                  \n",
              "6153 PISTÃO              BIMOTOR                  \n",
              "6154 PISTÃO              MONOMOTOR                \n",
              "6155 PISTÃO              MONOMOTOR                \n",
              "6156 PISTÃO              MONOMOTOR                \n",
              "6157 JATO                TRIMOTOR                 \n",
              "6158 TURBOÉLICE          BIMOTOR                  \n",
              "6159 TURBOÉLICE          MONOMOTOR                \n",
              "6160 JATO                BIMOTOR                  \n",
              "6161 JATO                BIMOTOR                  \n",
              "6162 JATO                BIMOTOR                  \n",
              "6163 TURBOÉLICE          BIMOTOR                  \n",
              "6164 PISTÃO              MONOMOTOR                \n",
              "6165 PISTÃO              MONOMOTOR                \n",
              "6166 PISTÃO              MONOMOTOR                \n",
              "6167 JATO                BIMOTOR                  \n",
              "6168 TURBOÉLICE          BIMOTOR                  \n",
              "6169 PISTÃO              BIMOTOR                  \n",
              "6170 JATO                BIMOTOR                  \n",
              "6171 ***                 SEM TRAÇÃO               \n",
              "6172 PISTÃO              MONOMOTOR                \n",
              "6173 JATO                BIMOTOR                  \n",
              "6174 PISTÃO              MONOMOTOR                \n",
              "6175 PISTÃO              BIMOTOR                  \n",
              "6176 JATO                BIMOTOR                  \n",
              "6177 PISTÃO              BIMOTOR                  \n",
              "     aeronave_fase_operacao          aeronave_nivel_dano ⋯\n",
              "1    POUSO                           SUBSTANCIAL         ⋯\n",
              "2    MANOBRA                         SUBSTANCIAL         ⋯\n",
              "3    ESPECIALIZADA                   LEVE                ⋯\n",
              "4    DESCIDA                         NENHUM              ⋯\n",
              "5    CORRIDA APÓS POUSO              NENHUM              ⋯\n",
              "6    DECOLAGEM                       LEVE                ⋯\n",
              "7    CORRIDA APÓS POUSO              LEVE                ⋯\n",
              "8    TÁXI                            NENHUM              ⋯\n",
              "9    CORRIDA APÓS POUSO              LEVE                ⋯\n",
              "10   CORRIDA APÓS POUSO              NENHUM              ⋯\n",
              "11   CRUZEIRO                        LEVE                ⋯\n",
              "12   DESCIDA                         NENHUM              ⋯\n",
              "13   CIRCUITO DE TRÁFEGO             NENHUM              ⋯\n",
              "14   CRUZEIRO                        NENHUM              ⋯\n",
              "15   POUSO                           NENHUM              ⋯\n",
              "16   DECOLAGEM                       DESTRUÍDA           ⋯\n",
              "17   DECOLAGEM                       SUBSTANCIAL         ⋯\n",
              "18   OUTRA FASE                      SUBSTANCIAL         ⋯\n",
              "19   APROXIMAÇÃO FINAL               SUBSTANCIAL         ⋯\n",
              "20   POUSO                           SUBSTANCIAL         ⋯\n",
              "21   OUTRA FASE                      DESTRUÍDA           ⋯\n",
              "22   APROXIMAÇÃO FINAL               DESTRUÍDA           ⋯\n",
              "23   CRUZEIRO                        SUBSTANCIAL         ⋯\n",
              "24   SUBIDA                          NENHUM              ⋯\n",
              "25   CORRIDA APÓS POUSO              NENHUM              ⋯\n",
              "26   DECOLAGEM                       NENHUM              ⋯\n",
              "27   SUBIDA                          SUBSTANCIAL         ⋯\n",
              "28   CORRIDA APÓS POUSO              LEVE                ⋯\n",
              "29   TÁXI                            LEVE                ⋯\n",
              "30   DECOLAGEM                       NENHUM              ⋯\n",
              "⋮    ⋮                               ⋮                   ⋱\n",
              "6148 APROXIMAÇÃO FINAL               NENHUM              ⋯\n",
              "6149 DECOLAGEM                       NENHUM              ⋯\n",
              "6150 PROCEDIMENTO DE APROXIMAÇÃO IFR NENHUM              ⋯\n",
              "6151 CORRIDA APÓS POUSO              LEVE                ⋯\n",
              "6152 DECOLAGEM                       NENHUM              ⋯\n",
              "6153 ARREMETIDA NO SOLO              LEVE                ⋯\n",
              "6154 POUSO                           NENHUM              ⋯\n",
              "6155 DECOLAGEM                       NENHUM              ⋯\n",
              "6156 INDETERMINADA                   DESTRUÍDA           ⋯\n",
              "6157 DECOLAGEM                       NENHUM              ⋯\n",
              "6158 CORRIDA APÓS POUSO              NENHUM              ⋯\n",
              "6159 CRUZEIRO                        LEVE                ⋯\n",
              "6160 POUSO                           LEVE                ⋯\n",
              "6161 DECOLAGEM                       LEVE                ⋯\n",
              "6162 CORRIDA APÓS POUSO              NENHUM              ⋯\n",
              "6163 CORRIDA APÓS POUSO              NENHUM              ⋯\n",
              "6164 SUBIDA                          SUBSTANCIAL         ⋯\n",
              "6165 CRUZEIRO                        NENHUM              ⋯\n",
              "6166 DECOLAGEM                       NENHUM              ⋯\n",
              "6167 APROXIMAÇÃO FINAL               NENHUM              ⋯\n",
              "6168 CIRCUITO DE TRÁFEGO             LEVE                ⋯\n",
              "6169 CORRIDA APÓS POUSO              SUBSTANCIAL         ⋯\n",
              "6170 DECOLAGEM                       LEVE                ⋯\n",
              "6171 TÁXI                            NENHUM              ⋯\n",
              "6172 POUSO                           LEVE                ⋯\n",
              "6173 ESTACIONAMENTO                  LEVE                ⋯\n",
              "6174 DECOLAGEM                       LEVE                ⋯\n",
              "6175 CORRIDA APÓS POUSO              LEVE                ⋯\n",
              "6176 PROCEDIMENTO DE APROXIMAÇÃO IFR NENHUM              ⋯\n",
              "6177 POUSO                           LEVE                ⋯\n",
              "     aeronave_operador_categoria aeronave_tipo_icao aeronave_pmd\n",
              "1    ***                         PA31                 3175      \n",
              "2    ***                         R22                   621      \n",
              "3    ESPECIALIZADA               AT3P                 2722      \n",
              "4    REGULAR                     B738                70533      \n",
              "5    ***                         E145                21990      \n",
              "6    REGULAR                     AT43                16700      \n",
              "7    ***                         DC10               256280      \n",
              "8    PARTICULAR                  B350                 6804      \n",
              "9    INSTRUÇÃO                   AB11                  770      \n",
              "10   INSTRUÇÃO                   A122                  840      \n",
              "11   TÁXI AÉREO                  PA34                 2073      \n",
              "12   REGULAR                     A320                77000      \n",
              "13   INSTRUÇÃO                   P28A                  930      \n",
              "14   TÁXI AÉREO                  S76                  4763      \n",
              "15   TÁXI AÉREO                  A139                 6800      \n",
              "16   ***                         H269                  759      \n",
              "17   ***                         C188                 1905      \n",
              "18   ***                         PA25                 1315      \n",
              "19   ***                         C208                 3969      \n",
              "20   ***                         IPAN                 1800      \n",
              "21   ***                         IPAN                 1800      \n",
              "22   ***                         BE20                 5670      \n",
              "23   ***                         P32R                 1633      \n",
              "24   REGULAR                     AT72                22000      \n",
              "25   TÁXI AÉREO                  BE58                 2449      \n",
              "26   ESPECIALIZADA               C182                 1338      \n",
              "27   ***                         R22                   621      \n",
              "28   ***                         PA34                 2073      \n",
              "29   REGULAR                     AT43                16700      \n",
              "30   PARTICULAR                  BE58                 2495      \n",
              "⋮    ⋮                           ⋮                  ⋮           \n",
              "6148 ***                         B738               70533       \n",
              "6149 ***                         A319               75500       \n",
              "6150 ***                         C750               16194       \n",
              "6151 ***                         BE9L                4377       \n",
              "6152 ***                         AT72               23000       \n",
              "6153 ***                         PA30                1633       \n",
              "6154 ***                         C182                1338       \n",
              "6155 ***                         BE33                1497       \n",
              "6156 ***                         R44                 1134       \n",
              "6157 ***                         B722               92124       \n",
              "6158 ***                         PAY1                3946       \n",
              "6159 ***                         TBM7                3354       \n",
              "6160 ***                         F2TH               19414       \n",
              "6161 ***                         C525                4717       \n",
              "6162 ***                         A20N               79000       \n",
              "6163 ***                         AT72               23000       \n",
              "6164 ***                         IPAN                1800       \n",
              "6165 ***                         C152                 758       \n",
              "6166 ***                         AB18                 844       \n",
              "6167 ***                         A20N               79000       \n",
              "6168 ***                         E110                5670       \n",
              "6169 ***                         PA34                2155       \n",
              "6170 ***                         C550                6033       \n",
              "6171 ***                         A320               77000       \n",
              "6172 ***                         PA32                1633       \n",
              "6173 ***                         A320               77000       \n",
              "6174 ***                         P28R                1248       \n",
              "6175 ***                         PA34                2073       \n",
              "6176 ***                         E190               52290       \n",
              "6177 ***                         PA34                2155       \n",
              "     aeronave_pmd_categoria aeronave_pais_registro aeronave_registro_categoria\n",
              "1      3175                 BRASIL                 AVIÃO                      \n",
              "2       621                 BRASIL                 HELICÓPTERO                \n",
              "3      2722                 BRASIL                 AVIÃO                      \n",
              "4     70533                 BRASIL                 AVIÃO                      \n",
              "5     21990                 BRASIL                 AVIÃO                      \n",
              "6     16700                 BRASIL                 AVIÃO                      \n",
              "7    256280                 ESTADOS UNIDOS         AVIÃO                      \n",
              "8      6804                 BRASIL                 AVIÃO                      \n",
              "9       770                 BRASIL                 AVIÃO                      \n",
              "10      840                 BRASIL                 AVIÃO                      \n",
              "11     2073                 BRASIL                 AVIÃO                      \n",
              "12    77000                 BRASIL                 AVIÃO                      \n",
              "13      930                 BRASIL                 AVIÃO                      \n",
              "14     4763                 BRASIL                 HELICÓPTERO                \n",
              "15     6800                 BRASIL                 HELICÓPTERO                \n",
              "16      759                 BRASIL                 HELICÓPTERO                \n",
              "17     1905                 BRASIL                 AVIÃO                      \n",
              "18     1315                 BRASIL                 AVIÃO                      \n",
              "19     3969                 BRASIL                 AVIÃO                      \n",
              "20     1800                 BRASIL                 AVIÃO                      \n",
              "21     1800                 BRASIL                 AVIÃO                      \n",
              "22     5670                 BRASIL                 AVIÃO                      \n",
              "23     1633                 BRASIL                 AVIÃO                      \n",
              "24    22000                 BRASIL                 AVIÃO                      \n",
              "25     2449                 BRASIL                 AVIÃO                      \n",
              "26     1338                 BRASIL                 AVIÃO                      \n",
              "27      621                 BRASIL                 HELICÓPTERO                \n",
              "28     2073                 BRASIL                 AVIÃO                      \n",
              "29    16700                 BRASIL                 AVIÃO                      \n",
              "30     2495                 BRASIL                 AVIÃO                      \n",
              "⋮    ⋮                      ⋮                      ⋮                          \n",
              "6148 70533                  BRASIL                 AVIÃO                      \n",
              "6149 75500                  BRASIL                 AVIÃO                      \n",
              "6150 16194                  BRASIL                 AVIÃO                      \n",
              "6151  4377                  BRASIL                 AVIÃO                      \n",
              "6152 23000                  BRASIL                 AVIÃO                      \n",
              "6153  1633                  BRASIL                 AVIÃO                      \n",
              "6154  1338                  BRASIL                 AVIÃO                      \n",
              "6155  1497                  BRASIL                 AVIÃO                      \n",
              "6156  1134                  BRASIL                 HELICÓPTERO                \n",
              "6157 92124                  BRASIL                 AVIÃO                      \n",
              "6158  3946                  BRASIL                 AVIÃO                      \n",
              "6159  3354                  BRASIL                 AVIÃO                      \n",
              "6160 19414                  BRASIL                 AVIÃO                      \n",
              "6161  4717                  BRASIL                 AVIÃO                      \n",
              "6162 79000                  BRASIL                 AVIÃO                      \n",
              "6163 23000                  BRASIL                 AVIÃO                      \n",
              "6164  1800                  BRASIL                 AVIÃO                      \n",
              "6165   758                  BRASIL                 AVIÃO                      \n",
              "6166   844                  BRASIL                 AVIÃO                      \n",
              "6167 79000                  BRASIL                 AVIÃO                      \n",
              "6168  5670                  BRASIL                 AVIÃO                      \n",
              "6169  2155                  BRASIL                 AVIÃO                      \n",
              "6170  6033                  BRASIL                 AVIÃO                      \n",
              "6171 77000                  CHILE                  AVIÃO                      \n",
              "6172  1633                  BRASIL                 AVIÃO                      \n",
              "6173 77000                  BRASIL                 AVIÃO                      \n",
              "6174  1248                  BRASIL                 AVIÃO                      \n",
              "6175  2073                  BRASIL                 AVIÃO                      \n",
              "6176 52290                  BRASIL                 AVIÃO                      \n",
              "6177  2155                  BRASIL                 AVIÃO                      \n",
              "     aeronave_registro_segmento aeronave_voo_origem              \n",
              "1    TÁXI AÉREO                 DEPUTADO LUÍS EDUARDO MAGALHÃES  \n",
              "2    INSTRUÇÃO                  FORA DE AERODROMO                \n",
              "3    ESPECIALIZADA              FORA DE AERODROMO                \n",
              "4    REGULAR                    FORA DE AERODROMO                \n",
              "5    REGULAR                    FORA DE AERODROMO                \n",
              "6    REGULAR                    FORA DE AERODROMO                \n",
              "7    ***                        FORA DE AERODROMO                \n",
              "8    PARTICULAR                 FORA DE AERODROMO                \n",
              "9    INSTRUÇÃO                  FORA DE AERODROMO                \n",
              "10   INSTRUÇÃO                  FORA DE AERODROMO                \n",
              "11   TÁXI AÉREO                 FORA DE AERODROMO                \n",
              "12   REGULAR                    PRESIDENTE JUSCELINO KUBITSCHEK  \n",
              "13   INSTRUÇÃO                  FORA DE AERODROMO                \n",
              "14   TÁXI AÉREO                 FORA DE AERODROMO                \n",
              "15   TÁXI AÉREO                 FORA DE AERODROMO                \n",
              "16   PARTICULAR                 PRESIDENTE JUSCELINO KUBITSCHEK  \n",
              "17   AGRÍCOLA                   FORA DE AERODROMO                \n",
              "18   AGRÍCOLA                   FORA DE AERODROMO                \n",
              "19   TÁXI AÉREO                 PLÁCIDO DE CASTRO                \n",
              "20   PARTICULAR                 PARQUE ANA COSTA                 \n",
              "21   AGRÍCOLA                   FORA DE AERODROMO                \n",
              "22   PARTICULAR                 PRESIDENTE JUSCELINO KUBITSCHEK  \n",
              "23   PARTICULAR                 MANUEL URBANO                    \n",
              "24   REGULAR                    FORA DE AERODROMO                \n",
              "25   TÁXI AÉREO                 FORA DE AERODROMO                \n",
              "26   ESPECIALIZADA              FORA DE AERODROMO                \n",
              "27   INSTRUÇÃO                  FORA DE AERODROMO                \n",
              "28   PARTICULAR                 PLÁCIDO DE CASTRO                \n",
              "29   REGULAR                    FORA DE AERODROMO                \n",
              "30   PARTICULAR                 FORA DE AERODROMO                \n",
              "⋮    ⋮                          ⋮                                \n",
              "6148 REGULAR                    SALGADO FILHO                    \n",
              "6149 REGULAR                    CONGONHAS                        \n",
              "6150 PARTICULAR                 FAZENDA PORTOBELLO               \n",
              "6151 TÁXI AÉREO                 VAL DE CANS / JÚLIO CEZAR RIBEIRO\n",
              "6152 REGULAR                    TANCREDO NEVES                   \n",
              "6153 INSTRUÇÃO                  Maricá                           \n",
              "6154 ADMINISTRAÇÃO DIRETA       ESTÂNCIA SANTA MARIA             \n",
              "6155 PARTICULAR                 ESTÂNCIA SANTA MARIA             \n",
              "6156 MÚLTIPLA                   ***                              \n",
              "6157 REGULAR                    ANTONIO CARLOS JOBIM / GALEÃO    \n",
              "6158 PARTICULAR                 PILOTO OSVALDO MARQUES DIAS      \n",
              "6159 PARTICULAR                 CAMPO DE MARTE                   \n",
              "6160 PARTICULAR                 NOVA ANDRADINA                   \n",
              "6161 PARTICULAR                 REDENÇÃO                         \n",
              "6162 REGULAR                    PINTO MARTINS                    \n",
              "6163 REGULAR                    VIRACOPOS                        \n",
              "6164 AGRÍCOLA                   FORA DE AERODROMO                \n",
              "6165 INSTRUÇÃO                  SÍLVIO NAME JÚNIOR               \n",
              "6166 INSTRUÇÃO                  BAURU                            \n",
              "6167 REGULAR                    MAESTRO WILSON FONSECA           \n",
              "6168 ADMINISTRAÇÃO DIRETA       OIAPOQUE                         \n",
              "6169 ADMINISTRAÇÃO DIRETA       DEPUTADO LUÍS EDUARDO MAGALHÃES  \n",
              "6170 TÁXI AÉREO                 LÁBREA                           \n",
              "6171 REGULAR                    ANTONIO CARLOS JOBIM / GALEÃO    \n",
              "6172 PARTICULAR                 CMTE Juliano Rambo               \n",
              "6173 REGULAR                    EURICO DE AGUIAR SALLES          \n",
              "6174 PARTICULAR                 FAZENDA SANTA RITA DO ARAGUAIA   \n",
              "6175 PARTICULAR                 ABA                              \n",
              "6176 REGULAR                    SANTOS DUMONT                    \n",
              "6177 PARTICULAR                 SANTOS DUMONT                    \n",
              "     aeronave_voo_destino                aeronave_tipo_operacao\n",
              "1    FAZENDA PONTAL                      TÁXI AÉREO            \n",
              "2    FORA DE AERODROMO                   INSTRUÇÃO             \n",
              "3    FORA DE AERODROMO                   ESPECIALIZADA         \n",
              "4    FORA DE AERODROMO                   REGULAR               \n",
              "5    FORA DE AERODROMO                   REGULAR               \n",
              "6    FORA DE AERODROMO                   REGULAR               \n",
              "7    FORA DE AERODROMO                   ***                   \n",
              "8    FORA DE AERODROMO                   PRIVADA               \n",
              "9    FORA DE AERODROMO                   INSTRUÇÃO             \n",
              "10   FORA DE AERODROMO                   INSTRUÇÃO             \n",
              "11   FORA DE AERODROMO                   TÁXI AÉREO            \n",
              "12   GUARARAPES - GILBERTO FREYRE        REGULAR               \n",
              "13   FORA DE AERODROMO                   INSTRUÇÃO             \n",
              "14   FORA DE AERODROMO                   TÁXI AÉREO            \n",
              "15   FORA DE AERODROMO                   TÁXI AÉREO            \n",
              "16   SANTA GENOVEVA/GOIÂNIA              PRIVADA               \n",
              "17   FORA DE AERODROMO                   AGRÍCOLA              \n",
              "18   FORA DE AERODROMO                   AGRÍCOLA              \n",
              "19   TARAUACÁ                            TÁXI AÉREO            \n",
              "20   FORA DE AERODROMO                   PRIVADA               \n",
              "21   FORA DE AERODROMO                   AGRÍCOLA              \n",
              "22   SANTA GENOVEVA/GOIÂNIA              PRIVADA               \n",
              "23   EIRUNEPÉ                            PRIVADA               \n",
              "24   FORA DE AERODROMO                   REGULAR               \n",
              "25   FORA DE AERODROMO                   TÁXI AÉREO            \n",
              "26   FORA DE AERODROMO                   ESPECIALIZADA         \n",
              "27   FORA DE AERODROMO                   INSTRUÇÃO             \n",
              "28   PAUINI                              PRIVADA               \n",
              "29   FORA DE AERODROMO                   REGULAR               \n",
              "30   FORA DE AERODROMO                   PRIVADA               \n",
              "⋮    ⋮                                   ⋮                     \n",
              "6148 CONGONHAS                           REGULAR               \n",
              "6149 PROFESSOR ERIBERTO MANOEL REINO     REGULAR               \n",
              "6150 PRESIDENTE JUSCELINO KUBITSCHEK     PRIVADA               \n",
              "6151 VAL DE CANS / JÚLIO CEZAR RIBEIRO   TÁXI AÉREO            \n",
              "6152 GUANAMBI                            REGULAR               \n",
              "6153 Clube Céu                           INSTRUÇÃO             \n",
              "6154 ESTÂNCIA SANTA MARIA                POLICIAL              \n",
              "6155 AGROPECUÁRIA CÉU ABERTO LTDA        PRIVADA               \n",
              "6156 ***                                 ***                   \n",
              "6157 EURICO DE AGUIAR SALLES             REGULAR               \n",
              "6158 EDUARDO GOMES                       PRIVADA               \n",
              "6159 PEDRO MORGANTI                      PRIVADA               \n",
              "6160 BACACHERI                           PRIVADA               \n",
              "6161 SANTA GENOVEVA/GOIÂNIA              PRIVADA               \n",
              "6162 GUARARAPES - GILBERTO FREYRE        REGULAR               \n",
              "6163 LAURO CARNEIRO DE LOYOLA            REGULAR               \n",
              "6164 FORA DE AERODROMO                   AGRÍCOLA              \n",
              "6165 SÍLVIO NAME JÚNIOR                  INSTRUÇÃO             \n",
              "6166 BAURU                               PRIVADA               \n",
              "6167 VAL DE CANS / JÚLIO CEZAR RIBEIRO   REGULAR               \n",
              "6168 ALBERTO ALCOLUMBRE                  PRIVADA               \n",
              "6169 SEBASTIÃO JOSÉ PEREIRA              NÃO REGULAR           \n",
              "6170 EDUARDO GOMES                       TÁXI AÉREO            \n",
              "6171 AEROPORTO INTERNACIONAL DE SANTIAGO REGULAR               \n",
              "6172 MARECHAL RONDON                     PRIVADA               \n",
              "6173 CONGONHAS                           REGULAR               \n",
              "6174 TERUEL IPANEMA ESTÂNCIA             PRIVADA               \n",
              "6175 MÁRIO RIBEIRO                       PRIVADA               \n",
              "6176 CONGONHAS                           REGULAR               \n",
              "6177 GOVERNADOR JOSÉ RICHA               PRIVADA               "
            ]
          },
          "metadata": {}
        },
        {
          "output_type": "stream",
          "name": "stdout",
          "text": [
            "── Data Summary ────────────────────────\n",
            "                           Values\n",
            "Name                       dados \n",
            "Number of rows             6191  \n",
            "Number of columns          11    \n",
            "_______________________          \n",
            "Column type frequency:           \n",
            "  character                9     \n",
            "  Date                     1     \n",
            "  numeric                  1     \n",
            "________________________         \n",
            "Group variables            None  \n",
            "\n",
            "── Variable type: character ────────────────────────────────────────────────────\n",
            "  skim_variable             n_missing complete_rate min max empty n_unique\n",
            "\u001b[90m1\u001b[39m aeronave_tipo_veiculo             0         1       3  11     0       10\n",
            "\u001b[90m2\u001b[39m aeronave_pais_fabricante          0         1       5  16     0       24\n",
            "\u001b[90m3\u001b[39m aeronave_fabricante               0         1       2  47     0      257\n",
            "\u001b[90m4\u001b[39m aeronave_modelo                   0         1       2  29     0      805\n",
            "\u001b[90m5\u001b[39m aeronave_assentos                 0         1       1   4     0       94\n",
            "\u001b[90m6\u001b[39m aeronave_motor_tipo              14         0.998   3  10     0        6\n",
            "\u001b[90m7\u001b[39m aeronave_motor_quantidade         0         1       3  11     0        6\n",
            "\u001b[90m8\u001b[39m aeronave_fase_operacao            0         1       3  31     0       32\n",
            "\u001b[90m9\u001b[39m aeronave_nivel_dano               0         1       3  11     0        5\n",
            "  whitespace\n",
            "\u001b[90m1\u001b[39m          0\n",
            "\u001b[90m2\u001b[39m          0\n",
            "\u001b[90m3\u001b[39m          0\n",
            "\u001b[90m4\u001b[39m          0\n",
            "\u001b[90m5\u001b[39m          0\n",
            "\u001b[90m6\u001b[39m          0\n",
            "\u001b[90m7\u001b[39m          0\n",
            "\u001b[90m8\u001b[39m          0\n",
            "\u001b[90m9\u001b[39m          0\n",
            "\n",
            "── Variable type: Date ─────────────────────────────────────────────────────────\n",
            "  skim_variable           n_missing complete_rate min     max        median    \n",
            "\u001b[90m1\u001b[39m aeronave_ano_fabricacao       223         0.964 0-10-27 9999-10-27 1993-10-27\n",
            "  n_unique\n",
            "\u001b[90m1\u001b[39m       82\n",
            "\n",
            "── Variable type: numeric ──────────────────────────────────────────────────────\n",
            "  skim_variable              n_missing complete_rate  mean    sd p0 p25 p50 p75\n",
            "\u001b[90m1\u001b[39m aeronave_fatalidades_total         0             1 0.148 0.679  0   0   0   0\n",
            "  p100 hist \n",
            "\u001b[90m1\u001b[39m   16 ▇▁▁▁▁\n"
          ]
        },
        {
          "output_type": "stream",
          "name": "stderr",
          "text": [
            "Warning message in is.null(text_repr) || nchar(text_repr) == 0L:\n",
            "“'length(x) = 3 > 1' in coercion to 'logical(1)'”\n"
          ]
        }
      ],
      "source": [
        "dados <- read_csv2(\"dados.csv\")\n",
        "\n",
        "#excluindo linhas com valores inexistentes\n",
        "na.omit(dados)\n",
        "\n",
        "#excluindo colunas irrelevantes para este contexto\n",
        "dados<-dados[,-c(12:23)]\n",
        "\n",
        "#transformando o campo ano em date\n",
        "dados$aeronave_ano_fabricacao <- as.Date(dados$aeronave_ano_fabricacao, \"%Y\")\n",
        "\n",
        "skim(dados)"
      ]
    },
    {
      "cell_type": "code",
      "execution_count": 10,
      "metadata": {
        "colab": {
          "base_uri": "https://localhost:8080/",
          "height": 437
        },
        "id": "nmAVpIeZ26A_",
        "outputId": "ab87c7f1-8cd3-46cb-e493-b89e5971779e"
      },
      "outputs": [
        {
          "output_type": "display_data",
          "data": {
            "text/plain": [
              "plot without title"
            ],
            "image/png": "[encoded data removed]"
          },
          "metadata": {
            "image/png": {
              "width": 420,
              "height": 420
            }
          }
        }
      ],
      "source": [
        "dados %>% \n",
        "filter(aeronave_fase_operacao == \"DECOLAGEM\")|>\n",
        "filter(is.na(aeronave_motor_tipo) == FALSE) |>\n",
        "filter(is.na(aeronave_fase_operacao) == FALSE)%>% \n",
        "ggplot(aes(x = aeronave_motor_tipo, y = aeronave_fatalidades_total),\n",
        "show.legend = FALSE) +\n",
        "geom_col(fill = \"darkblue\", width = 0.5) +\n",
        "xlab(\"TIPO DE MOTOR\") +\n",
        "ylab(\"FATALIDADES\") +\n",
        "ggtitle(\"DECOLAGEM\") +\n",
        "theme_bw() +\n",
        "coord_flip()"
      ]
    },
    {
      "cell_type": "code",
      "execution_count": 11,
      "metadata": {
        "colab": {
          "base_uri": "https://localhost:8080/",
          "height": 437
        },
        "id": "_ByKjdzl3BCw",
        "outputId": "f9ea123d-52ff-446b-88f8-07feeadfa09f"
      },
      "outputs": [
        {
          "output_type": "display_data",
          "data": {
            "text/plain": [
              "plot without title"
            ],
            "image/png": "[encoded data removed]"
          },
          "metadata": {
            "image/png": {
              "width": 420,
              "height": 420
            }
          }
        }
      ],
      "source": [
        "dados %>% \n",
        "filter(aeronave_fabricante == \"EMBRAER\") %>% \n",
        "ggplot(aes(x = aeronave_fatalidades_total, y = aeronave_fase_operacao))+\n",
        "geom_line(size=4)+\n",
        "theme_bw() +\n",
        "geom_col(fill = \"black\", width = 0.5) +\n",
        "ggtitle(\"EMBRAER\") +\n",
        "ylab(\"OPERAÇÃO\") +\n",
        "xlab(\"MORTES\")"
      ]
    },
    {
      "cell_type": "code",
      "execution_count": 12,
      "metadata": {
        "colab": {
          "base_uri": "https://localhost:8080/",
          "height": 295
        },
        "id": "btmwJJ603Ekb",
        "outputId": "f7d2555d-2401-4da8-a52f-3ec24bb819b0"
      },
      "outputs": [
        {
          "output_type": "stream",
          "name": "stdout",
          "text": [
            "Rows: 6,191\n",
            "Columns: 11\n",
            "$ aeronave_tipo_veiculo      \u001b[3m\u001b[90m<chr>\u001b[39m\u001b[23m \"AVIÃO\", \"HELICÓPTERO\", \"AVIÃO\", \"AVIÃO\", \"…\n",
            "$ aeronave_pais_fabricante   \u001b[3m\u001b[90m<chr>\u001b[39m\u001b[23m \"BRASIL\", \"BRASIL\", \"BRASIL\", \"BRASIL\", \"BR…\n",
            "$ aeronave_fabricante        \u001b[3m\u001b[90m<chr>\u001b[39m\u001b[23m \"EMBRAER\", \"ROBINSON HELICOPTER\", \"AIR TRAC…\n",
            "$ aeronave_modelo            \u001b[3m\u001b[90m<chr>\u001b[39m\u001b[23m \"EMB-820C NAVAJO\", \"R22 BETA\", \"AT-401B\", \"…\n",
            "$ aeronave_ano_fabricacao    \u001b[3m\u001b[90m<date>\u001b[39m\u001b[23m 1976-10-27, 1991-10-27, 1994-10-27, 2009-1…\n",
            "$ aeronave_assentos          \u001b[3m\u001b[90m<chr>\u001b[39m\u001b[23m \"10\", \"2\", \"1\", \"197\", \"54\", \"50\", \"0\", \"11…\n",
            "$ aeronave_motor_tipo        \u001b[3m\u001b[90m<chr>\u001b[39m\u001b[23m \"PISTÃO\", \"PISTÃO\", \"PISTÃO\", \"JATO\", \"JATO…\n",
            "$ aeronave_motor_quantidade  \u001b[3m\u001b[90m<chr>\u001b[39m\u001b[23m \"BIMOTOR\", \"MONOMOTOR\", \"MONOMOTOR\", \"BIMOT…\n",
            "$ aeronave_fase_operacao     \u001b[3m\u001b[90m<chr>\u001b[39m\u001b[23m \"POUSO\", \"MANOBRA\", \"ESPECIALIZADA\", \"DESCI…\n",
            "$ aeronave_nivel_dano        \u001b[3m\u001b[90m<chr>\u001b[39m\u001b[23m \"SUBSTANCIAL\", \"SUBSTANCIAL\", \"LEVE\", \"NENH…\n",
            "$ aeronave_fatalidades_total \u001b[3m\u001b[90m<dbl>\u001b[39m\u001b[23m 0, 0, 0, 0, 0, 0, 0, 0, 0, 0, 0, 0, 0, 0, 0…\n"
          ]
        },
        {
          "output_type": "display_data",
          "data": {
            "text/plain": [
              "\n",
              "   0    1    2    3    4    5    6    7    8   10   16 \n",
              "5733  239  120   34   30   19    6    5    3    1    1 "
            ]
          },
          "metadata": {}
        }
      ],
      "source": [
        "glimpse(dados)\n",
        "table(dados$aeronave_fatalidades_total)   #número de mortes (coluna de cima) por ocorrências\n"
      ]
    },
    {
      "cell_type": "code",
      "execution_count": 13,
      "metadata": {
        "colab": {
          "base_uri": "https://localhost:8080/",
          "height": 34
        },
        "id": "vEWkYxF_3I7_",
        "outputId": "5b23cccb-3007-4257-fa16-4ffb7e8cc819"
      },
      "outputs": [
        {
          "output_type": "display_data",
          "data": {
            "text/html": [
              "917"
            ],
            "text/markdown": "917",
            "text/latex": "917",
            "text/plain": [
              "[1] 917"
            ]
          },
          "metadata": {}
        }
      ],
      "source": [
        "#Total de óbitos\n",
        "total <-sum(dados$aeronave_fatalidades_total)\n",
        "total"
      ]
    },
    {
      "cell_type": "code",
      "execution_count": 14,
      "metadata": {
        "colab": {
          "base_uri": "https://localhost:8080/",
          "height": 857
        },
        "id": "_0OV7oF33KCK",
        "outputId": "a7236019-2e87-4757-f138-6d512ad4bf90"
      },
      "outputs": [
        {
          "output_type": "display_data",
          "data": {
            "text/plain": [
              "plot without title"
            ],
            "image/png": "[encoded data removed]"
          },
          "metadata": {
            "image/png": {
              "width": 420,
              "height": 420
            }
          }
        },
        {
          "output_type": "display_data",
          "data": {
            "text/plain": [
              "plot without title"
            ],
            "image/png": "[encoded data removed]"
          },
          "metadata": {
            "image/png": {
              "width": 420,
              "height": 420
            }
          }
        }
      ],
      "source": [
        "#Ranking de óbitos por fabricante\n",
        "\n",
        "fatal_fabri <- dados[order(dados$aeronave_fatalidades_total, decreasing=TRUE), ][5:1, ]\n",
        "\n",
        "fatal_fabri %>%\n",
        "ggplot(aes(x = aeronave_fabricante, y = aeronave_fatalidades_total),\n",
        "show.legend = FALSE) +\n",
        "geom_col(fill = \"lightblue\", width = 0.5) +\n",
        "xlab(\"FABRICANTE\") +\n",
        "ylab(\"FATALIDADES\") +\n",
        "theme_bw()\n",
        "\n",
        "fatal_fabri %>% \n",
        "  ggplot(aes(x = aeronave_ano_fabricacao,  \n",
        "             y = aeronave_fabricante)) +\n",
        "             theme_bw() +\n",
        "             coord_flip()+\n",
        "  geom_boxplot(aes(color = aeronave_fatalidades_total))\n"
      ]
    },
    {
      "cell_type": "code",
      "execution_count": 15,
      "metadata": {
        "colab": {
          "base_uri": "https://localhost:8080/",
          "height": 156
        },
        "id": "OXFgjhZU3J5t",
        "outputId": "09cf6af6-a318-4a58-ae54-bb1dc0991c24"
      },
      "outputs": [
        {
          "output_type": "display_data",
          "data": {
            "text/plain": [
              "                   Total\n",
              "aeronave_motor_tipo 0 4 21 47 106 107 632\n",
              "         ***        0 0  0  1   0   0   0\n",
              "         JATO       0 0  1  0   0   0   0\n",
              "         PISTÃO     0 0  0  0   0   0   1\n",
              "         SEM TRAÇÃO 0 1  0  0   0   0   0\n",
              "         TURBOEIXO  0 0  0  0   0   1   0\n",
              "         TURBOÉLICE 0 0  0  0   1   0   0"
            ]
          },
          "metadata": {}
        }
      ],
      "source": [
        "#Total de óbitos por tipo de motor da aeronave\n",
        "fatal_motor <- group_by(dados,aeronave_motor_tipo)%>%summarise(Total=sum(aeronave_fatalidades_total))\n",
        "\n",
        "table(fatal_motor)"
      ]
    },
    {
      "cell_type": "code",
      "execution_count": 16,
      "metadata": {
        "colab": {
          "base_uri": "https://localhost:8080/",
          "height": 590
        },
        "id": "DJTEKcrL3JwG",
        "outputId": "be4b343c-0547-4adc-dc02-2bb3d36320a5"
      },
      "outputs": [
        {
          "output_type": "display_data",
          "data": {
            "text/plain": [
              "aeronave_fase_operacao\n",
              "                            ***               APROXIMAÇÃO FINAL \n",
              "                             29                             346 \n",
              "               ARREMETIDA NO AR              ARREMETIDA NO SOLO \n",
              "                             31                              50 \n",
              "       CHEQUE DE MOTOR OU ROTOR             CIRCUITO DE TRÁFEGO \n",
              "                              6                             133 \n",
              "             CORRIDA APÓS POUSO                        CRUZEIRO \n",
              "                            672                             943 \n",
              "                      DECOLAGEM              DECOLAGEM VERTICAL \n",
              "                            993                              14 \n",
              "                        DESCIDA           DESCIDA DE EMERGÊNCIA \n",
              "                            166                               3 \n",
              "          DESCIDA DESCONTROLADA                 EMPREGO MILITAR \n",
              "                              3                               1 \n",
              "                  ESPECIALIZADA                          ESPERA \n",
              "                            151                               3 \n",
              "                 ESTACIONAMENTO                   INDETERMINADA \n",
              "                             82                             108 \n",
              "                        MANOBRA    MUDANÇA DE NÍVEL OU ALTITUDE \n",
              "                            264                               1 \n",
              "               OPERAÇÃO DE SOLO                      OUTRA FASE \n",
              "                             30                              67 \n",
              "                        PAIRADO                PARTIDA DO MOTOR \n",
              "                             18                              24 \n",
              "                          POUSO PROCEDIMENTO DE APROXIMAÇÃO IFR \n",
              "                           1013                              20 \n",
              "                       PUSHBACK                      RETA FINAL \n",
              "                              8                              14 \n",
              "                      SAÍDA IFR                          SUBIDA \n",
              "                              9                             475 \n",
              "                           TÁXI              VOO A BAIXA ALTURA \n",
              "                            449                              65 "
            ]
          },
          "metadata": {}
        }
      ],
      "source": [
        "#Total de Acidentes Fatais por fase da operação\n",
        "table(dados[,9])"
      ]
    },
    {
      "cell_type": "code",
      "execution_count": 17,
      "metadata": {
        "colab": {
          "base_uri": "https://localhost:8080/"
        },
        "id": "52JgBSAH3Jfu",
        "outputId": "38a54625-8129-4282-cb69-043a8b194e98"
      },
      "outputs": [
        {
          "output_type": "stream",
          "name": "stderr",
          "text": [
            "Warning message in mask$eval_all_mutate(quo):\n",
            "“NAs introduced by coercion”\n"
          ]
        },
        {
          "output_type": "stream",
          "name": "stdout",
          "text": [
            "Rows: 6,191\n",
            "Columns: 11\n",
            "$ aeronave_tipo_veiculo      \u001b[3m\u001b[90m<fct>\u001b[39m\u001b[23m AVIÃO, HELICÓPTERO, AVIÃO, AVIÃO, AVIÃO, AV…\n",
            "$ aeronave_pais_fabricante   \u001b[3m\u001b[90m<fct>\u001b[39m\u001b[23m BRASIL, BRASIL, BRASIL, BRASIL, BRASIL, BRA…\n",
            "$ aeronave_fabricante        \u001b[3m\u001b[90m<fct>\u001b[39m\u001b[23m EMBRAER, ROBINSON HELICOPTER, AIR TRACTOR, …\n",
            "$ aeronave_modelo            \u001b[3m\u001b[90m<fct>\u001b[39m\u001b[23m EMB-820C NAVAJO, R22 BETA, AT-401B, 737-8EH…\n",
            "$ aeronave_ano_fabricacao    \u001b[3m\u001b[90m<dbl>\u001b[39m\u001b[23m 2491, 7969, 9065, 14544, 11622, 8700, 3952,…\n",
            "$ aeronave_assentos          \u001b[3m\u001b[90m<dbl>\u001b[39m\u001b[23m 10, 2, 1, 197, 54, 50, 0, 11, 3, 2, 6, 184,…\n",
            "$ aeronave_motor_tipo        \u001b[3m\u001b[90m<fct>\u001b[39m\u001b[23m PISTÃO, PISTÃO, PISTÃO, JATO, JATO, TURBOÉL…\n",
            "$ aeronave_motor_quantidade  \u001b[3m\u001b[90m<fct>\u001b[39m\u001b[23m BIMOTOR, MONOMOTOR, MONOMOTOR, BIMOTOR, BIM…\n",
            "$ aeronave_fase_operacao     \u001b[3m\u001b[90m<fct>\u001b[39m\u001b[23m POUSO, MANOBRA, ESPECIALIZADA, DESCIDA, COR…\n",
            "$ aeronave_nivel_dano        \u001b[3m\u001b[90m<fct>\u001b[39m\u001b[23m SUBSTANCIAL, SUBSTANCIAL, LEVE, NENHUM, NEN…\n",
            "$ aeronave_fatalidades_total \u001b[3m\u001b[90m<fct>\u001b[39m\u001b[23m FALSE, FALSE, FALSE, FALSE, FALSE, FALSE, F…\n"
          ]
        }
      ],
      "source": [
        "#A base de dados exibe a quantidade de vítimas e, para a classificação, a variável y deverá ser binária\n",
        "dados$aeronave_fatalidades_total[dados$aeronave_fatalidades_total>=1]<-\"TRUE\"\n",
        "dados$aeronave_fatalidades_total[dados$aeronave_fatalidades_total==0]<-\"FALSE\"\n",
        "\n",
        "#As variáveis independentes devem ser fatores, que denotam níveis para classificação\n",
        "dados<-mutate(dados,across(\"aeronave_tipo_veiculo\":\"aeronave_modelo\",as_factor))\n",
        "dados<-mutate(dados,across(\"aeronave_motor_tipo\":\"aeronave_nivel_dano\",as_factor))\n",
        "dados<-mutate(dados,across(\"aeronave_ano_fabricacao\":\"aeronave_assentos\",as.numeric))\n",
        "dados$aeronave_fatalidades_total<-as_factor(dados$aeronave_fatalidades_total)\n",
        "glimpse(dados)\n"
      ]
    },
    {
      "cell_type": "code",
      "execution_count": 18,
      "metadata": {
        "colab": {
          "base_uri": "https://localhost:8080/",
          "height": 156
        },
        "id": "xTjwHYwR3pz2",
        "outputId": "43f48356-0000-4d9b-ca6d-459105e0c269"
      },
      "outputs": [
        {
          "output_type": "display_data",
          "data": {
            "text/plain": [
              "\n",
              "FALSE  TRUE \n",
              " 5733   458 "
            ]
          },
          "metadata": {}
        },
        {
          "output_type": "display_data",
          "data": {
            "text/plain": [
              "\n",
              "FALSE  TRUE \n",
              " 4587   365 "
            ]
          },
          "metadata": {}
        },
        {
          "output_type": "display_data",
          "data": {
            "text/html": [
              "0.0739783556775965"
            ],
            "text/markdown": "0.0739783556775965",
            "text/latex": "0.0739783556775965",
            "text/plain": [
              "[1] 0.07397836"
            ]
          },
          "metadata": {}
        },
        {
          "output_type": "display_data",
          "data": {
            "text/html": [
              "0.0745153473344103"
            ],
            "text/markdown": "0.0745153473344103",
            "text/latex": "0.0745153473344103",
            "text/plain": [
              "[1] 0.07451535"
            ]
          },
          "metadata": {}
        }
      ],
      "source": [
        "data_split<- initial_split(dados,prop = 0.8)\n",
        "dados_treino <- training(data_split)\n",
        "\n",
        "table(dados$aeronave_fatalidades_total)\n",
        "table(dados_treino$aeronave_fatalidades_total)\n",
        "\n",
        "#conferindo a proporção de 80% para analisar se o split está balanceado\n",
        "\n",
        "#original -> 0.07397836\n",
        "458/(5733+458)\n",
        "\n",
        "#dados splitados -> 0.07512116\n",
        "369/(4583+369)\n",
        "\n",
        "#valores similares, ok"
      ]
    },
    {
      "cell_type": "code",
      "execution_count": 19,
      "metadata": {
        "id": "FFMJ3zNp3sxz",
        "colab": {
          "base_uri": "https://localhost:8080/",
          "height": 1000
        },
        "outputId": "e777566b-2cb1-4564-dcef-c98e03bb910f"
      },
      "outputs": [
        {
          "output_type": "display_data",
          "data": {
            "text/plain": [
              "══ Workflow [trained] ══════════════════════════════════════════════════════════\n",
              "\u001b[3mPreprocessor:\u001b[23m Recipe\n",
              "\u001b[3mModel:\u001b[23m decision_tree()\n",
              "\n",
              "── Preprocessor ────────────────────────────────────────────────────────────────\n",
              "0 Recipe Steps\n",
              "\n",
              "── Model ───────────────────────────────────────────────────────────────────────\n",
              "n= 4952 \n",
              "\n",
              "node), split, n, loss, yval, (yprob)\n",
              "      * denotes terminal node\n",
              "\n",
              " 1) root 4952 365 FALSE (0.92629241 0.07370759)  \n",
              "   2) aeronave_nivel_dano=SUBSTANCIAL,LEVE,NENHUM,*** 4672 157 FALSE (0.96639555 0.03360445)  \n",
              "     4) aeronave_modelo=EMB-820C NAVAJO,R22 BETA,AT-401B,737-8EH,EMB-145LR,ATR-42-320,B300,AB-115,A-122-B,EMB-810C,A320-214,EMB-712,S-76A,AW139,A188B,PA-25-260,208B,EMB-202,EMB-201,200,EMB-721D,ATR-72-202,58,182P,ATR-42-300,390,AS 350 B3,A36,ATR-42-500,PA-25-235,150M,A310-304,PA-28R-200,SR22,727-264,P206A,170A,ERJ 190-200 IGW,ERJ 190-100 IGW,A320-232,C90,31A,FOX II,PA-34-200,CAP-4,F28MK0100,A321-231,PA-31T1,PA-32R-301T,56-C,R44 II,152,56-C-1,R-12,S-76C,737-36N,EMB-202A,737-341,95-B55,737-7BX,A109E,210L,EMB-810D,AS 350 B2,650,ERJ 170-200 LR,737-76N,PA-34-220T,150J,35A,690B,407,F33A,EMB-720D,737-3Y0,E55,737-3U3,PA-28RT-201T,EMB-145EP,R44,EMB-720C,A319-132,206B,AS 355 F2,A330-223,EMB-820C CARAJA,SR20,AT-502B,PELICAN 500BR,MU-2B-36A,45,525A,PA-18-150,172S,AT-802A,MU-2B-60,737-7Q8,AS 365 N2,A188A,IPE-02B,EMB-711ST,ATR-72-212A,S-92A,PA-32R-301,HB-350B,EC 120 B,PA-46-350P,BN-2A-21,172E,206L-4,210K,425,210M,172M,AW119MKII,EMB-201A,EMB-110P1,EMB-710C,EC 225 LP,S-61N,208,L410UVP-E20,D17S,VIMANA R-12,PARADISE P-1,EMB-711T,172RG,PA-36-300,737-36Q,U206G,EMB-721C,150E,C17L,EMB-500,PC-12/47E,737-73S,PA-28-140,BN-2A-27,RV-10,ORION F1-A,DYNAMIC WT-9,A319-115,EMB-711C,RV-9A,R22,767-316F,727-214F,PA-31T,AS 365 N3,AB139,31,150F,EC 155 B1,36,MISTRAL,PA-46R-350T,737-322,PA-39,177RG,T206H,AB-180,C90GT,172A,EMB-711,ERJ 190-100 LR,400A,PELICAN 500 BR,212,A150K,KW1,310Q,G58,D35,LAKE 250,CORSARIO MK-5,550,P2002 SIERRA RG,TBM700N,SEAMAX M22,C90A,AS 355 N,D3,A-122-A,EMB-505,BO-105S,VENTURA,A340-312,210N,737-8BK,737-809,727-2M7,777-32WER,P210N,PA-30,P2004 BRAVO,108-2,737-73V,B90,PA-31,737-3Q8,310R,PA-18,F90,JABIRU J250,180C,AS 350 BA,A340,PC-12/47,PA-23-250,MD-11F,56-C-1REBOCADOR,A330-243,A36TC,EC 135P2+,525,P.180,PA-31-350,B200,T210L,CONQUEST 180,AA-155,V35B,DA20-C1,58P,LR45,EMB-710,MI-171A1,C90GTI,A320-231,737-75B,600N,AMT-600,95-A55,EMB-202 IPANEMA,727-243,J3C-65,150L,B200GT,ST-10,M20TN,206L-3,510,172G,AW109SP,MU-2B-20,310B,EC 135T1,AMT-200SO,767-328,EMB-121A1,727-214,A340-642,T210M,U206F,500,777-F6N,737-85F,560XL,680,560,U206D,767-322,T210N,172R,206H,EC 130 B4,PC-12/45,EMB-711B,PA-34-200T,525B,D55,FALCON 2000EX,PC-12,FOX VECTOR V6,PA-31T2,EXCEL,COMP AIR CA-7,FASCINATION D4,***,180D,GV-2,60,HAWKER 900XP,BRAVO 700,GULFSTREAM 200,737-73A,T182T,RV-7,EMB-110,737-3S3,U206C,RV-7A,182E,HT-295,R66,A318-122,RV- 9A,AS 355 NP,AS 355 F1,114,180G,CONDOR MB,FALCON G3,767-424ER,PA-36-375,PC-6/B2-H4,T210R,750,206,PA-28R-201,402B,737-76Q,172P,170B,150H,172D,A318-121,CMA,BUCKER,F1A EAGLE,EXPERIMENTAL,182G,737-8AS,PA-28R-201T,BAE125-800B,AA-2120,EXPLORER,CORSARIO MK5,PA-32-300,M20M,737-7EH,550 BRAVO,T188C,GA200C,AT-402A,G36,PA-28-235,210,P 2002 SIERRA,269C-1,M20B,CHRISTEN EAGLE,737-4Y0,A330-203,AGUIA JA,55C,TL-2000RG STING,737-8HX,KR-2S,B60,56-B,SKYRANGER,172C,23,BK 117 C-2,AGUIAII,CP-750 BERYL,150G,TBM700B,767-316ER,172N,182T,180E,A340-313X,PA-42-720,Adventure,Excel Cargo,EMB-711A,188B,182Q,CORSARIO MK V,Bravo 700,A150M,747-4R7F,FALCON 2000,A109S,EA500,429,PITTS SPECIAL,PITTSS15 AVIAO,S2A,MCC VENTURA,EXCEL CARGO,1124A,A330-202,REMOS G3-600,695A,RV7A,208 ANFIBIO,170,P64B,KF-IV,560XLS+,737-86N,177B,G-IV,A320-233,A319-112,SZD-48-1,95-C55,150K,SZD-48-3,R182,777-222,PA-46-500TP,EMB-145MP,55,BUMERANGUE EX-27 CROSS-CONTRY,FALCON 7X,182N,PARADISE,FASCINATION,K-51,GESPI-2000,NIMBUS 3D PLAN.,P2008,182A,182K,685,G FLY,AT-802,PA-32-301FT,EMB-135BJ,VENTURA IAM,727-225,525C,N35,767-323,N210,SUPER PETREL LS,182D,PA-42,A321-211,777-21H(LR),P92 ECHO SUPER,45 (LEARJET 40),FOX V5,8KCAB,CONQUEST 160,M-6-235,AC-12,RV-9 A,MXT-7-180,RANS S-9,EC 135T2,BK117 C-2,CONQUEST 180 LSA,EMB-120QC,767-323ER,210R,KP-2U-SOVA,CORSARIOMK III,KOLBFLYER SS,PA-28-161,PARADISE P4,737-4B6,SEDAN,CONQUEST,STORM-30B,560 ULTRA,SEAWIND,MU-2B-25,B36TC,AT-402B,757-28A,P92 EAGLET,400,PARADISE P1 LSA,S2R-T34,A330,300,777-223ER,VIRUS,T240,GOLDEN VENTURA,ASTRO II,B777-300ER,A200,CABRI G2,767-316,AT-602,STORM 300B,172,A300-B4-203,AB-2,A152,737-867,PZL-SW4,AMT-100,182F,CHALLENGER II,A320-251N,767-322ER,FOXTROT 4,RK-2,ZENAIR CH 701,NORTH LAND PA-18,PATRIOT,C-195-T,CARCARA I,695,WEGA XP-400,737-7EA,500-B,EC 135P2,175,M35,A185F,ASTRA SPX,A185E,S2R-H80,MU-2B-40,STORM 300,ERJ-170-200,IPE-06,FOX V-5 SUPER,ML 400T,56-B-1,737-4K5,AA-155 QUASARLITE II,A320-253N,SANHAUA,P-1,P92-S ECHO,C95M,500-S,DA 62,MODELO DESCONHECIDO,ZODIAC CH-640,ANJOFAR,EMB-203,172B,CTU,A29B,P92 GOLF,L23,A100,BRAVO700,PARADISE P1,FOX V5 TANDEM,SZD 51 1,737-2Y5,777-328ER,PIK-20D,BOEING 757 200,EMB-810,PA-28R-180,737-48E,747-431,PA-31-325,AT-502,FK9 Mk IVB,182S,PA-28-180,MX-7-180,ECHO P92S,172K,REGENTE -42 ELO,MC01,120,BEARHAWK,A320-271N,FASCINATION D4 BK-BR,KR2S,58TC,AT-502A,PA-32-301,505,RANS S6ES,GVI,EC135 T3,GREAT BLK.HAWK,ERJ 190-400,M-4,A40A3F,LK-10A,182M,DA 40,B24R,T-51 MUSTANG,35-C33A,RV-4,747-406FER,RANSCOYOTE S6ES,RÉPLICA J3,RANS S-6ES,FEELING,KOLBFLYER,FC-04 PEGASUS,737-7K5,A321-251NX,PA-12,MONTAER MC01,C35,681,7GCBC,ASW20,180J,STOL CH-701,EMB-720,EC 135T2+,J250,RV-04,MXP-740,P-56C,PA-24-220T,Airbus A320-251N,FAX V4,A321-111,FK-9MK IV,EC175 B,EC 130 T2,CONQUEST 210,PA-11,PIX,310G,CL-600-2B16,737-8 MAX,POTY,DYNAMIC WT9,ERJ 190-200 LR,P2002 SIERRA DE LUXE,LIGHTNING,SPORT TRAINER,PC-24,EXEC 162 F,172F,M20F,4000,PA-46-600TP,737-3L9,AKB-18,ANSSEC180 AVIAO,SEAMAX M-22,G33,A320-223 4627 120 FALSE (0.97406527 0.02593473)  \n",
              "       8) aeronave_modelo=EMB-820C NAVAJO,R22 BETA,737-8EH,EMB-145LR,ATR-42-320,B300,AB-115,A-122-B,EMB-810C,A320-214,EMB-712,S-76A,AW139,A188B,208B,EMB-202,200,EMB-721D,ATR-72-202,58,182P,ATR-42-300,390,AS 350 B3,A36,ATR-42-500,150M,A310-304,PA-28R-200,SR22,727-264,P206A,170A,ERJ 190-200 IGW,ERJ 190-100 IGW,A320-232,C90,31A,PA-34-200,CAP-4,F28MK0100,A321-231,PA-31T1,PA-32R-301T,56-C,R44 II,152,56-C-1,R-12,S-76C,737-36N,737-341,95-B55,737-7BX,A109E,210L,EMB-810D,AS 350 B2,650,ERJ 170-200 LR,737-76N,PA-34-220T,150J,35A,690B,407,F33A,737-3Y0,E55,737-3U3,PA-28RT-201T,EMB-145EP,R44,EMB-720C,A319-132,AS 355 F2,A330-223,SR20,AT-502B,MU-2B-36A,45,525A,PA-18-150,172S,AT-802A,MU-2B-60,737-7Q8,AS 365 N2,A188A,EMB-711ST,ATR-72-212A,S-92A,PA-32R-301,HB-350B,EC 120 B,PA-46-350P,BN-2A-21,172E,206L-4,210K,425,210M,172M,AW119MKII,EMB-110P1,EC 225 LP,S-61N,L410UVP-E20,D17S,PARADISE P-1,EMB-711T,172RG,PA-36-300,737-36Q,U206G,EMB-721C,150E,C17L,EMB-500,PC-12/47E,737-73S,PA-28-140,BN-2A-27,ORION F1-A,A319-115,EMB-711C,R22,767-316F,727-214F,PA-31T,AS 365 N3,AB139,31,150F,EC 155 B1,36,737-322,PA-39,177RG,T206H,AB-180,172A,EMB-711,ERJ 190-100 LR,400A,PELICAN 500 BR,A150K,KW1,310Q,G58,D35,LAKE 250,CORSARIO MK-5,550,P2002 SIERRA RG,SEAMAX M22,C90A,AS 355 N,D3,A-122-A,EMB-505,BO-105S,VENTURA,A340-312,210N,737-8BK,737-809,727-2M7,777-32WER,P210N,P2004 BRAVO,108-2,737-73V,B90,PA-31,737-3Q8,310R,PA-18,F90,JABIRU J250,180C,AS 350 BA,A340,PC-12/47,PA-23-250,MD-11F,56-C-1REBOCADOR,A330-243,A36TC,EC 135P2+,525,P.180,PA-31-350,B200,AA-155,DA20-C1,58P,LR45,EMB-710,MI-171A1,A320-231,737-75B,600N,AMT-600,95-A55,EMB-202 IPANEMA,727-243,J3C-65,150L,B200GT,ST-10,M20TN,206L-3,510,172G,AW109SP,MU-2B-20,310B,EC 135T1,AMT-200SO,767-328,EMB-121A1,727-214,A340-642,T210M,U206F,500,777-F6N,737-85F,560XL,680,560,U206D,767-322,172R,206H,EC 130 B4,PC-12/45,EMB-711B,PA-34-200T,525B,D55,FALCON 2000EX,PC-12,FOX VECTOR V6,PA-31T2,EXCEL,COMP AIR CA-7,FASCINATION D4,***,180D,GV-2,60,HAWKER 900XP,BRAVO 700,GULFSTREAM 200,737-73A,RV-7,EMB-110,737-3S3,U206C,RV-7A,HT-295,R66,A318-122,RV- 9A,AS 355 NP,AS 355 F1,114,180G,CONDOR MB,FALCON G3,767-424ER,PC-6/B2-H4,T210R,750,206,PA-28R-201,402B,737-76Q,172P,170B,150H,172D,A318-121,CMA,BUCKER,F1A EAGLE,EXPERIMENTAL,182G,737-8AS,PA-28R-201T,BAE125-800B,AA-2120,EXPLORER,CORSARIO MK5,PA-32-300,M20M,737-7EH,550 BRAVO,GA200C,AT-402A,G36,PA-28-235,210,P 2002 SIERRA,269C-1,M20B,CHRISTEN EAGLE,737-4Y0,A330-203,AGUIA JA,55C,TL-2000RG STING,737-8HX,KR-2S,B60,56-B,SKYRANGER,172C,23,BK 117 C-2,AGUIAII,CP-750 BERYL,150G,TBM700B,767-316ER,182T,180E,A340-313X,PA-42-720,Adventure,Excel Cargo,188B,182Q,CORSARIO MK V,Bravo 700,A150M,747-4R7F,FALCON 2000,A109S,EA500,429,PITTS SPECIAL,PITTSS15 AVIAO,S2A,MCC VENTURA,EXCEL CARGO,1124A,A330-202,REMOS G3-600,695A,RV7A,170,P64B,KF-IV,560XLS+,737-86N,177B,G-IV,A320-233,A319-112,SZD-48-1,95-C55,150K,SZD-48-3,R182,777-222,PA-46-500TP,EMB-145MP,55,BUMERANGUE EX-27 CROSS-CONTRY,FALCON 7X,182N,PARADISE,FASCINATION,K-51,GESPI-2000,NIMBUS 3D PLAN.,P2008,182A,182K,685,G FLY,AT-802,PA-32-301FT,EMB-135BJ,VENTURA IAM,727-225,525C,N35,767-323,N210,182D,PA-42,A321-211,777-21H(LR),P92 ECHO SUPER,45 (LEARJET 40),FOX V5,8KCAB,CONQUEST 160,M-6-235,AC-12,RV-9 A,MXT-7-180,RANS S-9,EC 135T2,BK117 C-2,CONQUEST 180 LSA,EMB-120QC,767-323ER,210R,KP-2U-SOVA,CORSARIOMK III,PA-28-161,PARADISE P4,737-4B6,SEDAN,CONQUEST,STORM-30B,560 ULTRA,SEAWIND,MU-2B-25,B36TC,757-28A,P92 EAGLET,400,PARADISE P1 LSA,S2R-T34,A330,300,777-223ER,VIRUS,T240,GOLDEN VENTURA,ASTRO II,B777-300ER,A200,CABRI G2,767-316,AT-602,STORM 300B,172,A300-B4-203,AB-2,A152,737-867,PZL-SW4,AMT-100,182F,CHALLENGER II,A320-251N,767-322ER,FOXTROT 4,RK-2,ZENAIR CH 701,NORTH LAND PA-18,PATRIOT,C-195-T,CARCARA I,695,WEGA XP-400,737-7EA,500-B,EC 135P2,175,M35,A185F,ASTRA SPX,A185E,S2R-H80,MU-2B-40,STORM 300,ERJ-170-200,IPE-06,ML 400T,56-B-1,737-4K5,AA-155 QUASARLITE II,A320-253N,SANHAUA,P-1,P92-S ECHO,C95M,500-S,DA 62,ZODIAC CH-640,ANJOFAR,172B,CTU,A29B,P92 GOLF,L23,A100,BRAVO700,PARADISE P1,FOX V5 TANDEM,SZD 51 1,737-2Y5,777-328ER,PIK-20D,BOEING 757 200,EMB-810,PA-28R-180,737-48E,747-431,PA-31-325,AT-502,FK9 Mk IVB,182S,PA-28-180,MX-7-180,ECHO P92S,172K,REGENTE -42 ELO,MC01,120,BEARHAWK,A320-271N,FASCINATION D4 BK-BR,KR2S,58TC,AT-502A,PA-32-301,505,RANS S6ES,GVI,EC135 T3,GREAT BLK.HAWK,ERJ 190-400,M-4,A40A3F,LK-10A,182M,DA 40,B24R,T-51 MUSTANG,35-C33A,RV-4,747-406FER,RANSCOYOTE S6ES,RÉPLICA J3,RANS S-6ES,FEELING,KOLBFLYER,FC-04 PEGASUS,737-7K5,A321-251NX,PA-12,MONTAER MC01,C35,681,7GCBC,ASW20,180J,STOL CH-701,EMB-720,EC 135T2+,J250,RV-04,MXP-740,P-56C,PA-24-220T,Airbus A320-251N,FAX V4,A321-111,FK-9MK IV,EC175 B,EC 130 T2,CONQUEST 210,PA-11,PIX,310G,CL-600-2B16,737-8 MAX,POTY,DYNAMIC WT9,ERJ 190-200 LR,P2002 SIERRA DE LUXE,LIGHTNING,SPORT TRAINER,PC-24,EXEC 162 F,172F,M20F,4000,PA-46-600TP,737-3L9,AKB-18,ANSSEC180 AVIAO,SEAMAX M-22,G33,A320-223 4121  46 FALSE (0.98883766 0.01116234) *\n",
              "       9) aeronave_modelo=AT-401B,PA-25-260,EMB-201,PA-25-235,FOX II,EMB-202A,EMB-720D,206B,EMB-820C CARAJA,PELICAN 500BR,IPE-02B,EMB-201A,EMB-710C,208,VIMANA R-12,RV-10,DYNAMIC WT-9,RV-9A,MISTRAL,PA-46R-350T,C90GT,212,TBM700N,PA-30,T210L,CONQUEST 180,V35B,C90GTI,T210N,T182T,182E,PA-36-375,T188C,172N,EMB-711A,208 ANFIBIO,SUPER PETREL LS,KOLBFLYER SS,AT-402B,FOX V-5 SUPER,MODELO DESCONHECIDO,EMB-203 506  74 FALSE (0.85375494 0.14624506)  \n",
              "        18) aeronave_fase_operacao=POUSO,MANOBRA,ESPECIALIZADA,DESCIDA,CORRIDA APÓS POUSO,DECOLAGEM,TÁXI,CRUZEIRO,CIRCUITO DE TRÁFEGO,OUTRA FASE,APROXIMAÇÃO FINAL,SUBIDA,ARREMETIDA NO SOLO,VOO A BAIXA ALTURA,ESTACIONAMENTO,PARTIDA DO MOTOR,RETA FINAL,PROCEDIMENTO DE APROXIMAÇÃO IFR,*** 491  62 FALSE (0.87372709 0.12627291) *\n",
              "        19) aeronave_fase_operacao=ARREMETIDA NO AR,INDETERMINADA,OPERAÇÃO DE SOLO,SAÍDA IFR 15   3 TRUE (0.20000000 0.80000000) *\n",
              "     5) aeronave_modelo=N-592-420,SG-ES COYOTE,ADVENTURE,PARADISE I,FLOPES,AA-155 QUASAR LITE II,FOX V5 ADVANCED,SONEX,PETREL,BN-2A-3,RV-6A,140,SUPERPULSAR 100,RANS S6ESCOIOTE,M22 FW,FOZ 400,SLICK 540,AS 350 B,XT912 TUNDRA,TRIKE,EMB-200A,COYOTE II,CORSARIO MK III,E33A,FOX VECTOR V-6,FOX IIB,COZY MARK IV,MISTRAL 582,ML450T,GESPI 2001,T210H 45   8 TRUE (0.17777778 0.82222222) *\n",
              "   3) aeronave_nivel_dano=DESTRUÍDA 280  72 TRUE (0.25714286 0.74285714)  \n",
              "     6) aeronave_modelo=R22 BETA,269A-1,208B,182P,SR22,170A,FOX II,152,R44,PELICAN 500BR,AT-802A,210K,EMB-721C,BO-105S,B90,600N,412,182G,TU206G,PA-22-135,PA-28-235,KR-2S,SEAWIND AVIAO,FOX NEWSTAR V7,AC-16,KOLB FLYER SS,KR-LAC,AMAZON,172L,KODIAC 100,KORTH-CUBBY,EMB-203,AT-502,MISTRAL 582C,ACS-330 42   2 FALSE (0.95238095 0.04761905) *\n",
              "     7) aeronave_modelo=EMB-820C NAVAJO,EMB-810C,AW139,A188B,PA-25-260,EMB-202,EMB-201,200,EMB-721D,58,AS 350 B3,A36,PA-25-235,PA-28R-200,C90,FOX V5 SUPER,PA-34-200,CAP-4,R44 II,EMB-202A,95-B55,210L,EMB-810D,AS 350 B2,650,PA-34-220T,407,F33A,EMB-720D,E55,EMB-720C,206B,SR20,AT-502B,HB-350B,210M,AW119MKII,EMB-201A,EMB-710C,L410UVP-E20,VIMANA R-12,EMB-121A,RV-10,COYOTE,DYNAMIC WT-9,EMB-711C,RV-9A,IKARUS C42B,R22,EC 155 B1,N-592-420,T206H,C90GT,172A,CHRISTEN EAGLE II,V35,C90A,AS 355 N,210N,ACROBATA,AS 350 BA,B200,V35B,TROJAN T-28B,B200GT,ST-10,206L-3,AW109SP,EMB-121A1,EXPERIMENT,172R,ADVENTURE,EMB-711B,PA-31T2,EXCEL,***,PARADISE I,BRAVO 700,ULTRALEVE,RV-7,U206C,RV-7A,182E,R66,150H,T188C,G36,EA 300/L,KR-2,Bravo 700,A109S,140A,560XLS+,177B,A188,PA-42,182J,210D,P2002 SIERRA DELUXE,AT-402B,SAVANNAH-S,CA-9,CURUMIM II,PA-28-160,ESQUALO,EXTRA EA 230,AT-602,PROVÁVEL CESSNA 150,TRIKE,FLYER GT,F35,QR-15P LARUS,STORM 300 BRG,MODELO DESCONHECIDO,YPIRANGA,CAP-10B,PA-28-180,FOX V-4,RANS COYOTE,COMP AIR,FEN-U-201,C35 238  32 TRUE (0.13445378 0.86554622) *"
            ]
          },
          "metadata": {}
        }
      ],
      "source": [
        "#Aplicando o modelo na base de dados escolhida - Treino\n",
        "#montando a receita\n",
        "receita<- recipe(aeronave_fatalidades_total ~ ., data = dados_treino)\n",
        "\n",
        "#escolhendo a arquitetura e a engine\n",
        "modelo<- decision_tree() |>\n",
        "     set_engine(\"rpart\") |> \n",
        "     set_mode(\"classification\")\n",
        "       \n",
        "#definindo o fluxo de processamento\n",
        "fluxo <- workflow(receita,modelo)\n",
        "\n",
        "#executando o modelo em treino\n",
        "fit_modelo_treino <- fit(fluxo,dados_treino)\n",
        "\n",
        "fit_modelo_treino\n",
        "\n",
        "#Preprocessor: Recipe\n",
        "#Model: decision_tree()\n",
        "\n",
        "#*******************************************RESULTADOS TREINO**************\n",
        "#Registros de treino:4952\n",
        "#Erros:383 - ou seja, 383 ocorrências terminaram em acidentes fatais\n",
        "#Valor predominante(predição) = False, ou seja, sem fatalidade\n",
        "#Probabilidade de classificar corretamente: 92%\n",
        "#Probabilidade de classificar incorretamente: 0.07%\n",
        "#STUMP - O REGRAS 1 DIVISÃO (NÓ)\n",
        "#**************************************************************************\n"
      ]
    },
    {
      "cell_type": "code",
      "execution_count": 20,
      "metadata": {
        "colab": {
          "base_uri": "https://localhost:8080/",
          "height": 386
        },
        "id": "gZuRvIe63vmo",
        "outputId": "c9a6954a-2c39-47db-c36d-90289c2783b1"
      },
      "outputs": [
        {
          "output_type": "stream",
          "name": "stdout",
          "text": [
            "Rows: 1,239\n",
            "Columns: 11\n",
            "$ aeronave_tipo_veiculo      \u001b[3m\u001b[90m<fct>\u001b[39m\u001b[23m AVIÃO, AVIÃO, AVIÃO, AVIÃO, AVIÃO, AVIÃO, A…\n",
            "$ aeronave_pais_fabricante   \u001b[3m\u001b[90m<fct>\u001b[39m\u001b[23m BRASIL, BRASIL, ESTADOS UNIDOS, BRASIL, BRA…\n",
            "$ aeronave_fabricante        \u001b[3m\u001b[90m<fct>\u001b[39m\u001b[23m AIR TRACTOR, BOEING COMPANY, MCDONNELL DOUG…\n",
            "$ aeronave_modelo            \u001b[3m\u001b[90m<fct>\u001b[39m\u001b[23m AT-401B, 737-8EH, DC-10-30F, PA-25-260, EMB…\n",
            "$ aeronave_ano_fabricacao    \u001b[3m\u001b[90m<dbl>\u001b[39m\u001b[23m 9065, 14544, 3952, 299, 12718, 3221, 14179,…\n",
            "$ aeronave_assentos          \u001b[3m\u001b[90m<dbl>\u001b[39m\u001b[23m 1, 197, 0, 1, 1, 6, 8, 6, 2, 52, 4, 4, 166,…\n",
            "$ aeronave_motor_tipo        \u001b[3m\u001b[90m<fct>\u001b[39m\u001b[23m PISTÃO, JATO, PISTÃO, PISTÃO, PISTÃO, PISTÃ…\n",
            "$ aeronave_motor_quantidade  \u001b[3m\u001b[90m<fct>\u001b[39m\u001b[23m MONOMOTOR, BIMOTOR, TRIMOTOR, MONOMOTOR, MO…\n",
            "$ aeronave_fase_operacao     \u001b[3m\u001b[90m<fct>\u001b[39m\u001b[23m ESPECIALIZADA, DESCIDA, CORRIDA APÓS POUSO,…\n",
            "$ aeronave_nivel_dano        \u001b[3m\u001b[90m<fct>\u001b[39m\u001b[23m LEVE, NENHUM, LEVE, SUBSTANCIAL, SUBSTANCIA…\n",
            "$ aeronave_fatalidades_total \u001b[3m\u001b[90m<fct>\u001b[39m\u001b[23m FALSE, FALSE, FALSE, TRUE, FALSE, FALSE, FA…\n"
          ]
        },
        {
          "output_type": "display_data",
          "data": {
            "text/html": [
              "<table class=\"dataframe\">\n",
              "<caption>A tibble: 2 × 3</caption>\n",
              "<thead>\n",
              "\t<tr><th scope=col>.metric</th><th scope=col>.estimator</th><th scope=col>.estimate</th></tr>\n",
              "\t<tr><th scope=col>&lt;chr&gt;</th><th scope=col>&lt;chr&gt;</th><th scope=col>&lt;dbl&gt;</th></tr>\n",
              "</thead>\n",
              "<tbody>\n",
              "\t<tr><td>accuracy</td><td>binary</td><td>0.9523810</td></tr>\n",
              "\t<tr><td>kap     </td><td>binary</td><td>0.6215305</td></tr>\n",
              "</tbody>\n",
              "</table>\n"
            ],
            "text/markdown": "\nA tibble: 2 × 3\n\n| .metric &lt;chr&gt; | .estimator &lt;chr&gt; | .estimate &lt;dbl&gt; |\n|---|---|---|\n| accuracy | binary | 0.9523810 |\n| kap      | binary | 0.6215305 |\n\n",
            "text/latex": "A tibble: 2 × 3\n\\begin{tabular}{lll}\n .metric & .estimator & .estimate\\\\\n <chr> & <chr> & <dbl>\\\\\n\\hline\n\t accuracy & binary & 0.9523810\\\\\n\t kap      & binary & 0.6215305\\\\\n\\end{tabular}\n",
            "text/plain": [
              "  .metric  .estimator .estimate\n",
              "1 accuracy binary     0.9523810\n",
              "2 kap      binary     0.6215305"
            ]
          },
          "metadata": {}
        }
      ],
      "source": [
        "#Aplicando o modelo na base de dados escolhida - Teste - e Analisando o resultado\n",
        "\n",
        "dados_teste <-testing(data_split)\n",
        "\n",
        "glimpse(dados_teste)\n",
        "result_teste <- predict(fit_modelo_treino, dados_teste)\n",
        "result_teste <-mutate(result_teste, aeronave_fatalidades_total = dados_teste$aeronave_fatalidades_total)\n",
        "result_teste |> metrics(aeronave_fatalidades_total, .pred_class)  #96% de acurácia"
      ]
    },
    {
      "cell_type": "code",
      "execution_count": 21,
      "metadata": {
        "colab": {
          "base_uri": "https://localhost:8080/",
          "height": 489
        },
        "id": "Jq4SkuFNAZWl",
        "outputId": "9a3342ff-9464-40fe-e0ce-8918c8cc0537"
      },
      "outputs": [
        {
          "output_type": "stream",
          "name": "stderr",
          "text": [
            "Installing package into ‘/usr/local/lib/R/site-library’\n",
            "(as ‘lib’ is unspecified)\n",
            "\n"
          ]
        },
        {
          "output_type": "display_data",
          "data": {
            "text/plain": [
              "plot without title"
            ],
            "image/png": "[encoded data removed]"
          },
          "metadata": {
            "image/png": {
              "width": 420,
              "height": 420
            }
          }
        }
      ],
      "source": [
        "install.packages(\"rpart.plot\")\n",
        "library(rpart.plot)\n",
        "\n",
        "#fit rpart model (i.e. decision tree)\n",
        "r = rpart(aeronave_fatalidades_total ~., data=dados_treino)\n",
        "#plot model\n",
        "rpart.plot(r)\n",
        "\n"
      ]
    },
    {
      "cell_type": "code",
      "execution_count": 28,
      "metadata": {
        "colab": {
          "base_uri": "https://localhost:8080/",
          "height": 161
        },
        "id": "8PkQPkKo3zx4",
        "outputId": "96ce63aa-a818-48d9-8b8a-11a8ca5930a6"
      },
      "outputs": [
        {
          "output_type": "display_data",
          "data": {
            "text/html": [
              "<table class=\"dataframe\">\n",
              "<caption>A tibble: 2 × 3</caption>\n",
              "<thead>\n",
              "\t<tr><th scope=col>.metric</th><th scope=col>.estimator</th><th scope=col>.estimate</th></tr>\n",
              "\t<tr><th scope=col>&lt;chr&gt;</th><th scope=col>&lt;chr&gt;</th><th scope=col>&lt;dbl&gt;</th></tr>\n",
              "</thead>\n",
              "<tbody>\n",
              "\t<tr><td>accuracy</td><td>binary</td><td>0.9249395</td></tr>\n",
              "\t<tr><td>kap     </td><td>binary</td><td>0.0000000</td></tr>\n",
              "</tbody>\n",
              "</table>\n"
            ],
            "text/markdown": "\nA tibble: 2 × 3\n\n| .metric &lt;chr&gt; | .estimator &lt;chr&gt; | .estimate &lt;dbl&gt; |\n|---|---|---|\n| accuracy | binary | 0.9249395 |\n| kap      | binary | 0.0000000 |\n\n",
            "text/latex": "A tibble: 2 × 3\n\\begin{tabular}{lll}\n .metric & .estimator & .estimate\\\\\n <chr> & <chr> & <dbl>\\\\\n\\hline\n\t accuracy & binary & 0.9249395\\\\\n\t kap      & binary & 0.0000000\\\\\n\\end{tabular}\n",
            "text/plain": [
              "  .metric  .estimator .estimate\n",
              "1 accuracy binary     0.9249395\n",
              "2 kap      binary     0.0000000"
            ]
          },
          "metadata": {}
        }
      ],
      "source": [
        "#Aplicando o modelo em base de teste setando hiperparâmetros\n",
        "modelo_hiperp<- decision_tree( \n",
        "     cost_complexity = 2, #modelo mais simples possÍvel, seguindo a Navalha de Ockam\n",
        "     tree_depth = 3, #distancia máxima do topo aos nós finais\n",
        "     min_n = 20)|> #minimo de exemploares em um nó para efetuar a dividir\n",
        "     set_engine(\"rpart\") |> \n",
        "     set_mode(\"classification\")\n",
        "\n",
        "\n",
        "#Adaptando o fluxo\n",
        "fluxo <- workflow(receita,modelo_hiperp)\n",
        "\n",
        "#Aplicando o modelo\n",
        "fit_modelo_hiperp <- fit(fluxo,dados_teste)\n",
        "dados_teste_hiperp <-testing(data_split)\n",
        "\n",
        "#obtendo resultados\n",
        "result_teste_hiperp <- predict(fit_modelo_hiperp, dados_teste)\n",
        "result_teste_hiperp <-mutate(result_teste_hiperp, aeronave_fatalidades_total = dados_teste$aeronave_fatalidades_total)\n",
        "result_teste_hiperp |> metrics(aeronave_fatalidades_total, .pred_class)  #94% de acurácia\n",
        "\n"
      ]
    },
    {
      "cell_type": "code",
      "execution_count": 29,
      "metadata": {
        "colab": {
          "base_uri": "https://localhost:8080/",
          "height": 161
        },
        "id": "zrT704xL3-X1",
        "outputId": "3e0f7e34-4af4-4789-cf4c-fbcb9a730a9e"
      },
      "outputs": [
        {
          "output_type": "display_data",
          "data": {
            "text/html": [
              "<table class=\"dataframe\">\n",
              "<caption>A tibble: 2 × 6</caption>\n",
              "<thead>\n",
              "\t<tr><th scope=col>.metric</th><th scope=col>.estimator</th><th scope=col>mean</th><th scope=col>n</th><th scope=col>std_err</th><th scope=col>.config</th></tr>\n",
              "\t<tr><th scope=col>&lt;chr&gt;</th><th scope=col>&lt;chr&gt;</th><th scope=col>&lt;dbl&gt;</th><th scope=col>&lt;int&gt;</th><th scope=col>&lt;dbl&gt;</th><th scope=col>&lt;chr&gt;</th></tr>\n",
              "</thead>\n",
              "<tbody>\n",
              "\t<tr><td>accuracy</td><td>binary</td><td>0.926294</td><td>5</td><td>0.00222181</td><td>Preprocessor1_Model1</td></tr>\n",
              "\t<tr><td>roc_auc </td><td>binary</td><td>0.500000</td><td>5</td><td>0.00000000</td><td>Preprocessor1_Model1</td></tr>\n",
              "</tbody>\n",
              "</table>\n"
            ],
            "text/markdown": "\nA tibble: 2 × 6\n\n| .metric &lt;chr&gt; | .estimator &lt;chr&gt; | mean &lt;dbl&gt; | n &lt;int&gt; | std_err &lt;dbl&gt; | .config &lt;chr&gt; |\n|---|---|---|---|---|---|\n| accuracy | binary | 0.926294 | 5 | 0.00222181 | Preprocessor1_Model1 |\n| roc_auc  | binary | 0.500000 | 5 | 0.00000000 | Preprocessor1_Model1 |\n\n",
            "text/latex": "A tibble: 2 × 6\n\\begin{tabular}{llllll}\n .metric & .estimator & mean & n & std\\_err & .config\\\\\n <chr> & <chr> & <dbl> & <int> & <dbl> & <chr>\\\\\n\\hline\n\t accuracy & binary & 0.926294 & 5 & 0.00222181 & Preprocessor1\\_Model1\\\\\n\t roc\\_auc  & binary & 0.500000 & 5 & 0.00000000 & Preprocessor1\\_Model1\\\\\n\\end{tabular}\n",
            "text/plain": [
              "  .metric  .estimator mean     n std_err    .config             \n",
              "1 accuracy binary     0.926294 5 0.00222181 Preprocessor1_Model1\n",
              "2 roc_auc  binary     0.500000 5 0.00000000 Preprocessor1_Model1"
            ]
          },
          "metadata": {}
        }
      ],
      "source": [
        "\n",
        "crossval <- vfold_cv(dados_treino, v = 5) #5 é a divisão de subgrupos amostrais. Quanto maior o número de folds, mais dados para treino e menos para teste, a custo de alta demanda de recursos computacionais. Neste caso, 4 partes da subamostra serão para treino e 1 para validação. Por meio deste procedimento, é possível efetuar cálculos como média e desvio padrão, facilitando a análise de qualidade do modelo Qnesta configuração de hiperparâmetros.O melhor resultado entre os hiperparâmetros dos subgrupos será adotado para testa da base toda.\n",
        "\n",
        "\n",
        "ajuste_rpart  <- fit_resamples(modelo_hiperp, receita, resamples = crossval)\n",
        "ajuste_rpart |> collect_metrics()\n"
      ]
    },
    {
      "cell_type": "code",
      "execution_count": 31,
      "metadata": {
        "colab": {
          "base_uri": "https://localhost:8080/",
          "height": 161
        },
        "id": "D6hW6ezc4BSn",
        "outputId": "65f3a570-92ff-47d4-ae2c-2c2e9e429571"
      },
      "outputs": [
        {
          "output_type": "display_data",
          "data": {
            "text/html": [
              "<table class=\"dataframe\">\n",
              "<caption>A tibble: 2 × 6</caption>\n",
              "<thead>\n",
              "\t<tr><th scope=col>.metric</th><th scope=col>.estimator</th><th scope=col>mean</th><th scope=col>n</th><th scope=col>std_err</th><th scope=col>.config</th></tr>\n",
              "\t<tr><th scope=col>&lt;chr&gt;</th><th scope=col>&lt;chr&gt;</th><th scope=col>&lt;dbl&gt;</th><th scope=col>&lt;int&gt;</th><th scope=col>&lt;dbl&gt;</th><th scope=col>&lt;chr&gt;</th></tr>\n",
              "</thead>\n",
              "<tbody>\n",
              "\t<tr><td>accuracy</td><td>binary</td><td>0.9262938</td><td>5</td><td>0.003758589</td><td>Preprocessor1_Model1</td></tr>\n",
              "\t<tr><td>roc_auc </td><td>binary</td><td>0.5000000</td><td>5</td><td>0.000000000</td><td>Preprocessor1_Model1</td></tr>\n",
              "</tbody>\n",
              "</table>\n"
            ],
            "text/markdown": "\nA tibble: 2 × 6\n\n| .metric &lt;chr&gt; | .estimator &lt;chr&gt; | mean &lt;dbl&gt; | n &lt;int&gt; | std_err &lt;dbl&gt; | .config &lt;chr&gt; |\n|---|---|---|---|---|---|\n| accuracy | binary | 0.9262938 | 5 | 0.003758589 | Preprocessor1_Model1 |\n| roc_auc  | binary | 0.5000000 | 5 | 0.000000000 | Preprocessor1_Model1 |\n\n",
            "text/latex": "A tibble: 2 × 6\n\\begin{tabular}{llllll}\n .metric & .estimator & mean & n & std\\_err & .config\\\\\n <chr> & <chr> & <dbl> & <int> & <dbl> & <chr>\\\\\n\\hline\n\t accuracy & binary & 0.9262938 & 5 & 0.003758589 & Preprocessor1\\_Model1\\\\\n\t roc\\_auc  & binary & 0.5000000 & 5 & 0.000000000 & Preprocessor1\\_Model1\\\\\n\\end{tabular}\n",
            "text/plain": [
              "  .metric  .estimator mean      n std_err     .config             \n",
              "1 accuracy binary     0.9262938 5 0.003758589 Preprocessor1_Model1\n",
              "2 roc_auc  binary     0.5000000 5 0.000000000 Preprocessor1_Model1"
            ]
          },
          "metadata": {}
        }
      ],
      "source": [
        "\n",
        "crossval <- vfold_cv(dados_treino, v = 5) #5 é a divisão de subgrupos amostrais. Quanto maior o número de folds, mais dados para treino e menos para teste, a custo de alta demanda de recursos computacionais. Neste caso, 4 partes da subamostra serão para treino e 1 para validação. Por meio deste procedimento, é possível efetuar cálculos como média e desvio padrão, facilitando a análise de qualidade do modelo Qnesta configuração de hiperparâmetros.O melhor resultado entre os hiperparâmetros dos subgrupos será adotado para testa da base toda.\n",
        "\n",
        "\n",
        "ajuste_rpart  <- fit_resamples(modelo_hiperp, receita, resamples = crossval)\n",
        "ajuste_rpart |> collect_metrics()\n",
        "\n",
        "\n",
        "#*****RESULTADOS TESTE COM HIPERPARÂMETROS E CROSSVALIDATION**************\n",
        "\n",
        "#accuracy\t0.92\n",
        "#kap\t0.50\n",
        "\n",
        "#*************************************************************************\n",
        "\n"
      ]
    },
    {
      "cell_type": "code",
      "execution_count": 32,
      "metadata": {
        "colab": {
          "base_uri": "https://localhost:8080/",
          "height": 161
        },
        "id": "MXMsGBlv4EZd",
        "outputId": "5f80295b-6235-47ef-9c60-168783e26f21"
      },
      "outputs": [
        {
          "output_type": "display_data",
          "data": {
            "text/html": [
              "<table class=\"dataframe\">\n",
              "<caption>A tibble: 2 × 4</caption>\n",
              "<thead>\n",
              "\t<tr><th scope=col>.metric</th><th scope=col>.estimator</th><th scope=col>.estimate</th><th scope=col>.config</th></tr>\n",
              "\t<tr><th scope=col>&lt;chr&gt;</th><th scope=col>&lt;chr&gt;</th><th scope=col>&lt;dbl&gt;</th><th scope=col>&lt;chr&gt;</th></tr>\n",
              "</thead>\n",
              "<tbody>\n",
              "\t<tr><td>accuracy</td><td>binary</td><td>0.9580307</td><td>Preprocessor1_Model1</td></tr>\n",
              "\t<tr><td>roc_auc </td><td>binary</td><td>0.8108615</td><td>Preprocessor1_Model1</td></tr>\n",
              "</tbody>\n",
              "</table>\n"
            ],
            "text/markdown": "\nA tibble: 2 × 4\n\n| .metric &lt;chr&gt; | .estimator &lt;chr&gt; | .estimate &lt;dbl&gt; | .config &lt;chr&gt; |\n|---|---|---|---|\n| accuracy | binary | 0.9580307 | Preprocessor1_Model1 |\n| roc_auc  | binary | 0.8108615 | Preprocessor1_Model1 |\n\n",
            "text/latex": "A tibble: 2 × 4\n\\begin{tabular}{llll}\n .metric & .estimator & .estimate & .config\\\\\n <chr> & <chr> & <dbl> & <chr>\\\\\n\\hline\n\t accuracy & binary & 0.9580307 & Preprocessor1\\_Model1\\\\\n\t roc\\_auc  & binary & 0.8108615 & Preprocessor1\\_Model1\\\\\n\\end{tabular}\n",
            "text/plain": [
              "  .metric  .estimator .estimate .config             \n",
              "1 accuracy binary     0.9580307 Preprocessor1_Model1\n",
              "2 roc_auc  binary     0.8108615 Preprocessor1_Model1"
            ]
          },
          "metadata": {}
        }
      ],
      "source": [
        "fit_modelo <- decision_tree(mode = \"classification\", \n",
        "                           engine = \"rpart\",\n",
        "                           cost_complexity = tune(), #hiperparametros, mínimo. Só será aplicado se servir para mitigar o risco de erros e reduzir o tamanho da árvore.\n",
        "                           min_n = tune()) #número mínimo de exemplos para definir uma classificação\n",
        "\n",
        "grade_parametros <- grid_regular(cost_complexity(), min_n())\n",
        "\n",
        "#Aplicação do modelo na base de teste com cross validation base de treino\n",
        "wf <- workflow() |> add_model(fit_modelo) |> add_formula(aeronave_fatalidades_total ~ . )\n",
        "crossval <- vfold_cv(dados_treino, v = 5)\n",
        "grade_ajustada <- tune_grid(wf, resamples = crossval, grid = grade_parametros)\n",
        "\n",
        "# Tuning results\n",
        "# 5-fold cross-validation \n",
        "\n",
        "melhor_wf <- select_best(grade_ajustada, metric = \"accuracy\")\n",
        "melhor_wf <- wf |> finalize_workflow(melhor_wf)\n",
        "\n",
        "# \n",
        "# #══ Workflow ═══════════════════════════════════════════════════════════════════════════════════════\n",
        "# Preprocessor: Formula\n",
        "# Model: decision_tree()\n",
        "# \n",
        "# ── Preprocessor ───────────────────────────────────────────────────────────────────────────────────\n",
        "# aeronave_fatalidades_total ~ .\n",
        "# \n",
        "# ── Model ──────────────────────────────────────────────────────────────────────────────────────────\n",
        "# Decision Tree Model Specification (classification)\n",
        "# \n",
        "# Main Arguments:\n",
        "#   cost_complexity = 0.1\n",
        "#   min_n = 2\n",
        "# \n",
        "# Computational engine: rpart \n",
        "\n",
        "ajuste_final <- melhor_wf |> last_fit(data_split)\n",
        "ajuste_final |> collect_metrics()\n",
        "\n",
        "\n",
        "\n",
        "#***********************RESULTADOS TESTE COM O MELHOR WORKFLOW PELO TUNE**************\n",
        "\n",
        "# accuracy 0.9515738\n",
        "# roc_auc 0.7559330\n",
        "\n",
        "#*************************************************************************\n"
      ]
    }
  ],
  "metadata": {
    "accelerator": "GPU",
    "colab": {
      "collapsed_sections": [],
      "provenance": [],
      "authorship_tag": "ABX9TyODltYMLBt82x+Z9ioAF8LF",
      "include_colab_link": true
    },
    "kernelspec": {
      "display_name": "R",
      "name": "ir"
    },
    "language_info": {
      "name": "R"
    }
  },
  "nbformat": 4,
  "nbformat_minor": 0
}